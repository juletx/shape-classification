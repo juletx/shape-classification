{
 "cells": [
  {
   "cell_type": "markdown",
   "metadata": {
    "id": "hGg1vOAhXHOn"
   },
   "source": [
    "# Project 59: Shape Classification\n",
    "\n",
    "## Authors: Julen Etxaniz and Ibon Urbina\n",
    "\n",
    "## Subject: Machine Learning and Neural Networks\n",
    "\n",
    "## Date: 25/10/2020\n",
    "\n",
    "## Objective: The goal of the project is to compare different classification algorithms on the solution of plane and car shape datasets. \n",
    "\n",
    "## Contents: \n",
    "### [1.Importing the libraries](#1.-Importing-the-libraries)\n",
    "### [2.Reading the datasets](#2.-Reading-the-datasets)\n",
    "### [3.Preprocessing the datasets](#3.-Preprocessing-the-datasets)\n",
    "### [4.Dividing train and test data](#4.-Dividing-train-and-test-data)\n",
    "### [5.Scaling the data](#5.-Scaling-the-data)\n",
    "### [6.Classification](#6.-Classification)\n",
    "### [7.Validation](#7.-Validation)\n",
    "### [8.Feature Selection](#8.-Feature-Selection)\n",
    "### [9.Feature Engineering](#9.-Feature-Engineering)\n",
    "### [10.Pipeline Optimization](#10.-Pipeline-Optimization)"
   ]
  },
  {
   "cell_type": "markdown",
   "metadata": {
    "id": "MG9Sa_dtXHOo"
   },
   "source": [
    "# 1. Importing the libraries\n",
    " We start by importing all relevant libraries to be used in the notebook.\n",
    "    "
   ]
  },
  {
   "cell_type": "code",
   "execution_count": 114,
   "metadata": {
    "id": "Yyc03UBFXHOp"
   },
   "outputs": [],
   "source": [
    "# Reading data\n",
    "from os import listdir\n",
    "from scipy.io import loadmat\n",
    "from re import findall\n",
    "\n",
    "# Preprocessing\n",
    "import pandas as pd\n",
    "import numpy as np\n",
    "\n",
    "# Scaling\n",
    "from sklearn.preprocessing import StandardScaler\n",
    "\n",
    "# Classification\n",
    "from sklearn.tree import DecisionTreeClassifier\n",
    "from sklearn.discriminant_analysis import LinearDiscriminantAnalysis\n",
    "from sklearn.linear_model import LogisticRegression\n",
    "\n",
    "# Validation\n",
    "from sklearn.metrics import accuracy_score\n",
    "\n",
    "# Feature Selection\n",
    "from sklearn.feature_selection import SelectKBest, chi2, f_classif, SelectFromModel\n",
    "from sklearn.ensemble import RandomForestClassifier\n",
    "\n",
    "# Feature Extraction\n",
    "from sklearn.decomposition import PCA\n",
    "from sklearn.manifold import TSNE\n",
    "from sklearn.discriminant_analysis import LinearDiscriminantAnalysis\n",
    "\n",
    "# Pipeline Optimization\n",
    "from tpot import TPOTClassifier\n",
    "\n",
    "# Plotting\n",
    "import matplotlib.pyplot as plt\n",
    "from mpl_toolkits.mplot3d import Axes3D\n",
    "\n",
    "# Enables interaction with the plots\n",
    "%matplotlib inline\n",
    "\n",
    "# Images\n",
    "from IPython.display import Image\n",
    "\n",
    "import warnings\n",
    "warnings.filterwarnings('ignore')"
   ]
  },
  {
   "cell_type": "markdown",
   "metadata": {
    "id": "_51C9mUlXHO2"
   },
   "source": [
    "# 2. Reading the datasets\n",
    "We read the plane and car datasets"
   ]
  },
  {
   "cell_type": "markdown",
   "metadata": {},
   "source": [
    "We use this function to read all the mats of the given directory."
   ]
  },
  {
   "cell_type": "code",
   "execution_count": 3,
   "metadata": {
    "id": "mDbAKrPMbZZA"
   },
   "outputs": [],
   "source": [
    "def read_mats(dir):\n",
    "    mats = []\n",
    "    mats_file_name = []\n",
    "\n",
    "    files = listdir(dir)\n",
    "    # Files ordered before appending to maintain same order\n",
    "    sorted_files = sorted(files)\n",
    "    for file in sorted_files:\n",
    "        mats.append(loadmat(dir + file))\n",
    "        # To know in which order are we reading the files\n",
    "        mats_file_name.append(file)\n",
    "    \n",
    "    return mats, mats_file_name"
   ]
  },
  {
   "cell_type": "markdown",
   "metadata": {
    "id": "uMi6vaaDbZZF"
   },
   "source": [
    "## 2.1. Reading the plane dataset\n",
    "We read the 210 files that contain the instances of the plane classification problem.\n",
    "\n",
    "We concatenate all the instances in a unique dataframe called \"plane_mats\"."
   ]
  },
  {
   "cell_type": "code",
   "execution_count": 4,
   "metadata": {
    "id": "zo31q5cwXHO3"
   },
   "outputs": [],
   "source": [
    "plane_dir = \"shape_data/plane_data/\"\n",
    "plane_mats, plane_mats_file_name = read_mats(plane_dir)"
   ]
  },
  {
   "cell_type": "markdown",
   "metadata": {
    "id": "WykGUAkPXHPE"
   },
   "source": [
    "We check the dataset is correct, looking at the number of samples"
   ]
  },
  {
   "cell_type": "code",
   "execution_count": 5,
   "metadata": {
    "id": "b3Wt7DtuXHPG",
    "outputId": "d1b01efa-953d-4eac-8123-0c121df1f490"
   },
   "outputs": [
    {
     "name": "stdout",
     "output_type": "stream",
     "text": [
      "The number of samples in the plane dataset is 210\n"
     ]
    }
   ],
   "source": [
    "print('The number of samples in the plane dataset is', len(plane_mats))"
   ]
  },
  {
   "cell_type": "markdown",
   "metadata": {
    "id": "boR7G2HMbZZY"
   },
   "source": [
    "## 2.2. Reading the car dataset\n",
    "We read the 120 files that contain the instances of the car classification problem.\n",
    "\n",
    "We concatenate all the instances in a unique dataframe called \"car_mats\""
   ]
  },
  {
   "cell_type": "code",
   "execution_count": 6,
   "metadata": {
    "id": "qP1TxbsgbZZZ"
   },
   "outputs": [],
   "source": [
    "car_dir = \"shape_data/car_data/\"\n",
    "car_mats, car_mats_file_name = read_mats(car_dir)"
   ]
  },
  {
   "cell_type": "markdown",
   "metadata": {
    "id": "4K6dJijVbZZe"
   },
   "source": [
    "We check the dataset is correct, looking at the number of samples"
   ]
  },
  {
   "cell_type": "code",
   "execution_count": 7,
   "metadata": {
    "id": "scpmld80bZZe",
    "outputId": "d1b01efa-953d-4eac-8123-0c121df1f490",
    "scrolled": true
   },
   "outputs": [
    {
     "name": "stdout",
     "output_type": "stream",
     "text": [
      "The number of samples in the car dataset is 120\n"
     ]
    }
   ],
   "source": [
    "print('The number of samples in the car dataset is', len(car_mats))"
   ]
  },
  {
   "cell_type": "markdown",
   "metadata": {
    "id": "Qs8zaZ9TbZZj"
   },
   "source": [
    "# 3. Preprocessing the datasets"
   ]
  },
  {
   "cell_type": "markdown",
   "metadata": {
    "id": "79-JO9uMbZZj"
   },
   "source": [
    "### Create dataframe\n",
    "One of the best ways to represent data are pandas DataFrames. Either for their flexibility and eassy management of information. That's what we are going to do in the next cell: convert the list where we read all the data to a DataFrame."
   ]
  },
  {
   "cell_type": "code",
   "execution_count": 8,
   "metadata": {
    "id": "atXEc2AGXHPM"
   },
   "outputs": [],
   "source": [
    "def get_dataframe(mats):\n",
    "    df = pd.DataFrame(mats)\n",
    "    # Remove unnecessary columns\n",
    "    df = df.drop(['__header__', '__version__', '__globals__'], axis=1)\n",
    "    return df"
   ]
  },
  {
   "cell_type": "markdown",
   "metadata": {
    "id": "1mpwsTBMbZZo"
   },
   "source": [
    "### Get class and sample numbers"
   ]
  },
  {
   "cell_type": "code",
   "execution_count": 9,
   "metadata": {
    "id": "kw3upVE-bZZp"
   },
   "outputs": [],
   "source": [
    "# Remember we have the names of the files read (in order) in our list called \n",
    "# Lets divide that array in two arrays. One containing the class number and the other the sample number.\n",
    "def get_samples_classes(mats_file_name):\n",
    "    class_n = []\n",
    "    sample_n = []\n",
    "\n",
    "    for i in mats_file_name:\n",
    "        class_n.append(int(findall(r'\\d+', str(i))[0]))\n",
    "        sample_n.append(int(findall(r'\\d+', str(i))[1]))\n",
    "    \n",
    "    return class_n, sample_n"
   ]
  },
  {
   "cell_type": "code",
   "execution_count": 10,
   "metadata": {
    "id": "Ia9b5xpZbZZs"
   },
   "outputs": [],
   "source": [
    "# Add sample and class numbers to dataframe\n",
    "def add_samples_classes(df, class_n, sample_n):\n",
    "    df['Class'] = class_n\n",
    "    df['Sample'] = sample_n"
   ]
  },
  {
   "cell_type": "markdown",
   "metadata": {
    "id": "4b9GGG53bZZw"
   },
   "source": [
    "### Check if classes are balanced"
   ]
  },
  {
   "cell_type": "code",
   "execution_count": 11,
   "metadata": {
    "id": "l36Ab3N-bZZx"
   },
   "outputs": [],
   "source": [
    "# Print the number of samples in each class\n",
    "def print_class_count(df):\n",
    "    print(\"Quantity of samples in each class:\")\n",
    "    print(df['Class'].value_counts())"
   ]
  },
  {
   "cell_type": "markdown",
   "metadata": {
    "id": "cxTjBHWNbZZ2"
   },
   "source": [
    "### Add another feature"
   ]
  },
  {
   "cell_type": "code",
   "execution_count": 12,
   "metadata": {
    "id": "euoPJvK2bZZ3"
   },
   "outputs": [],
   "source": [
    "# Calculate the perimeter (number of points) and add it to dataframe\n",
    "def add_perimeter(df):\n",
    "    length_list = []\n",
    "    for i in range(len(df)):\n",
    "        length_list.append(len(df['x'][i]))\n",
    "\n",
    "    df['Perimeter_length'] = length_list\n",
    "    \n",
    "    return df"
   ]
  },
  {
   "cell_type": "markdown",
   "metadata": {
    "id": "cKBFPp4abZZ7"
   },
   "source": [
    "### Changing how x feature is represented"
   ]
  },
  {
   "cell_type": "markdown",
   "metadata": {
    "id": "a7k8wAGXbZaz"
   },
   "source": [
    "When learning a classifier is useful to have features as arrays of numbers, and not as arrays of sequences. In our case, x is an array of (x, y) coordinates; so we are going to separate x and y, an then create two extra features from there."
   ]
  },
  {
   "cell_type": "code",
   "execution_count": 13,
   "metadata": {
    "id": "lQHhh-iAbZZ7"
   },
   "outputs": [],
   "source": [
    "# Calculate the minimum perimeter length\n",
    "def min_length(df):\n",
    "    return min(df['Perimeter_length'][i] for i in range(len(df['Perimeter_length'])))"
   ]
  },
  {
   "cell_type": "code",
   "execution_count": 14,
   "metadata": {
    "id": "CBit6lyQbZZ_"
   },
   "outputs": [],
   "source": [
    "# Separate x and y coordinates and normalize number of coordinates to min_length\n",
    "def separate_coordinates(df, min_length):\n",
    "    x_coordinates = []\n",
    "    y_coordinates = []\n",
    "\n",
    "    for i in range(len(df['x'])):\n",
    "        x_coordinates.append(np.resize((df['x'][i])[:,0], (min_length, 1)))\n",
    "        y_coordinates.append(np.resize((df['x'][i])[:,1], (min_length, 1)))\n",
    "    \n",
    "    return x_coordinates, y_coordinates"
   ]
  },
  {
   "cell_type": "code",
   "execution_count": 15,
   "metadata": {
    "id": "grZ2eXK2bZaC"
   },
   "outputs": [],
   "source": [
    "# Get column stacks from x and y coordinate arrays\n",
    "def get_stacks(x_coordinates, y_coordinates):\n",
    "    x_stack = x_coordinates[0]\n",
    "    y_stack = y_coordinates[0]\n",
    "    \n",
    "    for i in range(len(x_coordinates)-1):\n",
    "        x_stack = np.column_stack((x_stack, x_coordinates[i+1]))\n",
    "        y_stack = np.column_stack((y_stack, y_coordinates[i+1]))\n",
    "    \n",
    "    return x_stack, y_stack"
   ]
  },
  {
   "cell_type": "code",
   "execution_count": 16,
   "metadata": {
    "id": "C-NV5Y1BbZaG"
   },
   "outputs": [],
   "source": [
    "# Insert those columns in the dataFrame with the point name\n",
    "def insert_columns(df, x_stack, y_stack):\n",
    "    for i in range(len(x_stack)):\n",
    "        stringX = \"x\" + str(i)\n",
    "        stringY = \"y\" + str(i)\n",
    "        df[stringX] = x_stack[i]\n",
    "        df[stringY] = y_stack[i]\n",
    "        \n",
    "    return df"
   ]
  },
  {
   "cell_type": "markdown",
   "metadata": {
    "id": "SkYXHepZbZaK"
   },
   "source": [
    "### Preparing data for classification\n",
    "To learn the classifiers, we need to separate in two different sets the features and the classes. "
   ]
  },
  {
   "cell_type": "code",
   "execution_count": 17,
   "metadata": {
    "id": "pIE6VoXMbZaL"
   },
   "outputs": [],
   "source": [
    "# The selected features are: 'Perimeter_length', 'xJ' and 'yJ'\n",
    "# Then we are going to put all Classes in a unique structure.\n",
    "def get_features_target(df):\n",
    "    features = df.drop(columns=['x', 'Class', 'Sample'])\n",
    "    target = df['Class']\n",
    "    \n",
    "    return features, target"
   ]
  },
  {
   "cell_type": "markdown",
   "metadata": {
    "id": "9MJ8lJoYXHPL"
   },
   "source": [
    "## 3.1. Preprocessing the plane dataset\n",
    "\n",
    "In this problem there are four classes that correspond to the 7 types of planes: (a) Mirage, (b) Eurofighter, (c) F-14 wings closed, (d) F-14 wings opened, (e) Harrier, (f) F-22, (g) F-15. However, in the database files are written like this: \"ClassX_SampleY.mat\", where X is the corresponding class number and Y the corresponding sample number. \n",
    "\n",
    "Here is the correspondance of class number and class name (plane model name):\n",
    "* 1 = Mirage\n",
    "* 2 = Eurofighter\n",
    "* 3 = F-14 wings closed\n",
    "* 4 = F-14 wings opened\n",
    "* 5 = Harrier\n",
    "* 6 = F-22\n",
    "* 7 = F-15"
   ]
  },
  {
   "cell_type": "code",
   "execution_count": 18,
   "metadata": {},
   "outputs": [
    {
     "data": {
      "image/png": "[encoded data removed]",
      "text/plain": [
       "<IPython.core.display.Image object>"
      ]
     },
     "execution_count": 18,
     "metadata": {},
     "output_type": "execute_result"
    }
   ],
   "source": [
    "Image(filename='shape_plane.png')"
   ]
  },
  {
   "cell_type": "markdown",
   "metadata": {
    "id": "qVb5eDUWbZaP"
   },
   "source": [
    "### Create dataframe"
   ]
  },
  {
   "cell_type": "code",
   "execution_count": 19,
   "metadata": {
    "id": "8n2TIfL6bZaP",
    "outputId": "3c21b22e-fff9-4f88-bb7b-3f31e2c5d1c4"
   },
   "outputs": [
    {
     "data": {
      "text/html": [
       "<div>\n",
       "<style scoped>\n",
       "    .dataframe tbody tr th:only-of-type {\n",
       "        vertical-align: middle;\n",
       "    }\n",
       "\n",
       "    .dataframe tbody tr th {\n",
       "        vertical-align: top;\n",
       "    }\n",
       "\n",
       "    .dataframe thead th {\n",
       "        text-align: right;\n",
       "    }\n",
       "</style>\n",
       "<table border=\"1\" class=\"dataframe\">\n",
       "  <thead>\n",
       "    <tr style=\"text-align: right;\">\n",
       "      <th></th>\n",
       "      <th>x</th>\n",
       "    </tr>\n",
       "  </thead>\n",
       "  <tbody>\n",
       "    <tr>\n",
       "      <th>0</th>\n",
       "      <td>[[64, 235], [65, 234], [66, 234], [67, 234], [...</td>\n",
       "    </tr>\n",
       "    <tr>\n",
       "      <th>1</th>\n",
       "      <td>[[60, 139], [61, 138], [62, 137], [63, 137], [...</td>\n",
       "    </tr>\n",
       "    <tr>\n",
       "      <th>2</th>\n",
       "      <td>[[60, 219], [61, 218], [62, 217], [63, 217], [...</td>\n",
       "    </tr>\n",
       "    <tr>\n",
       "      <th>3</th>\n",
       "      <td>[[54, 201], [55, 200], [55, 199], [56, 198], [...</td>\n",
       "    </tr>\n",
       "    <tr>\n",
       "      <th>4</th>\n",
       "      <td>[[64, 275], [65, 274], [66, 274], [67, 274], [...</td>\n",
       "    </tr>\n",
       "    <tr>\n",
       "      <th>...</th>\n",
       "      <td>...</td>\n",
       "    </tr>\n",
       "    <tr>\n",
       "      <th>205</th>\n",
       "      <td>[[33, 234], [34, 233], [35, 232], [36, 231], [...</td>\n",
       "    </tr>\n",
       "    <tr>\n",
       "      <th>206</th>\n",
       "      <td>[[21, 155], [22, 154], [23, 153], [24, 152], [...</td>\n",
       "    </tr>\n",
       "    <tr>\n",
       "      <th>207</th>\n",
       "      <td>[[45, 324], [46, 323], [47, 322], [48, 321], [...</td>\n",
       "    </tr>\n",
       "    <tr>\n",
       "      <th>208</th>\n",
       "      <td>[[70, 255], [71, 254], [72, 254], [73, 253], [...</td>\n",
       "    </tr>\n",
       "    <tr>\n",
       "      <th>209</th>\n",
       "      <td>[[48, 233], [49, 232], [49, 231], [50, 230], [...</td>\n",
       "    </tr>\n",
       "  </tbody>\n",
       "</table>\n",
       "<p>210 rows × 1 columns</p>\n",
       "</div>"
      ],
      "text/plain": [
       "                                                     x\n",
       "0    [[64, 235], [65, 234], [66, 234], [67, 234], [...\n",
       "1    [[60, 139], [61, 138], [62, 137], [63, 137], [...\n",
       "2    [[60, 219], [61, 218], [62, 217], [63, 217], [...\n",
       "3    [[54, 201], [55, 200], [55, 199], [56, 198], [...\n",
       "4    [[64, 275], [65, 274], [66, 274], [67, 274], [...\n",
       "..                                                 ...\n",
       "205  [[33, 234], [34, 233], [35, 232], [36, 231], [...\n",
       "206  [[21, 155], [22, 154], [23, 153], [24, 152], [...\n",
       "207  [[45, 324], [46, 323], [47, 322], [48, 321], [...\n",
       "208  [[70, 255], [71, 254], [72, 254], [73, 253], [...\n",
       "209  [[48, 233], [49, 232], [49, 231], [50, 230], [...\n",
       "\n",
       "[210 rows x 1 columns]"
      ]
     },
     "execution_count": 19,
     "metadata": {},
     "output_type": "execute_result"
    }
   ],
   "source": [
    "plane_df = get_dataframe(plane_mats)\n",
    "plane_df"
   ]
  },
  {
   "cell_type": "markdown",
   "metadata": {
    "id": "PpIHZ-4zbZaU"
   },
   "source": [
    "### Get class and sample numbers"
   ]
  },
  {
   "cell_type": "code",
   "execution_count": 20,
   "metadata": {
    "id": "dZvPA-FdbZaU"
   },
   "outputs": [],
   "source": [
    "plane_class_n, plane_sample_n = get_samples_classes(plane_mats_file_name)"
   ]
  },
  {
   "cell_type": "code",
   "execution_count": 21,
   "metadata": {
    "id": "lSGPEzv7bZaX",
    "outputId": "9ea9f18b-7cc6-4f2d-f6a2-18aca2cb6b6f",
    "scrolled": true
   },
   "outputs": [
    {
     "name": "stdout",
     "output_type": "stream",
     "text": [
      "This is how our class_n looks like: \n",
      "\n"
     ]
    },
    {
     "data": {
      "text/plain": [
       "array([1, 1, 1, 1, 1, 1, 1, 1, 1, 1, 1, 1, 1, 1, 1, 1, 1, 1, 1, 1, 1, 1,\n",
       "       1, 1, 1, 1, 1, 1, 1, 1, 2, 2, 2, 2, 2, 2, 2, 2, 2, 2, 2, 2, 2, 2,\n",
       "       2, 2, 2, 2, 2, 2, 2, 2, 2, 2, 2, 2, 2, 2, 2, 2, 3, 3, 3, 3, 3, 3,\n",
       "       3, 3, 3, 3, 3, 3, 3, 3, 3, 3, 3, 3, 3, 3, 3, 3, 3, 3, 3, 3, 3, 3,\n",
       "       3, 3, 4, 4, 4, 4, 4, 4, 4, 4, 4, 4, 4, 4, 4, 4, 4, 4, 4, 4, 4, 4,\n",
       "       4, 4, 4, 4, 4, 4, 4, 4, 4, 4, 5, 5, 5, 5, 5, 5, 5, 5, 5, 5, 5, 5,\n",
       "       5, 5, 5, 5, 5, 5, 5, 5, 5, 5, 5, 5, 5, 5, 5, 5, 5, 5, 6, 6, 6, 6,\n",
       "       6, 6, 6, 6, 6, 6, 6, 6, 6, 6, 6, 6, 6, 6, 6, 6, 6, 6, 6, 6, 6, 6,\n",
       "       6, 6, 6, 6, 7, 7, 7, 7, 7, 7, 7, 7, 7, 7, 7, 7, 7, 7, 7, 7, 7, 7,\n",
       "       7, 7, 7, 7, 7, 7, 7, 7, 7, 7, 7, 7])"
      ]
     },
     "execution_count": 21,
     "metadata": {},
     "output_type": "execute_result"
    }
   ],
   "source": [
    "print(\"This is how our class_n looks like: \\n\")\n",
    "np.array(plane_class_n)"
   ]
  },
  {
   "cell_type": "code",
   "execution_count": 22,
   "metadata": {
    "id": "1kPRS4zDbZac",
    "outputId": "8ed8a34d-030c-4c83-ad10-c2fd84503ba2",
    "scrolled": true
   },
   "outputs": [
    {
     "name": "stdout",
     "output_type": "stream",
     "text": [
      "This is how our sample_n looks like: \n",
      "\n"
     ]
    },
    {
     "data": {
      "text/plain": [
       "array([ 1, 10, 11, 12, 13, 14, 15, 16, 17, 18, 19,  2, 20, 21, 22, 23, 24,\n",
       "       25, 26, 27, 28, 29,  3, 30,  4,  5,  6,  7,  8,  9,  1, 10, 11, 12,\n",
       "       13, 14, 15, 16, 17, 18, 19,  2, 20, 21, 22, 23, 24, 25, 26, 27, 28,\n",
       "       29,  3, 30,  4,  5,  6,  7,  8,  9,  1, 10, 11, 12, 13, 14, 15, 16,\n",
       "       17, 18, 19,  2, 20, 21, 22, 23, 24, 25, 26, 27, 28, 29,  3, 30,  4,\n",
       "        5,  6,  7,  8,  9,  1, 10, 11, 12, 13, 14, 15, 16, 17, 18, 19,  2,\n",
       "       20, 21, 22, 23, 24, 25, 26, 27, 28, 29,  3, 30,  4,  5,  6,  7,  8,\n",
       "        9,  1, 10, 11, 12, 13, 14, 15, 16, 17, 18, 19,  2, 20, 21, 22, 23,\n",
       "       24, 25, 26, 27, 28, 29,  3, 30,  4,  5,  6,  7,  8,  9,  1, 10, 11,\n",
       "       12, 13, 14, 15, 16, 17, 18, 19,  2, 20, 21, 22, 23, 24, 25, 26, 27,\n",
       "       28, 29,  3, 30,  4,  5,  6,  7,  8,  9,  1, 10, 11, 12, 13, 14, 15,\n",
       "       16, 17, 18, 19,  2, 20, 21, 22, 23, 24, 25, 26, 27, 28, 29,  3, 30,\n",
       "        4,  5,  6,  7,  8,  9])"
      ]
     },
     "execution_count": 22,
     "metadata": {},
     "output_type": "execute_result"
    }
   ],
   "source": [
    "print(\"This is how our sample_n looks like: \\n\")\n",
    "np.array(plane_sample_n)"
   ]
  },
  {
   "cell_type": "markdown",
   "metadata": {
    "id": "q-3qXYYAbZaf"
   },
   "source": [
    "Lets add those lists to the car DataFrame."
   ]
  },
  {
   "cell_type": "code",
   "execution_count": 23,
   "metadata": {
    "id": "omkcVQY3bZah",
    "outputId": "487c59f8-dd4e-4729-aa01-bc1890424ec7",
    "scrolled": true
   },
   "outputs": [
    {
     "name": "stdout",
     "output_type": "stream",
     "text": [
      "This is, finally, how our plane dataFrame looks like: \n",
      "\n"
     ]
    },
    {
     "data": {
      "text/html": [
       "<div>\n",
       "<style scoped>\n",
       "    .dataframe tbody tr th:only-of-type {\n",
       "        vertical-align: middle;\n",
       "    }\n",
       "\n",
       "    .dataframe tbody tr th {\n",
       "        vertical-align: top;\n",
       "    }\n",
       "\n",
       "    .dataframe thead th {\n",
       "        text-align: right;\n",
       "    }\n",
       "</style>\n",
       "<table border=\"1\" class=\"dataframe\">\n",
       "  <thead>\n",
       "    <tr style=\"text-align: right;\">\n",
       "      <th></th>\n",
       "      <th>x</th>\n",
       "      <th>Class</th>\n",
       "      <th>Sample</th>\n",
       "    </tr>\n",
       "  </thead>\n",
       "  <tbody>\n",
       "    <tr>\n",
       "      <th>0</th>\n",
       "      <td>[[64, 235], [65, 234], [66, 234], [67, 234], [...</td>\n",
       "      <td>1</td>\n",
       "      <td>1</td>\n",
       "    </tr>\n",
       "    <tr>\n",
       "      <th>1</th>\n",
       "      <td>[[60, 139], [61, 138], [62, 137], [63, 137], [...</td>\n",
       "      <td>1</td>\n",
       "      <td>10</td>\n",
       "    </tr>\n",
       "    <tr>\n",
       "      <th>2</th>\n",
       "      <td>[[60, 219], [61, 218], [62, 217], [63, 217], [...</td>\n",
       "      <td>1</td>\n",
       "      <td>11</td>\n",
       "    </tr>\n",
       "    <tr>\n",
       "      <th>3</th>\n",
       "      <td>[[54, 201], [55, 200], [55, 199], [56, 198], [...</td>\n",
       "      <td>1</td>\n",
       "      <td>12</td>\n",
       "    </tr>\n",
       "    <tr>\n",
       "      <th>4</th>\n",
       "      <td>[[64, 275], [65, 274], [66, 274], [67, 274], [...</td>\n",
       "      <td>1</td>\n",
       "      <td>13</td>\n",
       "    </tr>\n",
       "    <tr>\n",
       "      <th>...</th>\n",
       "      <td>...</td>\n",
       "      <td>...</td>\n",
       "      <td>...</td>\n",
       "    </tr>\n",
       "    <tr>\n",
       "      <th>205</th>\n",
       "      <td>[[33, 234], [34, 233], [35, 232], [36, 231], [...</td>\n",
       "      <td>7</td>\n",
       "      <td>5</td>\n",
       "    </tr>\n",
       "    <tr>\n",
       "      <th>206</th>\n",
       "      <td>[[21, 155], [22, 154], [23, 153], [24, 152], [...</td>\n",
       "      <td>7</td>\n",
       "      <td>6</td>\n",
       "    </tr>\n",
       "    <tr>\n",
       "      <th>207</th>\n",
       "      <td>[[45, 324], [46, 323], [47, 322], [48, 321], [...</td>\n",
       "      <td>7</td>\n",
       "      <td>7</td>\n",
       "    </tr>\n",
       "    <tr>\n",
       "      <th>208</th>\n",
       "      <td>[[70, 255], [71, 254], [72, 254], [73, 253], [...</td>\n",
       "      <td>7</td>\n",
       "      <td>8</td>\n",
       "    </tr>\n",
       "    <tr>\n",
       "      <th>209</th>\n",
       "      <td>[[48, 233], [49, 232], [49, 231], [50, 230], [...</td>\n",
       "      <td>7</td>\n",
       "      <td>9</td>\n",
       "    </tr>\n",
       "  </tbody>\n",
       "</table>\n",
       "<p>210 rows × 3 columns</p>\n",
       "</div>"
      ],
      "text/plain": [
       "                                                     x  Class  Sample\n",
       "0    [[64, 235], [65, 234], [66, 234], [67, 234], [...      1       1\n",
       "1    [[60, 139], [61, 138], [62, 137], [63, 137], [...      1      10\n",
       "2    [[60, 219], [61, 218], [62, 217], [63, 217], [...      1      11\n",
       "3    [[54, 201], [55, 200], [55, 199], [56, 198], [...      1      12\n",
       "4    [[64, 275], [65, 274], [66, 274], [67, 274], [...      1      13\n",
       "..                                                 ...    ...     ...\n",
       "205  [[33, 234], [34, 233], [35, 232], [36, 231], [...      7       5\n",
       "206  [[21, 155], [22, 154], [23, 153], [24, 152], [...      7       6\n",
       "207  [[45, 324], [46, 323], [47, 322], [48, 321], [...      7       7\n",
       "208  [[70, 255], [71, 254], [72, 254], [73, 253], [...      7       8\n",
       "209  [[48, 233], [49, 232], [49, 231], [50, 230], [...      7       9\n",
       "\n",
       "[210 rows x 3 columns]"
      ]
     },
     "execution_count": 23,
     "metadata": {},
     "output_type": "execute_result"
    }
   ],
   "source": [
    "add_samples_classes(plane_df, plane_class_n, plane_sample_n)\n",
    "print(\"This is, finally, how our plane dataFrame looks like: \\n\")\n",
    "plane_df"
   ]
  },
  {
   "cell_type": "markdown",
   "metadata": {
    "id": "55K7n1WDbZak"
   },
   "source": [
    "### Classes are balanced? Yes"
   ]
  },
  {
   "cell_type": "markdown",
   "metadata": {
    "id": "w13RwBxZbZal"
   },
   "source": [
    "Although in the description of the database it is said that each class has 30 samples, to make sure about it we are going to count them."
   ]
  },
  {
   "cell_type": "code",
   "execution_count": 24,
   "metadata": {
    "id": "QmBqBNfJbZam",
    "outputId": "1423570c-40d7-41fc-f3af-7bd8fdea94c6",
    "scrolled": true
   },
   "outputs": [
    {
     "name": "stdout",
     "output_type": "stream",
     "text": [
      "Quantity of samples in each class:\n",
      "7    30\n",
      "6    30\n",
      "5    30\n",
      "4    30\n",
      "3    30\n",
      "2    30\n",
      "1    30\n",
      "Name: Class, dtype: int64\n"
     ]
    }
   ],
   "source": [
    "print_class_count(plane_df)"
   ]
  },
  {
   "cell_type": "markdown",
   "metadata": {
    "id": "fHqujgsJbZaq"
   },
   "source": [
    "### Add another feature"
   ]
  },
  {
   "cell_type": "markdown",
   "metadata": {
    "id": "tMdDrTprbZar"
   },
   "source": [
    "As we mentioned before, the only feature descriptor of the shapes is x, which refers to cartesian coordinates of each point on the perimeter of the shape. However, how many points are in each contour perimeter is not taken as a unique feature. It is implicitly measure in the length of each x sample, but, we prefer make it explicit."
   ]
  },
  {
   "cell_type": "code",
   "execution_count": 25,
   "metadata": {
    "id": "ltL3_TyPbZar"
   },
   "outputs": [],
   "source": [
    "plane_df = add_perimeter(plane_df)"
   ]
  },
  {
   "cell_type": "code",
   "execution_count": 26,
   "metadata": {
    "id": "GCFP2TwqbZau",
    "outputId": "6c30e78e-fe64-441c-8a95-141286d54b33",
    "scrolled": true
   },
   "outputs": [
    {
     "name": "stdout",
     "output_type": "stream",
     "text": [
      "This is how our plane dataFrame looks like: \n",
      "\n"
     ]
    },
    {
     "data": {
      "text/html": [
       "<div>\n",
       "<style scoped>\n",
       "    .dataframe tbody tr th:only-of-type {\n",
       "        vertical-align: middle;\n",
       "    }\n",
       "\n",
       "    .dataframe tbody tr th {\n",
       "        vertical-align: top;\n",
       "    }\n",
       "\n",
       "    .dataframe thead th {\n",
       "        text-align: right;\n",
       "    }\n",
       "</style>\n",
       "<table border=\"1\" class=\"dataframe\">\n",
       "  <thead>\n",
       "    <tr style=\"text-align: right;\">\n",
       "      <th></th>\n",
       "      <th>x</th>\n",
       "      <th>Class</th>\n",
       "      <th>Sample</th>\n",
       "      <th>Perimeter_length</th>\n",
       "    </tr>\n",
       "  </thead>\n",
       "  <tbody>\n",
       "    <tr>\n",
       "      <th>0</th>\n",
       "      <td>[[64, 235], [65, 234], [66, 234], [67, 234], [...</td>\n",
       "      <td>1</td>\n",
       "      <td>1</td>\n",
       "      <td>1433</td>\n",
       "    </tr>\n",
       "    <tr>\n",
       "      <th>1</th>\n",
       "      <td>[[60, 139], [61, 138], [62, 137], [63, 137], [...</td>\n",
       "      <td>1</td>\n",
       "      <td>10</td>\n",
       "      <td>1540</td>\n",
       "    </tr>\n",
       "    <tr>\n",
       "      <th>2</th>\n",
       "      <td>[[60, 219], [61, 218], [62, 217], [63, 217], [...</td>\n",
       "      <td>1</td>\n",
       "      <td>11</td>\n",
       "      <td>1587</td>\n",
       "    </tr>\n",
       "    <tr>\n",
       "      <th>3</th>\n",
       "      <td>[[54, 201], [55, 200], [55, 199], [56, 198], [...</td>\n",
       "      <td>1</td>\n",
       "      <td>12</td>\n",
       "      <td>1511</td>\n",
       "    </tr>\n",
       "    <tr>\n",
       "      <th>4</th>\n",
       "      <td>[[64, 275], [65, 274], [66, 274], [67, 274], [...</td>\n",
       "      <td>1</td>\n",
       "      <td>13</td>\n",
       "      <td>1489</td>\n",
       "    </tr>\n",
       "    <tr>\n",
       "      <th>...</th>\n",
       "      <td>...</td>\n",
       "      <td>...</td>\n",
       "      <td>...</td>\n",
       "      <td>...</td>\n",
       "    </tr>\n",
       "    <tr>\n",
       "      <th>205</th>\n",
       "      <td>[[33, 234], [34, 233], [35, 232], [36, 231], [...</td>\n",
       "      <td>7</td>\n",
       "      <td>5</td>\n",
       "      <td>1801</td>\n",
       "    </tr>\n",
       "    <tr>\n",
       "      <th>206</th>\n",
       "      <td>[[21, 155], [22, 154], [23, 153], [24, 152], [...</td>\n",
       "      <td>7</td>\n",
       "      <td>6</td>\n",
       "      <td>1943</td>\n",
       "    </tr>\n",
       "    <tr>\n",
       "      <th>207</th>\n",
       "      <td>[[45, 324], [46, 323], [47, 322], [48, 321], [...</td>\n",
       "      <td>7</td>\n",
       "      <td>7</td>\n",
       "      <td>1876</td>\n",
       "    </tr>\n",
       "    <tr>\n",
       "      <th>208</th>\n",
       "      <td>[[70, 255], [71, 254], [72, 254], [73, 253], [...</td>\n",
       "      <td>7</td>\n",
       "      <td>8</td>\n",
       "      <td>1661</td>\n",
       "    </tr>\n",
       "    <tr>\n",
       "      <th>209</th>\n",
       "      <td>[[48, 233], [49, 232], [49, 231], [50, 230], [...</td>\n",
       "      <td>7</td>\n",
       "      <td>9</td>\n",
       "      <td>1844</td>\n",
       "    </tr>\n",
       "  </tbody>\n",
       "</table>\n",
       "<p>210 rows × 4 columns</p>\n",
       "</div>"
      ],
      "text/plain": [
       "                                                     x  Class  Sample  \\\n",
       "0    [[64, 235], [65, 234], [66, 234], [67, 234], [...      1       1   \n",
       "1    [[60, 139], [61, 138], [62, 137], [63, 137], [...      1      10   \n",
       "2    [[60, 219], [61, 218], [62, 217], [63, 217], [...      1      11   \n",
       "3    [[54, 201], [55, 200], [55, 199], [56, 198], [...      1      12   \n",
       "4    [[64, 275], [65, 274], [66, 274], [67, 274], [...      1      13   \n",
       "..                                                 ...    ...     ...   \n",
       "205  [[33, 234], [34, 233], [35, 232], [36, 231], [...      7       5   \n",
       "206  [[21, 155], [22, 154], [23, 153], [24, 152], [...      7       6   \n",
       "207  [[45, 324], [46, 323], [47, 322], [48, 321], [...      7       7   \n",
       "208  [[70, 255], [71, 254], [72, 254], [73, 253], [...      7       8   \n",
       "209  [[48, 233], [49, 232], [49, 231], [50, 230], [...      7       9   \n",
       "\n",
       "     Perimeter_length  \n",
       "0                1433  \n",
       "1                1540  \n",
       "2                1587  \n",
       "3                1511  \n",
       "4                1489  \n",
       "..                ...  \n",
       "205              1801  \n",
       "206              1943  \n",
       "207              1876  \n",
       "208              1661  \n",
       "209              1844  \n",
       "\n",
       "[210 rows x 4 columns]"
      ]
     },
     "execution_count": 26,
     "metadata": {},
     "output_type": "execute_result"
    }
   ],
   "source": [
    "print(\"This is how our plane dataFrame looks like: \\n\")\n",
    "plane_df"
   ]
  },
  {
   "cell_type": "markdown",
   "metadata": {
    "id": "wLgf59PdbZaz"
   },
   "source": [
    "### Changing how x feature is represented"
   ]
  },
  {
   "cell_type": "markdown",
   "metadata": {
    "id": "a7k8wAGXbZaz"
   },
   "source": [
    "When learning a classifier is useful to have features as arrays of numbers, and not as arrays of sequences. In our case, x is an array of (x, y) coordinates; so we are going to separate x and y, an then create two extra features from there."
   ]
  },
  {
   "cell_type": "code",
   "execution_count": 27,
   "metadata": {
    "id": "uyMj5cYcbZa0",
    "outputId": "0001494b-415b-4c6a-caf2-cc0b4ea17b16",
    "scrolled": true
   },
   "outputs": [
    {
     "name": "stdout",
     "output_type": "stream",
     "text": [
      "890\n"
     ]
    },
    {
     "data": {
      "text/html": [
       "<div>\n",
       "<style scoped>\n",
       "    .dataframe tbody tr th:only-of-type {\n",
       "        vertical-align: middle;\n",
       "    }\n",
       "\n",
       "    .dataframe tbody tr th {\n",
       "        vertical-align: top;\n",
       "    }\n",
       "\n",
       "    .dataframe thead th {\n",
       "        text-align: right;\n",
       "    }\n",
       "</style>\n",
       "<table border=\"1\" class=\"dataframe\">\n",
       "  <thead>\n",
       "    <tr style=\"text-align: right;\">\n",
       "      <th></th>\n",
       "      <th>x</th>\n",
       "      <th>Class</th>\n",
       "      <th>Sample</th>\n",
       "      <th>Perimeter_length</th>\n",
       "      <th>x0</th>\n",
       "      <th>y0</th>\n",
       "      <th>x1</th>\n",
       "      <th>y1</th>\n",
       "      <th>x2</th>\n",
       "      <th>y2</th>\n",
       "      <th>...</th>\n",
       "      <th>x885</th>\n",
       "      <th>y885</th>\n",
       "      <th>x886</th>\n",
       "      <th>y886</th>\n",
       "      <th>x887</th>\n",
       "      <th>y887</th>\n",
       "      <th>x888</th>\n",
       "      <th>y888</th>\n",
       "      <th>x889</th>\n",
       "      <th>y889</th>\n",
       "    </tr>\n",
       "  </thead>\n",
       "  <tbody>\n",
       "    <tr>\n",
       "      <th>0</th>\n",
       "      <td>[[64, 235], [65, 234], [66, 234], [67, 234], [...</td>\n",
       "      <td>1</td>\n",
       "      <td>1</td>\n",
       "      <td>1433</td>\n",
       "      <td>64</td>\n",
       "      <td>235</td>\n",
       "      <td>65</td>\n",
       "      <td>234</td>\n",
       "      <td>66</td>\n",
       "      <td>234</td>\n",
       "      <td>...</td>\n",
       "      <td>471</td>\n",
       "      <td>264</td>\n",
       "      <td>471</td>\n",
       "      <td>265</td>\n",
       "      <td>471</td>\n",
       "      <td>266</td>\n",
       "      <td>471</td>\n",
       "      <td>267</td>\n",
       "      <td>471</td>\n",
       "      <td>268</td>\n",
       "    </tr>\n",
       "    <tr>\n",
       "      <th>1</th>\n",
       "      <td>[[60, 139], [61, 138], [62, 137], [63, 137], [...</td>\n",
       "      <td>1</td>\n",
       "      <td>10</td>\n",
       "      <td>1540</td>\n",
       "      <td>60</td>\n",
       "      <td>139</td>\n",
       "      <td>61</td>\n",
       "      <td>138</td>\n",
       "      <td>62</td>\n",
       "      <td>137</td>\n",
       "      <td>...</td>\n",
       "      <td>560</td>\n",
       "      <td>304</td>\n",
       "      <td>559</td>\n",
       "      <td>303</td>\n",
       "      <td>558</td>\n",
       "      <td>303</td>\n",
       "      <td>557</td>\n",
       "      <td>302</td>\n",
       "      <td>556</td>\n",
       "      <td>301</td>\n",
       "    </tr>\n",
       "    <tr>\n",
       "      <th>2</th>\n",
       "      <td>[[60, 219], [61, 218], [62, 217], [63, 217], [...</td>\n",
       "      <td>1</td>\n",
       "      <td>11</td>\n",
       "      <td>1587</td>\n",
       "      <td>60</td>\n",
       "      <td>219</td>\n",
       "      <td>61</td>\n",
       "      <td>218</td>\n",
       "      <td>62</td>\n",
       "      <td>217</td>\n",
       "      <td>...</td>\n",
       "      <td>564</td>\n",
       "      <td>246</td>\n",
       "      <td>563</td>\n",
       "      <td>246</td>\n",
       "      <td>562</td>\n",
       "      <td>246</td>\n",
       "      <td>561</td>\n",
       "      <td>246</td>\n",
       "      <td>560</td>\n",
       "      <td>246</td>\n",
       "    </tr>\n",
       "    <tr>\n",
       "      <th>3</th>\n",
       "      <td>[[54, 201], [55, 200], [55, 199], [56, 198], [...</td>\n",
       "      <td>1</td>\n",
       "      <td>12</td>\n",
       "      <td>1511</td>\n",
       "      <td>54</td>\n",
       "      <td>201</td>\n",
       "      <td>55</td>\n",
       "      <td>200</td>\n",
       "      <td>55</td>\n",
       "      <td>199</td>\n",
       "      <td>...</td>\n",
       "      <td>502</td>\n",
       "      <td>227</td>\n",
       "      <td>501</td>\n",
       "      <td>228</td>\n",
       "      <td>500</td>\n",
       "      <td>228</td>\n",
       "      <td>499</td>\n",
       "      <td>228</td>\n",
       "      <td>498</td>\n",
       "      <td>228</td>\n",
       "    </tr>\n",
       "    <tr>\n",
       "      <th>4</th>\n",
       "      <td>[[64, 275], [65, 274], [66, 274], [67, 274], [...</td>\n",
       "      <td>1</td>\n",
       "      <td>13</td>\n",
       "      <td>1489</td>\n",
       "      <td>64</td>\n",
       "      <td>275</td>\n",
       "      <td>65</td>\n",
       "      <td>274</td>\n",
       "      <td>66</td>\n",
       "      <td>274</td>\n",
       "      <td>...</td>\n",
       "      <td>490</td>\n",
       "      <td>234</td>\n",
       "      <td>490</td>\n",
       "      <td>235</td>\n",
       "      <td>490</td>\n",
       "      <td>236</td>\n",
       "      <td>490</td>\n",
       "      <td>237</td>\n",
       "      <td>491</td>\n",
       "      <td>238</td>\n",
       "    </tr>\n",
       "    <tr>\n",
       "      <th>...</th>\n",
       "      <td>...</td>\n",
       "      <td>...</td>\n",
       "      <td>...</td>\n",
       "      <td>...</td>\n",
       "      <td>...</td>\n",
       "      <td>...</td>\n",
       "      <td>...</td>\n",
       "      <td>...</td>\n",
       "      <td>...</td>\n",
       "      <td>...</td>\n",
       "      <td>...</td>\n",
       "      <td>...</td>\n",
       "      <td>...</td>\n",
       "      <td>...</td>\n",
       "      <td>...</td>\n",
       "      <td>...</td>\n",
       "      <td>...</td>\n",
       "      <td>...</td>\n",
       "      <td>...</td>\n",
       "      <td>...</td>\n",
       "      <td>...</td>\n",
       "    </tr>\n",
       "    <tr>\n",
       "      <th>205</th>\n",
       "      <td>[[33, 234], [34, 233], [35, 232], [36, 231], [...</td>\n",
       "      <td>7</td>\n",
       "      <td>5</td>\n",
       "      <td>1801</td>\n",
       "      <td>33</td>\n",
       "      <td>234</td>\n",
       "      <td>34</td>\n",
       "      <td>233</td>\n",
       "      <td>35</td>\n",
       "      <td>232</td>\n",
       "      <td>...</td>\n",
       "      <td>533</td>\n",
       "      <td>202</td>\n",
       "      <td>533</td>\n",
       "      <td>203</td>\n",
       "      <td>534</td>\n",
       "      <td>204</td>\n",
       "      <td>534</td>\n",
       "      <td>205</td>\n",
       "      <td>534</td>\n",
       "      <td>206</td>\n",
       "    </tr>\n",
       "    <tr>\n",
       "      <th>206</th>\n",
       "      <td>[[21, 155], [22, 154], [23, 153], [24, 152], [...</td>\n",
       "      <td>7</td>\n",
       "      <td>6</td>\n",
       "      <td>1943</td>\n",
       "      <td>21</td>\n",
       "      <td>155</td>\n",
       "      <td>22</td>\n",
       "      <td>154</td>\n",
       "      <td>23</td>\n",
       "      <td>153</td>\n",
       "      <td>...</td>\n",
       "      <td>586</td>\n",
       "      <td>260</td>\n",
       "      <td>585</td>\n",
       "      <td>259</td>\n",
       "      <td>584</td>\n",
       "      <td>258</td>\n",
       "      <td>583</td>\n",
       "      <td>259</td>\n",
       "      <td>582</td>\n",
       "      <td>259</td>\n",
       "    </tr>\n",
       "    <tr>\n",
       "      <th>207</th>\n",
       "      <td>[[45, 324], [46, 323], [47, 322], [48, 321], [...</td>\n",
       "      <td>7</td>\n",
       "      <td>7</td>\n",
       "      <td>1876</td>\n",
       "      <td>45</td>\n",
       "      <td>324</td>\n",
       "      <td>46</td>\n",
       "      <td>323</td>\n",
       "      <td>47</td>\n",
       "      <td>322</td>\n",
       "      <td>...</td>\n",
       "      <td>597</td>\n",
       "      <td>157</td>\n",
       "      <td>597</td>\n",
       "      <td>158</td>\n",
       "      <td>597</td>\n",
       "      <td>159</td>\n",
       "      <td>597</td>\n",
       "      <td>160</td>\n",
       "      <td>596</td>\n",
       "      <td>161</td>\n",
       "    </tr>\n",
       "    <tr>\n",
       "      <th>208</th>\n",
       "      <td>[[70, 255], [71, 254], [72, 254], [73, 253], [...</td>\n",
       "      <td>7</td>\n",
       "      <td>8</td>\n",
       "      <td>1661</td>\n",
       "      <td>70</td>\n",
       "      <td>255</td>\n",
       "      <td>71</td>\n",
       "      <td>254</td>\n",
       "      <td>72</td>\n",
       "      <td>254</td>\n",
       "      <td>...</td>\n",
       "      <td>531</td>\n",
       "      <td>296</td>\n",
       "      <td>530</td>\n",
       "      <td>297</td>\n",
       "      <td>529</td>\n",
       "      <td>298</td>\n",
       "      <td>528</td>\n",
       "      <td>299</td>\n",
       "      <td>528</td>\n",
       "      <td>300</td>\n",
       "    </tr>\n",
       "    <tr>\n",
       "      <th>209</th>\n",
       "      <td>[[48, 233], [49, 232], [49, 231], [50, 230], [...</td>\n",
       "      <td>7</td>\n",
       "      <td>9</td>\n",
       "      <td>1844</td>\n",
       "      <td>48</td>\n",
       "      <td>233</td>\n",
       "      <td>49</td>\n",
       "      <td>232</td>\n",
       "      <td>49</td>\n",
       "      <td>231</td>\n",
       "      <td>...</td>\n",
       "      <td>579</td>\n",
       "      <td>195</td>\n",
       "      <td>578</td>\n",
       "      <td>195</td>\n",
       "      <td>577</td>\n",
       "      <td>195</td>\n",
       "      <td>576</td>\n",
       "      <td>195</td>\n",
       "      <td>575</td>\n",
       "      <td>195</td>\n",
       "    </tr>\n",
       "  </tbody>\n",
       "</table>\n",
       "<p>210 rows × 1784 columns</p>\n",
       "</div>"
      ],
      "text/plain": [
       "                                                     x  Class  Sample  \\\n",
       "0    [[64, 235], [65, 234], [66, 234], [67, 234], [...      1       1   \n",
       "1    [[60, 139], [61, 138], [62, 137], [63, 137], [...      1      10   \n",
       "2    [[60, 219], [61, 218], [62, 217], [63, 217], [...      1      11   \n",
       "3    [[54, 201], [55, 200], [55, 199], [56, 198], [...      1      12   \n",
       "4    [[64, 275], [65, 274], [66, 274], [67, 274], [...      1      13   \n",
       "..                                                 ...    ...     ...   \n",
       "205  [[33, 234], [34, 233], [35, 232], [36, 231], [...      7       5   \n",
       "206  [[21, 155], [22, 154], [23, 153], [24, 152], [...      7       6   \n",
       "207  [[45, 324], [46, 323], [47, 322], [48, 321], [...      7       7   \n",
       "208  [[70, 255], [71, 254], [72, 254], [73, 253], [...      7       8   \n",
       "209  [[48, 233], [49, 232], [49, 231], [50, 230], [...      7       9   \n",
       "\n",
       "     Perimeter_length  x0   y0  x1   y1  x2   y2  ...  x885  y885  x886  y886  \\\n",
       "0                1433  64  235  65  234  66  234  ...   471   264   471   265   \n",
       "1                1540  60  139  61  138  62  137  ...   560   304   559   303   \n",
       "2                1587  60  219  61  218  62  217  ...   564   246   563   246   \n",
       "3                1511  54  201  55  200  55  199  ...   502   227   501   228   \n",
       "4                1489  64  275  65  274  66  274  ...   490   234   490   235   \n",
       "..                ...  ..  ...  ..  ...  ..  ...  ...   ...   ...   ...   ...   \n",
       "205              1801  33  234  34  233  35  232  ...   533   202   533   203   \n",
       "206              1943  21  155  22  154  23  153  ...   586   260   585   259   \n",
       "207              1876  45  324  46  323  47  322  ...   597   157   597   158   \n",
       "208              1661  70  255  71  254  72  254  ...   531   296   530   297   \n",
       "209              1844  48  233  49  232  49  231  ...   579   195   578   195   \n",
       "\n",
       "     x887  y887  x888  y888  x889  y889  \n",
       "0     471   266   471   267   471   268  \n",
       "1     558   303   557   302   556   301  \n",
       "2     562   246   561   246   560   246  \n",
       "3     500   228   499   228   498   228  \n",
       "4     490   236   490   237   491   238  \n",
       "..    ...   ...   ...   ...   ...   ...  \n",
       "205   534   204   534   205   534   206  \n",
       "206   584   258   583   259   582   259  \n",
       "207   597   159   597   160   596   161  \n",
       "208   529   298   528   299   528   300  \n",
       "209   577   195   576   195   575   195  \n",
       "\n",
       "[210 rows x 1784 columns]"
      ]
     },
     "execution_count": 27,
     "metadata": {},
     "output_type": "execute_result"
    }
   ],
   "source": [
    "min_len = min_length(plane_df)\n",
    "print(min_len)\n",
    "x_coordinates, y_coordinates = separate_coordinates(plane_df, min_len)\n",
    "x_stack, y_stack = get_stacks(x_coordinates, y_coordinates)\n",
    "plane_df = insert_columns(plane_df, x_stack, y_stack)\n",
    "plane_df"
   ]
  },
  {
   "cell_type": "markdown",
   "metadata": {
    "id": "a0wGL7eTbZa5"
   },
   "source": [
    "### Preparing data for classification"
   ]
  },
  {
   "cell_type": "code",
   "execution_count": 28,
   "metadata": {
    "id": "oDgpS6G-bZa6"
   },
   "outputs": [],
   "source": [
    "plane_features, plane_target = get_features_target(plane_df)"
   ]
  },
  {
   "cell_type": "code",
   "execution_count": 29,
   "metadata": {
    "id": "f_DVL0RmbZa-",
    "outputId": "b354642b-5b71-4ba6-e411-c7487eb5fbfd"
   },
   "outputs": [
    {
     "data": {
      "text/html": [
       "<div>\n",
       "<style scoped>\n",
       "    .dataframe tbody tr th:only-of-type {\n",
       "        vertical-align: middle;\n",
       "    }\n",
       "\n",
       "    .dataframe tbody tr th {\n",
       "        vertical-align: top;\n",
       "    }\n",
       "\n",
       "    .dataframe thead th {\n",
       "        text-align: right;\n",
       "    }\n",
       "</style>\n",
       "<table border=\"1\" class=\"dataframe\">\n",
       "  <thead>\n",
       "    <tr style=\"text-align: right;\">\n",
       "      <th></th>\n",
       "      <th>Perimeter_length</th>\n",
       "      <th>x0</th>\n",
       "      <th>y0</th>\n",
       "      <th>x1</th>\n",
       "      <th>y1</th>\n",
       "      <th>x2</th>\n",
       "      <th>y2</th>\n",
       "      <th>x3</th>\n",
       "      <th>y3</th>\n",
       "      <th>x4</th>\n",
       "      <th>...</th>\n",
       "      <th>x885</th>\n",
       "      <th>y885</th>\n",
       "      <th>x886</th>\n",
       "      <th>y886</th>\n",
       "      <th>x887</th>\n",
       "      <th>y887</th>\n",
       "      <th>x888</th>\n",
       "      <th>y888</th>\n",
       "      <th>x889</th>\n",
       "      <th>y889</th>\n",
       "    </tr>\n",
       "  </thead>\n",
       "  <tbody>\n",
       "    <tr>\n",
       "      <th>0</th>\n",
       "      <td>1433</td>\n",
       "      <td>64</td>\n",
       "      <td>235</td>\n",
       "      <td>65</td>\n",
       "      <td>234</td>\n",
       "      <td>66</td>\n",
       "      <td>234</td>\n",
       "      <td>67</td>\n",
       "      <td>234</td>\n",
       "      <td>68</td>\n",
       "      <td>...</td>\n",
       "      <td>471</td>\n",
       "      <td>264</td>\n",
       "      <td>471</td>\n",
       "      <td>265</td>\n",
       "      <td>471</td>\n",
       "      <td>266</td>\n",
       "      <td>471</td>\n",
       "      <td>267</td>\n",
       "      <td>471</td>\n",
       "      <td>268</td>\n",
       "    </tr>\n",
       "    <tr>\n",
       "      <th>1</th>\n",
       "      <td>1540</td>\n",
       "      <td>60</td>\n",
       "      <td>139</td>\n",
       "      <td>61</td>\n",
       "      <td>138</td>\n",
       "      <td>62</td>\n",
       "      <td>137</td>\n",
       "      <td>63</td>\n",
       "      <td>137</td>\n",
       "      <td>64</td>\n",
       "      <td>...</td>\n",
       "      <td>560</td>\n",
       "      <td>304</td>\n",
       "      <td>559</td>\n",
       "      <td>303</td>\n",
       "      <td>558</td>\n",
       "      <td>303</td>\n",
       "      <td>557</td>\n",
       "      <td>302</td>\n",
       "      <td>556</td>\n",
       "      <td>301</td>\n",
       "    </tr>\n",
       "    <tr>\n",
       "      <th>2</th>\n",
       "      <td>1587</td>\n",
       "      <td>60</td>\n",
       "      <td>219</td>\n",
       "      <td>61</td>\n",
       "      <td>218</td>\n",
       "      <td>62</td>\n",
       "      <td>217</td>\n",
       "      <td>63</td>\n",
       "      <td>217</td>\n",
       "      <td>64</td>\n",
       "      <td>...</td>\n",
       "      <td>564</td>\n",
       "      <td>246</td>\n",
       "      <td>563</td>\n",
       "      <td>246</td>\n",
       "      <td>562</td>\n",
       "      <td>246</td>\n",
       "      <td>561</td>\n",
       "      <td>246</td>\n",
       "      <td>560</td>\n",
       "      <td>246</td>\n",
       "    </tr>\n",
       "    <tr>\n",
       "      <th>3</th>\n",
       "      <td>1511</td>\n",
       "      <td>54</td>\n",
       "      <td>201</td>\n",
       "      <td>55</td>\n",
       "      <td>200</td>\n",
       "      <td>55</td>\n",
       "      <td>199</td>\n",
       "      <td>56</td>\n",
       "      <td>198</td>\n",
       "      <td>57</td>\n",
       "      <td>...</td>\n",
       "      <td>502</td>\n",
       "      <td>227</td>\n",
       "      <td>501</td>\n",
       "      <td>228</td>\n",
       "      <td>500</td>\n",
       "      <td>228</td>\n",
       "      <td>499</td>\n",
       "      <td>228</td>\n",
       "      <td>498</td>\n",
       "      <td>228</td>\n",
       "    </tr>\n",
       "    <tr>\n",
       "      <th>4</th>\n",
       "      <td>1489</td>\n",
       "      <td>64</td>\n",
       "      <td>275</td>\n",
       "      <td>65</td>\n",
       "      <td>274</td>\n",
       "      <td>66</td>\n",
       "      <td>274</td>\n",
       "      <td>67</td>\n",
       "      <td>274</td>\n",
       "      <td>68</td>\n",
       "      <td>...</td>\n",
       "      <td>490</td>\n",
       "      <td>234</td>\n",
       "      <td>490</td>\n",
       "      <td>235</td>\n",
       "      <td>490</td>\n",
       "      <td>236</td>\n",
       "      <td>490</td>\n",
       "      <td>237</td>\n",
       "      <td>491</td>\n",
       "      <td>238</td>\n",
       "    </tr>\n",
       "    <tr>\n",
       "      <th>...</th>\n",
       "      <td>...</td>\n",
       "      <td>...</td>\n",
       "      <td>...</td>\n",
       "      <td>...</td>\n",
       "      <td>...</td>\n",
       "      <td>...</td>\n",
       "      <td>...</td>\n",
       "      <td>...</td>\n",
       "      <td>...</td>\n",
       "      <td>...</td>\n",
       "      <td>...</td>\n",
       "      <td>...</td>\n",
       "      <td>...</td>\n",
       "      <td>...</td>\n",
       "      <td>...</td>\n",
       "      <td>...</td>\n",
       "      <td>...</td>\n",
       "      <td>...</td>\n",
       "      <td>...</td>\n",
       "      <td>...</td>\n",
       "      <td>...</td>\n",
       "    </tr>\n",
       "    <tr>\n",
       "      <th>205</th>\n",
       "      <td>1801</td>\n",
       "      <td>33</td>\n",
       "      <td>234</td>\n",
       "      <td>34</td>\n",
       "      <td>233</td>\n",
       "      <td>35</td>\n",
       "      <td>232</td>\n",
       "      <td>36</td>\n",
       "      <td>231</td>\n",
       "      <td>37</td>\n",
       "      <td>...</td>\n",
       "      <td>533</td>\n",
       "      <td>202</td>\n",
       "      <td>533</td>\n",
       "      <td>203</td>\n",
       "      <td>534</td>\n",
       "      <td>204</td>\n",
       "      <td>534</td>\n",
       "      <td>205</td>\n",
       "      <td>534</td>\n",
       "      <td>206</td>\n",
       "    </tr>\n",
       "    <tr>\n",
       "      <th>206</th>\n",
       "      <td>1943</td>\n",
       "      <td>21</td>\n",
       "      <td>155</td>\n",
       "      <td>22</td>\n",
       "      <td>154</td>\n",
       "      <td>23</td>\n",
       "      <td>153</td>\n",
       "      <td>24</td>\n",
       "      <td>152</td>\n",
       "      <td>25</td>\n",
       "      <td>...</td>\n",
       "      <td>586</td>\n",
       "      <td>260</td>\n",
       "      <td>585</td>\n",
       "      <td>259</td>\n",
       "      <td>584</td>\n",
       "      <td>258</td>\n",
       "      <td>583</td>\n",
       "      <td>259</td>\n",
       "      <td>582</td>\n",
       "      <td>259</td>\n",
       "    </tr>\n",
       "    <tr>\n",
       "      <th>207</th>\n",
       "      <td>1876</td>\n",
       "      <td>45</td>\n",
       "      <td>324</td>\n",
       "      <td>46</td>\n",
       "      <td>323</td>\n",
       "      <td>47</td>\n",
       "      <td>322</td>\n",
       "      <td>48</td>\n",
       "      <td>321</td>\n",
       "      <td>49</td>\n",
       "      <td>...</td>\n",
       "      <td>597</td>\n",
       "      <td>157</td>\n",
       "      <td>597</td>\n",
       "      <td>158</td>\n",
       "      <td>597</td>\n",
       "      <td>159</td>\n",
       "      <td>597</td>\n",
       "      <td>160</td>\n",
       "      <td>596</td>\n",
       "      <td>161</td>\n",
       "    </tr>\n",
       "    <tr>\n",
       "      <th>208</th>\n",
       "      <td>1661</td>\n",
       "      <td>70</td>\n",
       "      <td>255</td>\n",
       "      <td>71</td>\n",
       "      <td>254</td>\n",
       "      <td>72</td>\n",
       "      <td>254</td>\n",
       "      <td>73</td>\n",
       "      <td>253</td>\n",
       "      <td>74</td>\n",
       "      <td>...</td>\n",
       "      <td>531</td>\n",
       "      <td>296</td>\n",
       "      <td>530</td>\n",
       "      <td>297</td>\n",
       "      <td>529</td>\n",
       "      <td>298</td>\n",
       "      <td>528</td>\n",
       "      <td>299</td>\n",
       "      <td>528</td>\n",
       "      <td>300</td>\n",
       "    </tr>\n",
       "    <tr>\n",
       "      <th>209</th>\n",
       "      <td>1844</td>\n",
       "      <td>48</td>\n",
       "      <td>233</td>\n",
       "      <td>49</td>\n",
       "      <td>232</td>\n",
       "      <td>49</td>\n",
       "      <td>231</td>\n",
       "      <td>50</td>\n",
       "      <td>230</td>\n",
       "      <td>51</td>\n",
       "      <td>...</td>\n",
       "      <td>579</td>\n",
       "      <td>195</td>\n",
       "      <td>578</td>\n",
       "      <td>195</td>\n",
       "      <td>577</td>\n",
       "      <td>195</td>\n",
       "      <td>576</td>\n",
       "      <td>195</td>\n",
       "      <td>575</td>\n",
       "      <td>195</td>\n",
       "    </tr>\n",
       "  </tbody>\n",
       "</table>\n",
       "<p>210 rows × 1781 columns</p>\n",
       "</div>"
      ],
      "text/plain": [
       "     Perimeter_length  x0   y0  x1   y1  x2   y2  x3   y3  x4  ...  x885  \\\n",
       "0                1433  64  235  65  234  66  234  67  234  68  ...   471   \n",
       "1                1540  60  139  61  138  62  137  63  137  64  ...   560   \n",
       "2                1587  60  219  61  218  62  217  63  217  64  ...   564   \n",
       "3                1511  54  201  55  200  55  199  56  198  57  ...   502   \n",
       "4                1489  64  275  65  274  66  274  67  274  68  ...   490   \n",
       "..                ...  ..  ...  ..  ...  ..  ...  ..  ...  ..  ...   ...   \n",
       "205              1801  33  234  34  233  35  232  36  231  37  ...   533   \n",
       "206              1943  21  155  22  154  23  153  24  152  25  ...   586   \n",
       "207              1876  45  324  46  323  47  322  48  321  49  ...   597   \n",
       "208              1661  70  255  71  254  72  254  73  253  74  ...   531   \n",
       "209              1844  48  233  49  232  49  231  50  230  51  ...   579   \n",
       "\n",
       "     y885  x886  y886  x887  y887  x888  y888  x889  y889  \n",
       "0     264   471   265   471   266   471   267   471   268  \n",
       "1     304   559   303   558   303   557   302   556   301  \n",
       "2     246   563   246   562   246   561   246   560   246  \n",
       "3     227   501   228   500   228   499   228   498   228  \n",
       "4     234   490   235   490   236   490   237   491   238  \n",
       "..    ...   ...   ...   ...   ...   ...   ...   ...   ...  \n",
       "205   202   533   203   534   204   534   205   534   206  \n",
       "206   260   585   259   584   258   583   259   582   259  \n",
       "207   157   597   158   597   159   597   160   596   161  \n",
       "208   296   530   297   529   298   528   299   528   300  \n",
       "209   195   578   195   577   195   576   195   575   195  \n",
       "\n",
       "[210 rows x 1781 columns]"
      ]
     },
     "execution_count": 29,
     "metadata": {},
     "output_type": "execute_result"
    }
   ],
   "source": [
    "# The selected features are: 'Perimeter_length', 'xJ' and 'yJ'  (J -> [0, 889])\n",
    "plane_features"
   ]
  },
  {
   "cell_type": "markdown",
   "metadata": {
    "id": "hWUuNbT1bZbD"
   },
   "source": [
    "We have put all Classes in a unique structure."
   ]
  },
  {
   "cell_type": "code",
   "execution_count": 30,
   "metadata": {
    "id": "ywZ3PMnYbZbF",
    "outputId": "e0d89507-b4ea-47eb-8ecc-6f826cc17ba4"
   },
   "outputs": [
    {
     "data": {
      "text/plain": [
       "0      1\n",
       "1      1\n",
       "2      1\n",
       "3      1\n",
       "4      1\n",
       "      ..\n",
       "205    7\n",
       "206    7\n",
       "207    7\n",
       "208    7\n",
       "209    7\n",
       "Name: Class, Length: 210, dtype: int64"
      ]
     },
     "execution_count": 30,
     "metadata": {},
     "output_type": "execute_result"
    }
   ],
   "source": [
    "plane_target"
   ]
  },
  {
   "cell_type": "markdown",
   "metadata": {
    "id": "7WXbIbAebZbN"
   },
   "source": [
    "## 3.2. Preprocessing the car dataset\n",
    "\n",
    "In this problem there are four classes that correspond to the 4 types of cars: (a) sedan, (b) pickup, (c) minivan, or (d) SUV. However, in the database files are written like this: \"ClassX_SampleY.mat\", where X is the corresponding class number and Y the corresponding sample number. \n",
    "\n",
    "Here is the correspondance of class number and class name (car model name):\n",
    "* 1 = sedan\n",
    "* 2 = pickup\n",
    "* 3 = minivan\n",
    "* 4 = SUV"
   ]
  },
  {
   "cell_type": "code",
   "execution_count": 31,
   "metadata": {},
   "outputs": [
    {
     "data": {
      "image/png": "[encoded data removed]",
      "text/plain": [
       "<IPython.core.display.Image object>"
      ]
     },
     "execution_count": 31,
     "metadata": {},
     "output_type": "execute_result"
    }
   ],
   "source": [
    "Image(filename='shape_car.png')"
   ]
  },
  {
   "cell_type": "markdown",
   "metadata": {
    "id": "es2I9cs8bZbO"
   },
   "source": [
    "### Create dataframe"
   ]
  },
  {
   "cell_type": "code",
   "execution_count": 32,
   "metadata": {
    "id": "8n2TIfL6bZaP",
    "outputId": "3c21b22e-fff9-4f88-bb7b-3f31e2c5d1c4"
   },
   "outputs": [
    {
     "data": {
      "text/html": [
       "<div>\n",
       "<style scoped>\n",
       "    .dataframe tbody tr th:only-of-type {\n",
       "        vertical-align: middle;\n",
       "    }\n",
       "\n",
       "    .dataframe tbody tr th {\n",
       "        vertical-align: top;\n",
       "    }\n",
       "\n",
       "    .dataframe thead th {\n",
       "        text-align: right;\n",
       "    }\n",
       "</style>\n",
       "<table border=\"1\" class=\"dataframe\">\n",
       "  <thead>\n",
       "    <tr style=\"text-align: right;\">\n",
       "      <th></th>\n",
       "      <th>x</th>\n",
       "    </tr>\n",
       "  </thead>\n",
       "  <tbody>\n",
       "    <tr>\n",
       "      <th>0</th>\n",
       "      <td>[[113, 181], [114, 180], [114, 179], [114, 178...</td>\n",
       "    </tr>\n",
       "    <tr>\n",
       "      <th>1</th>\n",
       "      <td>[[98, 180], [99, 179], [99, 178], [100, 177], ...</td>\n",
       "    </tr>\n",
       "    <tr>\n",
       "      <th>2</th>\n",
       "      <td>[[70, 180], [71, 180], [72, 179], [73, 178], [...</td>\n",
       "    </tr>\n",
       "    <tr>\n",
       "      <th>3</th>\n",
       "      <td>[[54, 184], [55, 183], [56, 183], [57, 183], [...</td>\n",
       "    </tr>\n",
       "    <tr>\n",
       "      <th>4</th>\n",
       "      <td>[[44, 180], [45, 179], [46, 179], [47, 178], [...</td>\n",
       "    </tr>\n",
       "    <tr>\n",
       "      <th>...</th>\n",
       "      <td>...</td>\n",
       "    </tr>\n",
       "    <tr>\n",
       "      <th>115</th>\n",
       "      <td>[[101, 182], [102, 182], [103, 182], [104, 182...</td>\n",
       "    </tr>\n",
       "    <tr>\n",
       "      <th>116</th>\n",
       "      <td>[[46, 180], [47, 180], [48, 179], [48, 178], [...</td>\n",
       "    </tr>\n",
       "    <tr>\n",
       "      <th>117</th>\n",
       "      <td>[[31, 173], [32, 173], [33, 174], [34, 174], [...</td>\n",
       "    </tr>\n",
       "    <tr>\n",
       "      <th>118</th>\n",
       "      <td>[[20, 170], [21, 171], [22, 170], [23, 170], [...</td>\n",
       "    </tr>\n",
       "    <tr>\n",
       "      <th>119</th>\n",
       "      <td>[[36, 175], [37, 174], [37, 173], [37, 172], [...</td>\n",
       "    </tr>\n",
       "  </tbody>\n",
       "</table>\n",
       "<p>120 rows × 1 columns</p>\n",
       "</div>"
      ],
      "text/plain": [
       "                                                     x\n",
       "0    [[113, 181], [114, 180], [114, 179], [114, 178...\n",
       "1    [[98, 180], [99, 179], [99, 178], [100, 177], ...\n",
       "2    [[70, 180], [71, 180], [72, 179], [73, 178], [...\n",
       "3    [[54, 184], [55, 183], [56, 183], [57, 183], [...\n",
       "4    [[44, 180], [45, 179], [46, 179], [47, 178], [...\n",
       "..                                                 ...\n",
       "115  [[101, 182], [102, 182], [103, 182], [104, 182...\n",
       "116  [[46, 180], [47, 180], [48, 179], [48, 178], [...\n",
       "117  [[31, 173], [32, 173], [33, 174], [34, 174], [...\n",
       "118  [[20, 170], [21, 171], [22, 170], [23, 170], [...\n",
       "119  [[36, 175], [37, 174], [37, 173], [37, 172], [...\n",
       "\n",
       "[120 rows x 1 columns]"
      ]
     },
     "execution_count": 32,
     "metadata": {},
     "output_type": "execute_result"
    }
   ],
   "source": [
    "car_df = get_dataframe(car_mats)\n",
    "car_df"
   ]
  },
  {
   "cell_type": "markdown",
   "metadata": {
    "id": "PpIHZ-4zbZaU"
   },
   "source": [
    "### Get class and sample numbers"
   ]
  },
  {
   "cell_type": "markdown",
   "metadata": {
    "id": "wLxTWflibZbi"
   },
   "source": [
    "Now, the only attribute available in our car DataFrame is x, which refers to cartesian coordinates of each point on the perimeter of the shape. We need more information to include there, such as class value and sample number."
   ]
  },
  {
   "cell_type": "code",
   "execution_count": 33,
   "metadata": {
    "id": "ZmtRxkB6bZbj"
   },
   "outputs": [],
   "source": [
    "# Remember we have the names of the files read (in order) in our list called car_mats_file_name.\n",
    "# Lets, divide that array in two arrays. One containing the class number and the other the sample number.\n",
    "car_class_n, car_sample_n = get_samples_classes(car_mats_file_name)"
   ]
  },
  {
   "cell_type": "code",
   "execution_count": 34,
   "metadata": {
    "id": "j5J00iFLbZbo",
    "outputId": "78f94b29-95ff-4891-8341-2e9d269ed291"
   },
   "outputs": [
    {
     "name": "stdout",
     "output_type": "stream",
     "text": [
      "This is how our class_n looks like: \n",
      "\n"
     ]
    },
    {
     "data": {
      "text/plain": [
       "array([1, 1, 1, 1, 1, 1, 1, 1, 1, 1, 1, 1, 1, 1, 1, 1, 1, 1, 1, 1, 1, 1,\n",
       "       1, 1, 1, 1, 1, 1, 1, 1, 2, 2, 2, 2, 2, 2, 2, 2, 2, 2, 2, 2, 2, 2,\n",
       "       2, 2, 2, 2, 2, 2, 2, 2, 2, 2, 2, 2, 2, 2, 2, 2, 3, 3, 3, 3, 3, 3,\n",
       "       3, 3, 3, 3, 3, 3, 3, 3, 3, 3, 3, 3, 3, 3, 3, 3, 3, 3, 3, 3, 3, 3,\n",
       "       3, 3, 4, 4, 4, 4, 4, 4, 4, 4, 4, 4, 4, 4, 4, 4, 4, 4, 4, 4, 4, 4,\n",
       "       4, 4, 4, 4, 4, 4, 4, 4, 4, 4])"
      ]
     },
     "execution_count": 34,
     "metadata": {},
     "output_type": "execute_result"
    }
   ],
   "source": [
    "print(\"This is how our class_n looks like: \\n\")\n",
    "np.array(car_class_n)"
   ]
  },
  {
   "cell_type": "code",
   "execution_count": 35,
   "metadata": {
    "id": "5QRpcut7bZbw",
    "outputId": "f6134754-3004-44c7-d6f4-430481d04008"
   },
   "outputs": [
    {
     "name": "stdout",
     "output_type": "stream",
     "text": [
      "This is how our sample_n looks like: \n",
      "\n"
     ]
    },
    {
     "data": {
      "text/plain": [
       "array([ 1, 10, 11, 12, 13, 14, 15, 16, 17, 18, 19,  2, 20, 21, 22, 23, 24,\n",
       "       25, 26, 27, 28, 29,  3, 30,  4,  5,  6,  7,  8,  9,  1, 10, 11, 12,\n",
       "       13, 14, 15, 16, 17, 18, 19,  2, 20, 21, 22, 23, 24, 25, 26, 27, 28,\n",
       "       29,  3, 30,  4,  5,  6,  7,  8,  9,  1, 10, 11, 12, 13, 14, 15, 16,\n",
       "       17, 18, 19,  2, 20, 21, 22, 23, 24, 25, 26, 27, 28, 29,  3, 30,  4,\n",
       "        5,  6,  7,  8,  9,  1, 10, 11, 12, 13, 14, 15, 16, 17, 18, 19,  2,\n",
       "       20, 21, 22, 23, 24, 25, 26, 27, 28, 29,  3, 30,  4,  5,  6,  7,  8,\n",
       "        9])"
      ]
     },
     "execution_count": 35,
     "metadata": {},
     "output_type": "execute_result"
    }
   ],
   "source": [
    "print(\"This is how our sample_n looks like: \\n\")\n",
    "np.array(car_sample_n)"
   ]
  },
  {
   "cell_type": "markdown",
   "metadata": {
    "id": "XOxAktAlbZb2"
   },
   "source": [
    "Lets add those lists to the car DataFrame."
   ]
  },
  {
   "cell_type": "code",
   "execution_count": 36,
   "metadata": {
    "id": "cfmRhtcsbZb4",
    "outputId": "66649297-25bc-4f69-9b1b-7a2ec3f46ce0"
   },
   "outputs": [
    {
     "name": "stdout",
     "output_type": "stream",
     "text": [
      "This is, finally, how our car dataFrame looks like: \n",
      "\n"
     ]
    },
    {
     "data": {
      "text/html": [
       "<div>\n",
       "<style scoped>\n",
       "    .dataframe tbody tr th:only-of-type {\n",
       "        vertical-align: middle;\n",
       "    }\n",
       "\n",
       "    .dataframe tbody tr th {\n",
       "        vertical-align: top;\n",
       "    }\n",
       "\n",
       "    .dataframe thead th {\n",
       "        text-align: right;\n",
       "    }\n",
       "</style>\n",
       "<table border=\"1\" class=\"dataframe\">\n",
       "  <thead>\n",
       "    <tr style=\"text-align: right;\">\n",
       "      <th></th>\n",
       "      <th>x</th>\n",
       "      <th>Class</th>\n",
       "      <th>Sample</th>\n",
       "    </tr>\n",
       "  </thead>\n",
       "  <tbody>\n",
       "    <tr>\n",
       "      <th>0</th>\n",
       "      <td>[[113, 181], [114, 180], [114, 179], [114, 178...</td>\n",
       "      <td>1</td>\n",
       "      <td>1</td>\n",
       "    </tr>\n",
       "    <tr>\n",
       "      <th>1</th>\n",
       "      <td>[[98, 180], [99, 179], [99, 178], [100, 177], ...</td>\n",
       "      <td>1</td>\n",
       "      <td>10</td>\n",
       "    </tr>\n",
       "    <tr>\n",
       "      <th>2</th>\n",
       "      <td>[[70, 180], [71, 180], [72, 179], [73, 178], [...</td>\n",
       "      <td>1</td>\n",
       "      <td>11</td>\n",
       "    </tr>\n",
       "    <tr>\n",
       "      <th>3</th>\n",
       "      <td>[[54, 184], [55, 183], [56, 183], [57, 183], [...</td>\n",
       "      <td>1</td>\n",
       "      <td>12</td>\n",
       "    </tr>\n",
       "    <tr>\n",
       "      <th>4</th>\n",
       "      <td>[[44, 180], [45, 179], [46, 179], [47, 178], [...</td>\n",
       "      <td>1</td>\n",
       "      <td>13</td>\n",
       "    </tr>\n",
       "    <tr>\n",
       "      <th>...</th>\n",
       "      <td>...</td>\n",
       "      <td>...</td>\n",
       "      <td>...</td>\n",
       "    </tr>\n",
       "    <tr>\n",
       "      <th>115</th>\n",
       "      <td>[[101, 182], [102, 182], [103, 182], [104, 182...</td>\n",
       "      <td>4</td>\n",
       "      <td>5</td>\n",
       "    </tr>\n",
       "    <tr>\n",
       "      <th>116</th>\n",
       "      <td>[[46, 180], [47, 180], [48, 179], [48, 178], [...</td>\n",
       "      <td>4</td>\n",
       "      <td>6</td>\n",
       "    </tr>\n",
       "    <tr>\n",
       "      <th>117</th>\n",
       "      <td>[[31, 173], [32, 173], [33, 174], [34, 174], [...</td>\n",
       "      <td>4</td>\n",
       "      <td>7</td>\n",
       "    </tr>\n",
       "    <tr>\n",
       "      <th>118</th>\n",
       "      <td>[[20, 170], [21, 171], [22, 170], [23, 170], [...</td>\n",
       "      <td>4</td>\n",
       "      <td>8</td>\n",
       "    </tr>\n",
       "    <tr>\n",
       "      <th>119</th>\n",
       "      <td>[[36, 175], [37, 174], [37, 173], [37, 172], [...</td>\n",
       "      <td>4</td>\n",
       "      <td>9</td>\n",
       "    </tr>\n",
       "  </tbody>\n",
       "</table>\n",
       "<p>120 rows × 3 columns</p>\n",
       "</div>"
      ],
      "text/plain": [
       "                                                     x  Class  Sample\n",
       "0    [[113, 181], [114, 180], [114, 179], [114, 178...      1       1\n",
       "1    [[98, 180], [99, 179], [99, 178], [100, 177], ...      1      10\n",
       "2    [[70, 180], [71, 180], [72, 179], [73, 178], [...      1      11\n",
       "3    [[54, 184], [55, 183], [56, 183], [57, 183], [...      1      12\n",
       "4    [[44, 180], [45, 179], [46, 179], [47, 178], [...      1      13\n",
       "..                                                 ...    ...     ...\n",
       "115  [[101, 182], [102, 182], [103, 182], [104, 182...      4       5\n",
       "116  [[46, 180], [47, 180], [48, 179], [48, 178], [...      4       6\n",
       "117  [[31, 173], [32, 173], [33, 174], [34, 174], [...      4       7\n",
       "118  [[20, 170], [21, 171], [22, 170], [23, 170], [...      4       8\n",
       "119  [[36, 175], [37, 174], [37, 173], [37, 172], [...      4       9\n",
       "\n",
       "[120 rows x 3 columns]"
      ]
     },
     "execution_count": 36,
     "metadata": {},
     "output_type": "execute_result"
    }
   ],
   "source": [
    "add_samples_classes(car_df, car_class_n, car_sample_n)\n",
    "print(\"This is, finally, how our car dataFrame looks like: \\n\")\n",
    "car_df"
   ]
  },
  {
   "cell_type": "markdown",
   "metadata": {
    "id": "HC4aT8_ybZb8"
   },
   "source": [
    "### Classes are balanced? Yes"
   ]
  },
  {
   "cell_type": "markdown",
   "metadata": {
    "id": "BaHpmpfMbZb8"
   },
   "source": [
    "Although in the description of the database it is said that each class has 30 samples, to make sure about it we are going to count them."
   ]
  },
  {
   "cell_type": "code",
   "execution_count": 37,
   "metadata": {
    "id": "Lu3Eqh9PbZb9",
    "outputId": "0a750dd3-198b-4dfe-8408-28351155d214"
   },
   "outputs": [
    {
     "name": "stdout",
     "output_type": "stream",
     "text": [
      "Quantity of samples in each class:\n",
      "4    30\n",
      "3    30\n",
      "2    30\n",
      "1    30\n",
      "Name: Class, dtype: int64\n"
     ]
    }
   ],
   "source": [
    "print_class_count(car_df)"
   ]
  },
  {
   "cell_type": "markdown",
   "metadata": {
    "id": "9sKLiq_jbZcE"
   },
   "source": [
    "### Let's add another feature to our database"
   ]
  },
  {
   "cell_type": "markdown",
   "metadata": {
    "id": "YK3Hog6ibZcE"
   },
   "source": [
    "As we mentioned before, the only feature descriptor of the shapes is x, which refers to cartesian coordinates of each point on the perimeter of the shape. However, how many points are in each contour perimeter is not taken as a unique feature. It is implicitly measure in the length of each x sample, but, we prefer make it explicit."
   ]
  },
  {
   "cell_type": "code",
   "execution_count": 38,
   "metadata": {
    "id": "zrUfyecibZcF"
   },
   "outputs": [],
   "source": [
    "car_df = add_perimeter(car_df)"
   ]
  },
  {
   "cell_type": "code",
   "execution_count": 39,
   "metadata": {
    "id": "i3SPgA8TbZcO",
    "outputId": "5c003205-d684-4c2f-c11b-e93bddfec797",
    "scrolled": true
   },
   "outputs": [
    {
     "name": "stdout",
     "output_type": "stream",
     "text": [
      "This is how our car dataFrame looks like: \n",
      "\n"
     ]
    },
    {
     "data": {
      "text/html": [
       "<div>\n",
       "<style scoped>\n",
       "    .dataframe tbody tr th:only-of-type {\n",
       "        vertical-align: middle;\n",
       "    }\n",
       "\n",
       "    .dataframe tbody tr th {\n",
       "        vertical-align: top;\n",
       "    }\n",
       "\n",
       "    .dataframe thead th {\n",
       "        text-align: right;\n",
       "    }\n",
       "</style>\n",
       "<table border=\"1\" class=\"dataframe\">\n",
       "  <thead>\n",
       "    <tr style=\"text-align: right;\">\n",
       "      <th></th>\n",
       "      <th>x</th>\n",
       "      <th>Class</th>\n",
       "      <th>Sample</th>\n",
       "      <th>Perimeter_length</th>\n",
       "    </tr>\n",
       "  </thead>\n",
       "  <tbody>\n",
       "    <tr>\n",
       "      <th>0</th>\n",
       "      <td>[[113, 181], [114, 180], [114, 179], [114, 178...</td>\n",
       "      <td>1</td>\n",
       "      <td>1</td>\n",
       "      <td>310</td>\n",
       "    </tr>\n",
       "    <tr>\n",
       "      <th>1</th>\n",
       "      <td>[[98, 180], [99, 179], [99, 178], [100, 177], ...</td>\n",
       "      <td>1</td>\n",
       "      <td>10</td>\n",
       "      <td>331</td>\n",
       "    </tr>\n",
       "    <tr>\n",
       "      <th>2</th>\n",
       "      <td>[[70, 180], [71, 180], [72, 179], [73, 178], [...</td>\n",
       "      <td>1</td>\n",
       "      <td>11</td>\n",
       "      <td>344</td>\n",
       "    </tr>\n",
       "    <tr>\n",
       "      <th>3</th>\n",
       "      <td>[[54, 184], [55, 183], [56, 183], [57, 183], [...</td>\n",
       "      <td>1</td>\n",
       "      <td>12</td>\n",
       "      <td>334</td>\n",
       "    </tr>\n",
       "    <tr>\n",
       "      <th>4</th>\n",
       "      <td>[[44, 180], [45, 179], [46, 179], [47, 178], [...</td>\n",
       "      <td>1</td>\n",
       "      <td>13</td>\n",
       "      <td>322</td>\n",
       "    </tr>\n",
       "    <tr>\n",
       "      <th>...</th>\n",
       "      <td>...</td>\n",
       "      <td>...</td>\n",
       "      <td>...</td>\n",
       "      <td>...</td>\n",
       "    </tr>\n",
       "    <tr>\n",
       "      <th>115</th>\n",
       "      <td>[[101, 182], [102, 182], [103, 182], [104, 182...</td>\n",
       "      <td>4</td>\n",
       "      <td>5</td>\n",
       "      <td>373</td>\n",
       "    </tr>\n",
       "    <tr>\n",
       "      <th>116</th>\n",
       "      <td>[[46, 180], [47, 180], [48, 179], [48, 178], [...</td>\n",
       "      <td>4</td>\n",
       "      <td>6</td>\n",
       "      <td>358</td>\n",
       "    </tr>\n",
       "    <tr>\n",
       "      <th>117</th>\n",
       "      <td>[[31, 173], [32, 173], [33, 174], [34, 174], [...</td>\n",
       "      <td>4</td>\n",
       "      <td>7</td>\n",
       "      <td>374</td>\n",
       "    </tr>\n",
       "    <tr>\n",
       "      <th>118</th>\n",
       "      <td>[[20, 170], [21, 171], [22, 170], [23, 170], [...</td>\n",
       "      <td>4</td>\n",
       "      <td>8</td>\n",
       "      <td>356</td>\n",
       "    </tr>\n",
       "    <tr>\n",
       "      <th>119</th>\n",
       "      <td>[[36, 175], [37, 174], [37, 173], [37, 172], [...</td>\n",
       "      <td>4</td>\n",
       "      <td>9</td>\n",
       "      <td>333</td>\n",
       "    </tr>\n",
       "  </tbody>\n",
       "</table>\n",
       "<p>120 rows × 4 columns</p>\n",
       "</div>"
      ],
      "text/plain": [
       "                                                     x  Class  Sample  \\\n",
       "0    [[113, 181], [114, 180], [114, 179], [114, 178...      1       1   \n",
       "1    [[98, 180], [99, 179], [99, 178], [100, 177], ...      1      10   \n",
       "2    [[70, 180], [71, 180], [72, 179], [73, 178], [...      1      11   \n",
       "3    [[54, 184], [55, 183], [56, 183], [57, 183], [...      1      12   \n",
       "4    [[44, 180], [45, 179], [46, 179], [47, 178], [...      1      13   \n",
       "..                                                 ...    ...     ...   \n",
       "115  [[101, 182], [102, 182], [103, 182], [104, 182...      4       5   \n",
       "116  [[46, 180], [47, 180], [48, 179], [48, 178], [...      4       6   \n",
       "117  [[31, 173], [32, 173], [33, 174], [34, 174], [...      4       7   \n",
       "118  [[20, 170], [21, 171], [22, 170], [23, 170], [...      4       8   \n",
       "119  [[36, 175], [37, 174], [37, 173], [37, 172], [...      4       9   \n",
       "\n",
       "     Perimeter_length  \n",
       "0                 310  \n",
       "1                 331  \n",
       "2                 344  \n",
       "3                 334  \n",
       "4                 322  \n",
       "..                ...  \n",
       "115               373  \n",
       "116               358  \n",
       "117               374  \n",
       "118               356  \n",
       "119               333  \n",
       "\n",
       "[120 rows x 4 columns]"
      ]
     },
     "execution_count": 39,
     "metadata": {},
     "output_type": "execute_result"
    }
   ],
   "source": [
    "print(\"This is how our car dataFrame looks like: \\n\")\n",
    "car_df"
   ]
  },
  {
   "cell_type": "markdown",
   "metadata": {
    "id": "L1gKrG8mbZcS"
   },
   "source": [
    "### Changing how x feature is represented"
   ]
  },
  {
   "cell_type": "markdown",
   "metadata": {
    "id": "0WEy_1lgbZcT"
   },
   "source": [
    "When learning a classifier is useful to have features as arrays of numbers, and not as arrays of sequences. In our case, x is an array of (x, y) coordinates; so we are going to separate x and y, an then create two extra features from there."
   ]
  },
  {
   "cell_type": "code",
   "execution_count": 40,
   "metadata": {
    "id": "4LubVXWtbZcT",
    "outputId": "8c2504c6-fd46-4c81-9b39-6934df840e7e",
    "scrolled": true
   },
   "outputs": [
    {
     "name": "stdout",
     "output_type": "stream",
     "text": [
      "272\n"
     ]
    },
    {
     "data": {
      "text/html": [
       "<div>\n",
       "<style scoped>\n",
       "    .dataframe tbody tr th:only-of-type {\n",
       "        vertical-align: middle;\n",
       "    }\n",
       "\n",
       "    .dataframe tbody tr th {\n",
       "        vertical-align: top;\n",
       "    }\n",
       "\n",
       "    .dataframe thead th {\n",
       "        text-align: right;\n",
       "    }\n",
       "</style>\n",
       "<table border=\"1\" class=\"dataframe\">\n",
       "  <thead>\n",
       "    <tr style=\"text-align: right;\">\n",
       "      <th></th>\n",
       "      <th>x</th>\n",
       "      <th>Class</th>\n",
       "      <th>Sample</th>\n",
       "      <th>Perimeter_length</th>\n",
       "      <th>x0</th>\n",
       "      <th>y0</th>\n",
       "      <th>x1</th>\n",
       "      <th>y1</th>\n",
       "      <th>x2</th>\n",
       "      <th>y2</th>\n",
       "      <th>...</th>\n",
       "      <th>x267</th>\n",
       "      <th>y267</th>\n",
       "      <th>x268</th>\n",
       "      <th>y268</th>\n",
       "      <th>x269</th>\n",
       "      <th>y269</th>\n",
       "      <th>x270</th>\n",
       "      <th>y270</th>\n",
       "      <th>x271</th>\n",
       "      <th>y271</th>\n",
       "    </tr>\n",
       "  </thead>\n",
       "  <tbody>\n",
       "    <tr>\n",
       "      <th>0</th>\n",
       "      <td>[[113, 181], [114, 180], [114, 179], [114, 178...</td>\n",
       "      <td>1</td>\n",
       "      <td>1</td>\n",
       "      <td>310</td>\n",
       "      <td>113</td>\n",
       "      <td>181</td>\n",
       "      <td>114</td>\n",
       "      <td>180</td>\n",
       "      <td>114</td>\n",
       "      <td>179</td>\n",
       "      <td>...</td>\n",
       "      <td>150</td>\n",
       "      <td>189</td>\n",
       "      <td>149</td>\n",
       "      <td>189</td>\n",
       "      <td>148</td>\n",
       "      <td>190</td>\n",
       "      <td>147</td>\n",
       "      <td>191</td>\n",
       "      <td>146</td>\n",
       "      <td>191</td>\n",
       "    </tr>\n",
       "    <tr>\n",
       "      <th>1</th>\n",
       "      <td>[[98, 180], [99, 179], [99, 178], [100, 177], ...</td>\n",
       "      <td>1</td>\n",
       "      <td>10</td>\n",
       "      <td>331</td>\n",
       "      <td>98</td>\n",
       "      <td>180</td>\n",
       "      <td>99</td>\n",
       "      <td>179</td>\n",
       "      <td>99</td>\n",
       "      <td>178</td>\n",
       "      <td>...</td>\n",
       "      <td>140</td>\n",
       "      <td>188</td>\n",
       "      <td>139</td>\n",
       "      <td>188</td>\n",
       "      <td>138</td>\n",
       "      <td>189</td>\n",
       "      <td>139</td>\n",
       "      <td>190</td>\n",
       "      <td>138</td>\n",
       "      <td>190</td>\n",
       "    </tr>\n",
       "    <tr>\n",
       "      <th>2</th>\n",
       "      <td>[[70, 180], [71, 180], [72, 179], [73, 178], [...</td>\n",
       "      <td>1</td>\n",
       "      <td>11</td>\n",
       "      <td>344</td>\n",
       "      <td>70</td>\n",
       "      <td>180</td>\n",
       "      <td>71</td>\n",
       "      <td>180</td>\n",
       "      <td>72</td>\n",
       "      <td>179</td>\n",
       "      <td>...</td>\n",
       "      <td>131</td>\n",
       "      <td>186</td>\n",
       "      <td>130</td>\n",
       "      <td>187</td>\n",
       "      <td>129</td>\n",
       "      <td>187</td>\n",
       "      <td>128</td>\n",
       "      <td>187</td>\n",
       "      <td>127</td>\n",
       "      <td>187</td>\n",
       "    </tr>\n",
       "    <tr>\n",
       "      <th>3</th>\n",
       "      <td>[[54, 184], [55, 183], [56, 183], [57, 183], [...</td>\n",
       "      <td>1</td>\n",
       "      <td>12</td>\n",
       "      <td>334</td>\n",
       "      <td>54</td>\n",
       "      <td>184</td>\n",
       "      <td>55</td>\n",
       "      <td>183</td>\n",
       "      <td>56</td>\n",
       "      <td>183</td>\n",
       "      <td>...</td>\n",
       "      <td>108</td>\n",
       "      <td>186</td>\n",
       "      <td>107</td>\n",
       "      <td>187</td>\n",
       "      <td>106</td>\n",
       "      <td>187</td>\n",
       "      <td>105</td>\n",
       "      <td>187</td>\n",
       "      <td>104</td>\n",
       "      <td>188</td>\n",
       "    </tr>\n",
       "    <tr>\n",
       "      <th>4</th>\n",
       "      <td>[[44, 180], [45, 179], [46, 179], [47, 178], [...</td>\n",
       "      <td>1</td>\n",
       "      <td>13</td>\n",
       "      <td>322</td>\n",
       "      <td>44</td>\n",
       "      <td>180</td>\n",
       "      <td>45</td>\n",
       "      <td>179</td>\n",
       "      <td>46</td>\n",
       "      <td>179</td>\n",
       "      <td>...</td>\n",
       "      <td>84</td>\n",
       "      <td>189</td>\n",
       "      <td>83</td>\n",
       "      <td>189</td>\n",
       "      <td>82</td>\n",
       "      <td>190</td>\n",
       "      <td>81</td>\n",
       "      <td>191</td>\n",
       "      <td>82</td>\n",
       "      <td>192</td>\n",
       "    </tr>\n",
       "    <tr>\n",
       "      <th>...</th>\n",
       "      <td>...</td>\n",
       "      <td>...</td>\n",
       "      <td>...</td>\n",
       "      <td>...</td>\n",
       "      <td>...</td>\n",
       "      <td>...</td>\n",
       "      <td>...</td>\n",
       "      <td>...</td>\n",
       "      <td>...</td>\n",
       "      <td>...</td>\n",
       "      <td>...</td>\n",
       "      <td>...</td>\n",
       "      <td>...</td>\n",
       "      <td>...</td>\n",
       "      <td>...</td>\n",
       "      <td>...</td>\n",
       "      <td>...</td>\n",
       "      <td>...</td>\n",
       "      <td>...</td>\n",
       "      <td>...</td>\n",
       "      <td>...</td>\n",
       "    </tr>\n",
       "    <tr>\n",
       "      <th>115</th>\n",
       "      <td>[[101, 182], [102, 182], [103, 182], [104, 182...</td>\n",
       "      <td>4</td>\n",
       "      <td>5</td>\n",
       "      <td>373</td>\n",
       "      <td>101</td>\n",
       "      <td>182</td>\n",
       "      <td>102</td>\n",
       "      <td>182</td>\n",
       "      <td>103</td>\n",
       "      <td>182</td>\n",
       "      <td>...</td>\n",
       "      <td>186</td>\n",
       "      <td>188</td>\n",
       "      <td>185</td>\n",
       "      <td>188</td>\n",
       "      <td>184</td>\n",
       "      <td>188</td>\n",
       "      <td>183</td>\n",
       "      <td>188</td>\n",
       "      <td>182</td>\n",
       "      <td>188</td>\n",
       "    </tr>\n",
       "    <tr>\n",
       "      <th>116</th>\n",
       "      <td>[[46, 180], [47, 180], [48, 179], [48, 178], [...</td>\n",
       "      <td>4</td>\n",
       "      <td>6</td>\n",
       "      <td>358</td>\n",
       "      <td>46</td>\n",
       "      <td>180</td>\n",
       "      <td>47</td>\n",
       "      <td>180</td>\n",
       "      <td>48</td>\n",
       "      <td>179</td>\n",
       "      <td>...</td>\n",
       "      <td>131</td>\n",
       "      <td>186</td>\n",
       "      <td>130</td>\n",
       "      <td>186</td>\n",
       "      <td>129</td>\n",
       "      <td>186</td>\n",
       "      <td>128</td>\n",
       "      <td>186</td>\n",
       "      <td>127</td>\n",
       "      <td>186</td>\n",
       "    </tr>\n",
       "    <tr>\n",
       "      <th>117</th>\n",
       "      <td>[[31, 173], [32, 173], [33, 174], [34, 174], [...</td>\n",
       "      <td>4</td>\n",
       "      <td>7</td>\n",
       "      <td>374</td>\n",
       "      <td>31</td>\n",
       "      <td>173</td>\n",
       "      <td>32</td>\n",
       "      <td>173</td>\n",
       "      <td>33</td>\n",
       "      <td>174</td>\n",
       "      <td>...</td>\n",
       "      <td>111</td>\n",
       "      <td>187</td>\n",
       "      <td>110</td>\n",
       "      <td>188</td>\n",
       "      <td>109</td>\n",
       "      <td>188</td>\n",
       "      <td>108</td>\n",
       "      <td>189</td>\n",
       "      <td>107</td>\n",
       "      <td>189</td>\n",
       "    </tr>\n",
       "    <tr>\n",
       "      <th>118</th>\n",
       "      <td>[[20, 170], [21, 171], [22, 170], [23, 170], [...</td>\n",
       "      <td>4</td>\n",
       "      <td>8</td>\n",
       "      <td>356</td>\n",
       "      <td>20</td>\n",
       "      <td>170</td>\n",
       "      <td>21</td>\n",
       "      <td>171</td>\n",
       "      <td>22</td>\n",
       "      <td>170</td>\n",
       "      <td>...</td>\n",
       "      <td>76</td>\n",
       "      <td>189</td>\n",
       "      <td>75</td>\n",
       "      <td>189</td>\n",
       "      <td>74</td>\n",
       "      <td>189</td>\n",
       "      <td>73</td>\n",
       "      <td>189</td>\n",
       "      <td>72</td>\n",
       "      <td>189</td>\n",
       "    </tr>\n",
       "    <tr>\n",
       "      <th>119</th>\n",
       "      <td>[[36, 175], [37, 174], [37, 173], [37, 172], [...</td>\n",
       "      <td>4</td>\n",
       "      <td>9</td>\n",
       "      <td>333</td>\n",
       "      <td>36</td>\n",
       "      <td>175</td>\n",
       "      <td>37</td>\n",
       "      <td>174</td>\n",
       "      <td>37</td>\n",
       "      <td>173</td>\n",
       "      <td>...</td>\n",
       "      <td>76</td>\n",
       "      <td>186</td>\n",
       "      <td>75</td>\n",
       "      <td>187</td>\n",
       "      <td>74</td>\n",
       "      <td>188</td>\n",
       "      <td>74</td>\n",
       "      <td>189</td>\n",
       "      <td>73</td>\n",
       "      <td>188</td>\n",
       "    </tr>\n",
       "  </tbody>\n",
       "</table>\n",
       "<p>120 rows × 548 columns</p>\n",
       "</div>"
      ],
      "text/plain": [
       "                                                     x  Class  Sample  \\\n",
       "0    [[113, 181], [114, 180], [114, 179], [114, 178...      1       1   \n",
       "1    [[98, 180], [99, 179], [99, 178], [100, 177], ...      1      10   \n",
       "2    [[70, 180], [71, 180], [72, 179], [73, 178], [...      1      11   \n",
       "3    [[54, 184], [55, 183], [56, 183], [57, 183], [...      1      12   \n",
       "4    [[44, 180], [45, 179], [46, 179], [47, 178], [...      1      13   \n",
       "..                                                 ...    ...     ...   \n",
       "115  [[101, 182], [102, 182], [103, 182], [104, 182...      4       5   \n",
       "116  [[46, 180], [47, 180], [48, 179], [48, 178], [...      4       6   \n",
       "117  [[31, 173], [32, 173], [33, 174], [34, 174], [...      4       7   \n",
       "118  [[20, 170], [21, 171], [22, 170], [23, 170], [...      4       8   \n",
       "119  [[36, 175], [37, 174], [37, 173], [37, 172], [...      4       9   \n",
       "\n",
       "     Perimeter_length   x0   y0   x1   y1   x2   y2  ...  x267  y267  x268  \\\n",
       "0                 310  113  181  114  180  114  179  ...   150   189   149   \n",
       "1                 331   98  180   99  179   99  178  ...   140   188   139   \n",
       "2                 344   70  180   71  180   72  179  ...   131   186   130   \n",
       "3                 334   54  184   55  183   56  183  ...   108   186   107   \n",
       "4                 322   44  180   45  179   46  179  ...    84   189    83   \n",
       "..                ...  ...  ...  ...  ...  ...  ...  ...   ...   ...   ...   \n",
       "115               373  101  182  102  182  103  182  ...   186   188   185   \n",
       "116               358   46  180   47  180   48  179  ...   131   186   130   \n",
       "117               374   31  173   32  173   33  174  ...   111   187   110   \n",
       "118               356   20  170   21  171   22  170  ...    76   189    75   \n",
       "119               333   36  175   37  174   37  173  ...    76   186    75   \n",
       "\n",
       "     y268  x269  y269  x270  y270  x271  y271  \n",
       "0     189   148   190   147   191   146   191  \n",
       "1     188   138   189   139   190   138   190  \n",
       "2     187   129   187   128   187   127   187  \n",
       "3     187   106   187   105   187   104   188  \n",
       "4     189    82   190    81   191    82   192  \n",
       "..    ...   ...   ...   ...   ...   ...   ...  \n",
       "115   188   184   188   183   188   182   188  \n",
       "116   186   129   186   128   186   127   186  \n",
       "117   188   109   188   108   189   107   189  \n",
       "118   189    74   189    73   189    72   189  \n",
       "119   187    74   188    74   189    73   188  \n",
       "\n",
       "[120 rows x 548 columns]"
      ]
     },
     "execution_count": 40,
     "metadata": {},
     "output_type": "execute_result"
    }
   ],
   "source": [
    "min_len = min_length(car_df)\n",
    "print(min_len)\n",
    "x_coordinates, y_coordinates = separate_coordinates(car_df, min_len)\n",
    "x_stack, y_stack = get_stacks(x_coordinates, y_coordinates)\n",
    "car_df = insert_columns(car_df, x_stack, y_stack)\n",
    "car_df"
   ]
  },
  {
   "cell_type": "markdown",
   "metadata": {
    "id": "6G7B8ll8bZcX"
   },
   "source": [
    "### Preparing data for classification"
   ]
  },
  {
   "cell_type": "code",
   "execution_count": 41,
   "metadata": {
    "id": "XBaKSYl1bZcY"
   },
   "outputs": [],
   "source": [
    "car_features, car_target = get_features_target(car_df)"
   ]
  },
  {
   "cell_type": "code",
   "execution_count": 42,
   "metadata": {
    "id": "YUwCx0H6bZcb",
    "outputId": "4f247eeb-8bbd-40a0-fcf0-5acf30d2e51b"
   },
   "outputs": [
    {
     "data": {
      "text/html": [
       "<div>\n",
       "<style scoped>\n",
       "    .dataframe tbody tr th:only-of-type {\n",
       "        vertical-align: middle;\n",
       "    }\n",
       "\n",
       "    .dataframe tbody tr th {\n",
       "        vertical-align: top;\n",
       "    }\n",
       "\n",
       "    .dataframe thead th {\n",
       "        text-align: right;\n",
       "    }\n",
       "</style>\n",
       "<table border=\"1\" class=\"dataframe\">\n",
       "  <thead>\n",
       "    <tr style=\"text-align: right;\">\n",
       "      <th></th>\n",
       "      <th>Perimeter_length</th>\n",
       "      <th>x0</th>\n",
       "      <th>y0</th>\n",
       "      <th>x1</th>\n",
       "      <th>y1</th>\n",
       "      <th>x2</th>\n",
       "      <th>y2</th>\n",
       "      <th>x3</th>\n",
       "      <th>y3</th>\n",
       "      <th>x4</th>\n",
       "      <th>...</th>\n",
       "      <th>x267</th>\n",
       "      <th>y267</th>\n",
       "      <th>x268</th>\n",
       "      <th>y268</th>\n",
       "      <th>x269</th>\n",
       "      <th>y269</th>\n",
       "      <th>x270</th>\n",
       "      <th>y270</th>\n",
       "      <th>x271</th>\n",
       "      <th>y271</th>\n",
       "    </tr>\n",
       "  </thead>\n",
       "  <tbody>\n",
       "    <tr>\n",
       "      <th>0</th>\n",
       "      <td>310</td>\n",
       "      <td>113</td>\n",
       "      <td>181</td>\n",
       "      <td>114</td>\n",
       "      <td>180</td>\n",
       "      <td>114</td>\n",
       "      <td>179</td>\n",
       "      <td>114</td>\n",
       "      <td>178</td>\n",
       "      <td>114</td>\n",
       "      <td>...</td>\n",
       "      <td>150</td>\n",
       "      <td>189</td>\n",
       "      <td>149</td>\n",
       "      <td>189</td>\n",
       "      <td>148</td>\n",
       "      <td>190</td>\n",
       "      <td>147</td>\n",
       "      <td>191</td>\n",
       "      <td>146</td>\n",
       "      <td>191</td>\n",
       "    </tr>\n",
       "    <tr>\n",
       "      <th>1</th>\n",
       "      <td>331</td>\n",
       "      <td>98</td>\n",
       "      <td>180</td>\n",
       "      <td>99</td>\n",
       "      <td>179</td>\n",
       "      <td>99</td>\n",
       "      <td>178</td>\n",
       "      <td>100</td>\n",
       "      <td>177</td>\n",
       "      <td>101</td>\n",
       "      <td>...</td>\n",
       "      <td>140</td>\n",
       "      <td>188</td>\n",
       "      <td>139</td>\n",
       "      <td>188</td>\n",
       "      <td>138</td>\n",
       "      <td>189</td>\n",
       "      <td>139</td>\n",
       "      <td>190</td>\n",
       "      <td>138</td>\n",
       "      <td>190</td>\n",
       "    </tr>\n",
       "    <tr>\n",
       "      <th>2</th>\n",
       "      <td>344</td>\n",
       "      <td>70</td>\n",
       "      <td>180</td>\n",
       "      <td>71</td>\n",
       "      <td>180</td>\n",
       "      <td>72</td>\n",
       "      <td>179</td>\n",
       "      <td>73</td>\n",
       "      <td>178</td>\n",
       "      <td>72</td>\n",
       "      <td>...</td>\n",
       "      <td>131</td>\n",
       "      <td>186</td>\n",
       "      <td>130</td>\n",
       "      <td>187</td>\n",
       "      <td>129</td>\n",
       "      <td>187</td>\n",
       "      <td>128</td>\n",
       "      <td>187</td>\n",
       "      <td>127</td>\n",
       "      <td>187</td>\n",
       "    </tr>\n",
       "    <tr>\n",
       "      <th>3</th>\n",
       "      <td>334</td>\n",
       "      <td>54</td>\n",
       "      <td>184</td>\n",
       "      <td>55</td>\n",
       "      <td>183</td>\n",
       "      <td>56</td>\n",
       "      <td>183</td>\n",
       "      <td>57</td>\n",
       "      <td>183</td>\n",
       "      <td>58</td>\n",
       "      <td>...</td>\n",
       "      <td>108</td>\n",
       "      <td>186</td>\n",
       "      <td>107</td>\n",
       "      <td>187</td>\n",
       "      <td>106</td>\n",
       "      <td>187</td>\n",
       "      <td>105</td>\n",
       "      <td>187</td>\n",
       "      <td>104</td>\n",
       "      <td>188</td>\n",
       "    </tr>\n",
       "    <tr>\n",
       "      <th>4</th>\n",
       "      <td>322</td>\n",
       "      <td>44</td>\n",
       "      <td>180</td>\n",
       "      <td>45</td>\n",
       "      <td>179</td>\n",
       "      <td>46</td>\n",
       "      <td>179</td>\n",
       "      <td>47</td>\n",
       "      <td>178</td>\n",
       "      <td>48</td>\n",
       "      <td>...</td>\n",
       "      <td>84</td>\n",
       "      <td>189</td>\n",
       "      <td>83</td>\n",
       "      <td>189</td>\n",
       "      <td>82</td>\n",
       "      <td>190</td>\n",
       "      <td>81</td>\n",
       "      <td>191</td>\n",
       "      <td>82</td>\n",
       "      <td>192</td>\n",
       "    </tr>\n",
       "    <tr>\n",
       "      <th>...</th>\n",
       "      <td>...</td>\n",
       "      <td>...</td>\n",
       "      <td>...</td>\n",
       "      <td>...</td>\n",
       "      <td>...</td>\n",
       "      <td>...</td>\n",
       "      <td>...</td>\n",
       "      <td>...</td>\n",
       "      <td>...</td>\n",
       "      <td>...</td>\n",
       "      <td>...</td>\n",
       "      <td>...</td>\n",
       "      <td>...</td>\n",
       "      <td>...</td>\n",
       "      <td>...</td>\n",
       "      <td>...</td>\n",
       "      <td>...</td>\n",
       "      <td>...</td>\n",
       "      <td>...</td>\n",
       "      <td>...</td>\n",
       "      <td>...</td>\n",
       "    </tr>\n",
       "    <tr>\n",
       "      <th>115</th>\n",
       "      <td>373</td>\n",
       "      <td>101</td>\n",
       "      <td>182</td>\n",
       "      <td>102</td>\n",
       "      <td>182</td>\n",
       "      <td>103</td>\n",
       "      <td>182</td>\n",
       "      <td>104</td>\n",
       "      <td>182</td>\n",
       "      <td>105</td>\n",
       "      <td>...</td>\n",
       "      <td>186</td>\n",
       "      <td>188</td>\n",
       "      <td>185</td>\n",
       "      <td>188</td>\n",
       "      <td>184</td>\n",
       "      <td>188</td>\n",
       "      <td>183</td>\n",
       "      <td>188</td>\n",
       "      <td>182</td>\n",
       "      <td>188</td>\n",
       "    </tr>\n",
       "    <tr>\n",
       "      <th>116</th>\n",
       "      <td>358</td>\n",
       "      <td>46</td>\n",
       "      <td>180</td>\n",
       "      <td>47</td>\n",
       "      <td>180</td>\n",
       "      <td>48</td>\n",
       "      <td>179</td>\n",
       "      <td>48</td>\n",
       "      <td>178</td>\n",
       "      <td>48</td>\n",
       "      <td>...</td>\n",
       "      <td>131</td>\n",
       "      <td>186</td>\n",
       "      <td>130</td>\n",
       "      <td>186</td>\n",
       "      <td>129</td>\n",
       "      <td>186</td>\n",
       "      <td>128</td>\n",
       "      <td>186</td>\n",
       "      <td>127</td>\n",
       "      <td>186</td>\n",
       "    </tr>\n",
       "    <tr>\n",
       "      <th>117</th>\n",
       "      <td>374</td>\n",
       "      <td>31</td>\n",
       "      <td>173</td>\n",
       "      <td>32</td>\n",
       "      <td>173</td>\n",
       "      <td>33</td>\n",
       "      <td>174</td>\n",
       "      <td>34</td>\n",
       "      <td>174</td>\n",
       "      <td>35</td>\n",
       "      <td>...</td>\n",
       "      <td>111</td>\n",
       "      <td>187</td>\n",
       "      <td>110</td>\n",
       "      <td>188</td>\n",
       "      <td>109</td>\n",
       "      <td>188</td>\n",
       "      <td>108</td>\n",
       "      <td>189</td>\n",
       "      <td>107</td>\n",
       "      <td>189</td>\n",
       "    </tr>\n",
       "    <tr>\n",
       "      <th>118</th>\n",
       "      <td>356</td>\n",
       "      <td>20</td>\n",
       "      <td>170</td>\n",
       "      <td>21</td>\n",
       "      <td>171</td>\n",
       "      <td>22</td>\n",
       "      <td>170</td>\n",
       "      <td>23</td>\n",
       "      <td>170</td>\n",
       "      <td>24</td>\n",
       "      <td>...</td>\n",
       "      <td>76</td>\n",
       "      <td>189</td>\n",
       "      <td>75</td>\n",
       "      <td>189</td>\n",
       "      <td>74</td>\n",
       "      <td>189</td>\n",
       "      <td>73</td>\n",
       "      <td>189</td>\n",
       "      <td>72</td>\n",
       "      <td>189</td>\n",
       "    </tr>\n",
       "    <tr>\n",
       "      <th>119</th>\n",
       "      <td>333</td>\n",
       "      <td>36</td>\n",
       "      <td>175</td>\n",
       "      <td>37</td>\n",
       "      <td>174</td>\n",
       "      <td>37</td>\n",
       "      <td>173</td>\n",
       "      <td>37</td>\n",
       "      <td>172</td>\n",
       "      <td>38</td>\n",
       "      <td>...</td>\n",
       "      <td>76</td>\n",
       "      <td>186</td>\n",
       "      <td>75</td>\n",
       "      <td>187</td>\n",
       "      <td>74</td>\n",
       "      <td>188</td>\n",
       "      <td>74</td>\n",
       "      <td>189</td>\n",
       "      <td>73</td>\n",
       "      <td>188</td>\n",
       "    </tr>\n",
       "  </tbody>\n",
       "</table>\n",
       "<p>120 rows × 545 columns</p>\n",
       "</div>"
      ],
      "text/plain": [
       "     Perimeter_length   x0   y0   x1   y1   x2   y2   x3   y3   x4  ...  x267  \\\n",
       "0                 310  113  181  114  180  114  179  114  178  114  ...   150   \n",
       "1                 331   98  180   99  179   99  178  100  177  101  ...   140   \n",
       "2                 344   70  180   71  180   72  179   73  178   72  ...   131   \n",
       "3                 334   54  184   55  183   56  183   57  183   58  ...   108   \n",
       "4                 322   44  180   45  179   46  179   47  178   48  ...    84   \n",
       "..                ...  ...  ...  ...  ...  ...  ...  ...  ...  ...  ...   ...   \n",
       "115               373  101  182  102  182  103  182  104  182  105  ...   186   \n",
       "116               358   46  180   47  180   48  179   48  178   48  ...   131   \n",
       "117               374   31  173   32  173   33  174   34  174   35  ...   111   \n",
       "118               356   20  170   21  171   22  170   23  170   24  ...    76   \n",
       "119               333   36  175   37  174   37  173   37  172   38  ...    76   \n",
       "\n",
       "     y267  x268  y268  x269  y269  x270  y270  x271  y271  \n",
       "0     189   149   189   148   190   147   191   146   191  \n",
       "1     188   139   188   138   189   139   190   138   190  \n",
       "2     186   130   187   129   187   128   187   127   187  \n",
       "3     186   107   187   106   187   105   187   104   188  \n",
       "4     189    83   189    82   190    81   191    82   192  \n",
       "..    ...   ...   ...   ...   ...   ...   ...   ...   ...  \n",
       "115   188   185   188   184   188   183   188   182   188  \n",
       "116   186   130   186   129   186   128   186   127   186  \n",
       "117   187   110   188   109   188   108   189   107   189  \n",
       "118   189    75   189    74   189    73   189    72   189  \n",
       "119   186    75   187    74   188    74   189    73   188  \n",
       "\n",
       "[120 rows x 545 columns]"
      ]
     },
     "execution_count": 42,
     "metadata": {},
     "output_type": "execute_result"
    }
   ],
   "source": [
    "# The selected features are: 'Perimeter_length', 'xJ' and 'yJ'  (J -> [0, 271])\n",
    "car_features"
   ]
  },
  {
   "cell_type": "markdown",
   "metadata": {
    "id": "xVVL6i5ubZch"
   },
   "source": [
    "We have put all Classes in a unique structure."
   ]
  },
  {
   "cell_type": "code",
   "execution_count": 43,
   "metadata": {
    "id": "_chvFYwmbZcj",
    "outputId": "31d2ff76-a681-493d-83fe-092632f76ace",
    "scrolled": true
   },
   "outputs": [
    {
     "data": {
      "text/plain": [
       "0      1\n",
       "1      1\n",
       "2      1\n",
       "3      1\n",
       "4      1\n",
       "      ..\n",
       "115    4\n",
       "116    4\n",
       "117    4\n",
       "118    4\n",
       "119    4\n",
       "Name: Class, Length: 120, dtype: int64"
      ]
     },
     "execution_count": 43,
     "metadata": {},
     "output_type": "execute_result"
    }
   ],
   "source": [
    "car_target"
   ]
  },
  {
   "cell_type": "markdown",
   "metadata": {
    "id": "LW2l7-cLXHPc"
   },
   "source": [
    "# 4. Dividing train and test data\n",
    "\n",
    "Also, to evaluate the accuracy of the classifiers in the dataset we will split the data in two sets. Train and Test data. \n",
    "Each set will have the same number of samples of each class (15)."
   ]
  },
  {
   "cell_type": "markdown",
   "metadata": {
    "id": "LYvL1R2qbZc3"
   },
   "source": [
    "### Divide train and test features"
   ]
  },
  {
   "cell_type": "code",
   "execution_count": 44,
   "metadata": {
    "id": "X79m8PxxbZc4"
   },
   "outputs": [],
   "source": [
    "def train_test_features(features):\n",
    "    train_features = features[0::2]\n",
    "    test_features = features[1::2]\n",
    "\n",
    "    return train_features, test_features"
   ]
  },
  {
   "cell_type": "markdown",
   "metadata": {
    "id": "Kvs6E2lgbZc6"
   },
   "source": [
    "### Divide train and test target"
   ]
  },
  {
   "cell_type": "code",
   "execution_count": 45,
   "metadata": {
    "id": "4O78vhaWbZc7"
   },
   "outputs": [],
   "source": [
    "def train_test_target(target):\n",
    "    train_target = target[0::2]\n",
    "    test_target = target[1::2]\n",
    "\n",
    "    return train_target, test_target"
   ]
  },
  {
   "cell_type": "markdown",
   "metadata": {
    "id": "oYigzA_wbZc9"
   },
   "source": [
    "## 4.1. Dividing the plane data"
   ]
  },
  {
   "cell_type": "code",
   "execution_count": 46,
   "metadata": {
    "id": "1TY_e_rNbZc-"
   },
   "outputs": [],
   "source": [
    "plane_train_features, plane_test_features = train_test_features(plane_features)\n",
    "plane_train_target, plane_test_target = train_test_features(plane_target)"
   ]
  },
  {
   "cell_type": "markdown",
   "metadata": {
    "id": "J_5XfplybZdG"
   },
   "source": [
    "## 4.2. Dividing the car data"
   ]
  },
  {
   "cell_type": "code",
   "execution_count": 47,
   "metadata": {
    "id": "DsfvnLrwbZdJ"
   },
   "outputs": [],
   "source": [
    "car_train_features, car_test_features = train_test_features(car_features)\n",
    "car_train_target, car_test_target = train_test_features(car_target)"
   ]
  },
  {
   "cell_type": "markdown",
   "metadata": {
    "id": "2Vhx-ZimbZcn"
   },
   "source": [
    "# 5. Scaling the data"
   ]
  },
  {
   "cell_type": "markdown",
   "metadata": {
    "id": "XCLx3gYrbZco"
   },
   "source": [
    "## 5.1. Scaling the plane data"
   ]
  },
  {
   "cell_type": "code",
   "execution_count": 49,
   "metadata": {
    "id": "pXLMzowvbZcp",
    "outputId": "89ab320a-c796-45ea-acbf-7f3846185180"
   },
   "outputs": [
    {
     "data": {
      "text/plain": [
       "array([[-0.73999423, -0.24373978, -0.30372496, ...,  0.0414752 ,\n",
       "        -0.87300239,  0.0528201 ],\n",
       "       [ 0.13049222, -0.35786543, -0.62363589, ..., -0.33028419,\n",
       "         0.5277887 , -0.33576091],\n",
       "       [-0.42345371, -0.24373978,  0.49605237, ..., -0.48960965,\n",
       "        -0.55821787, -0.47706309],\n",
       "       ...,\n",
       "       [ 2.30670835, -1.09968214,  2.01562929, ..., -2.29529812,\n",
       "         0.59074561, -2.29632872],\n",
       "       [ 2.14278557, -1.4705905 , -1.90327961, ..., -0.10014743,\n",
       "         0.87405167, -0.10614486],\n",
       "       [ 0.54877792, -0.0725513 ,  0.0961637 , ...,  0.6079657 ,\n",
       "         0.02413348,  0.61802884]])"
      ]
     },
     "execution_count": 49,
     "metadata": {},
     "output_type": "execute_result"
    }
   ],
   "source": [
    "plane_scaler = StandardScaler()\n",
    "plane_scaler = plane_scaler.fit(plane_train_features)\n",
    "plane_train_features_scaled = plane_scaler.transform(plane_train_features)\n",
    "plane_test_features_scaled = plane_scaler.transform(plane_test_features)\n",
    "plane_train_features_scaled"
   ]
  },
  {
   "cell_type": "markdown",
   "metadata": {
    "id": "ow5x3uGCbZct"
   },
   "source": [
    "## 5.2. Scaling the car data"
   ]
  },
  {
   "cell_type": "code",
   "execution_count": 51,
   "metadata": {
    "id": "sM91zqq9bZcu",
    "outputId": "d02632ef-395a-4ec3-8f2a-8c351cdfc66d"
   },
   "outputs": [
    {
     "data": {
      "text/plain": [
       "array([[-1.03401769,  0.63862483,  0.65780993, ...,  0.88122895,\n",
       "        -0.64015655,  0.87599671],\n",
       "       [-0.75473846, -0.16471601,  0.58205447, ...,  0.67629199,\n",
       "        -0.8871205 ,  0.67008171],\n",
       "       [-0.93544855, -0.65045698,  0.58205447, ...,  0.88122895,\n",
       "        -1.47203511,  0.92747546],\n",
       "       ...,\n",
       "       [-0.55760017,  0.73203656,  0.12752169, ...,  0.72752623,\n",
       "        -0.14622865,  0.72156046],\n",
       "       [-0.63974112, -0.61309229,  0.58205447, ...,  0.62505775,\n",
       "        -0.8871205 ,  0.61860296],\n",
       "       [-0.65616931, -1.09883327, -0.17550015, ...,  0.77876047,\n",
       "        -1.60201613,  0.77303921]])"
      ]
     },
     "execution_count": 51,
     "metadata": {},
     "output_type": "execute_result"
    }
   ],
   "source": [
    "car_scaler = StandardScaler()\n",
    "car_scaler = car_scaler.fit(car_train_features)\n",
    "car_train_features_scaled = car_scaler.transform(car_train_features)\n",
    "car_test_features_scaled = car_scaler.transform(car_test_features)\n",
    "car_train_features_scaled"
   ]
  },
  {
   "cell_type": "markdown",
   "metadata": {
    "id": "5_hm1Gf9bZdP"
   },
   "source": [
    "# 6. Classification"
   ]
  },
  {
   "cell_type": "markdown",
   "metadata": {
    "id": "b3bAcwEkXHPk"
   },
   "source": [
    "### Defining the classifiers\n",
    "We define the three classifiers used."
   ]
  },
  {
   "cell_type": "code",
   "execution_count": 52,
   "metadata": {
    "id": "cl1v232DbZdR"
   },
   "outputs": [],
   "source": [
    "def get_classifiers():\n",
    "    dt  = DecisionTreeClassifier()\n",
    "    lda = LinearDiscriminantAnalysis()\n",
    "    lg  = LogisticRegression(max_iter=2000)\n",
    "    return dt, lda, lg"
   ]
  },
  {
   "cell_type": "markdown",
   "metadata": {
    "id": "g6v3DiLkXHPv"
   },
   "source": [
    "### Learning the classifiers\n",
    "We used the train data to learn the three classifiers"
   ]
  },
  {
   "cell_type": "code",
   "execution_count": 53,
   "metadata": {
    "id": "GgBo5nDubZdW"
   },
   "outputs": [],
   "source": [
    "def fit_classifiers(dt, lda, lg, train_features, train_target):\n",
    "    dt.fit(train_features, train_target)\n",
    "    lda.fit(train_features, train_target)\n",
    "    lg.fit(train_features, train_target)"
   ]
  },
  {
   "cell_type": "markdown",
   "metadata": {
    "id": "Ae1aQRdbXHP3"
   },
   "source": [
    "### Using the classifier for predictions\n",
    "We predict the class of the samples in the test data with the three classifiers."
   ]
  },
  {
   "cell_type": "code",
   "execution_count": 54,
   "metadata": {
    "id": "InudfJVQbZda"
   },
   "outputs": [],
   "source": [
    "def predict_classifiers(dt, lda, lg, test_features):\n",
    "    dt_test_predictions = dt.predict(test_features)\n",
    "    lda_test_predictions = lda.predict(test_features)\n",
    "    lg_test_predictions = lg.predict(test_features)\n",
    "    \n",
    "    return dt_test_predictions, lda_test_predictions, lg_test_predictions"
   ]
  },
  {
   "cell_type": "markdown",
   "metadata": {
    "id": "aS1xGi_SbZdd"
   },
   "source": [
    "## 6.1. Classification for the plane data"
   ]
  },
  {
   "cell_type": "markdown",
   "metadata": {
    "id": "Izf222VhbZdI"
   },
   "source": [
    "## Not scaled data"
   ]
  },
  {
   "cell_type": "markdown",
   "metadata": {
    "id": "SeNE1CeAbZde"
   },
   "source": [
    "### Defining the classifiers\n",
    "We define the three classifiers used."
   ]
  },
  {
   "cell_type": "code",
   "execution_count": 55,
   "metadata": {
    "id": "FQ0-wN-9XHPn"
   },
   "outputs": [],
   "source": [
    "plane_dt, plane_lda, plane_lg = get_classifiers()"
   ]
  },
  {
   "cell_type": "markdown",
   "metadata": {
    "id": "k06TT3icbZdg"
   },
   "source": [
    "### Learning the classifiers\n",
    "We used the train data to learn the three classifiers"
   ]
  },
  {
   "cell_type": "code",
   "execution_count": 56,
   "metadata": {
    "id": "PTaDZWiKbZdh"
   },
   "outputs": [],
   "source": [
    "fit_classifiers(plane_dt, plane_lda, plane_lg, plane_train_features, plane_train_target)"
   ]
  },
  {
   "cell_type": "markdown",
   "metadata": {
    "id": "fouMyAXwbZdj"
   },
   "source": [
    "### Using the classifier for predictions\n",
    "We predict the class of the samples in the test data with the three classifiers."
   ]
  },
  {
   "cell_type": "code",
   "execution_count": 57,
   "metadata": {
    "id": "er_ABc2xbZdj"
   },
   "outputs": [],
   "source": [
    "plane_dt_test_predictions, plane_lda_test_predictions, plane_lg_test_predictions = \\\n",
    "predict_classifiers(plane_dt, plane_lda, plane_lg, plane_test_features)"
   ]
  },
  {
   "cell_type": "markdown",
   "metadata": {
    "id": "Izf222VhbZdI"
   },
   "source": [
    "## Scaled data"
   ]
  },
  {
   "cell_type": "markdown",
   "metadata": {
    "id": "k06TT3icbZdg"
   },
   "source": [
    "### Learning the classifiers\n",
    "We used the train data to learn the three classifiers"
   ]
  },
  {
   "cell_type": "code",
   "execution_count": 58,
   "metadata": {
    "id": "PTaDZWiKbZdh"
   },
   "outputs": [],
   "source": [
    "fit_classifiers(plane_dt, plane_lda, plane_lg, plane_train_features_scaled, plane_train_target)"
   ]
  },
  {
   "cell_type": "markdown",
   "metadata": {
    "id": "fouMyAXwbZdj"
   },
   "source": [
    "### Using the classifier for predictions\n",
    "We predict the class of the samples in the test data with the three classifiers."
   ]
  },
  {
   "cell_type": "code",
   "execution_count": 59,
   "metadata": {
    "id": "er_ABc2xbZdj"
   },
   "outputs": [],
   "source": [
    "plane_dt_test_predictions_scaled, plane_lda_test_predictions_scaled, plane_lg_test_predictions_scaled = \\\n",
    "predict_classifiers(plane_dt, plane_lda, plane_lg, plane_test_features_scaled)"
   ]
  },
  {
   "cell_type": "markdown",
   "metadata": {
    "id": "kP_JbwBtbZdl"
   },
   "source": [
    "## 6.2. Classification for the car data"
   ]
  },
  {
   "cell_type": "markdown",
   "metadata": {
    "id": "Izf222VhbZdI"
   },
   "source": [
    "## Not scaled data"
   ]
  },
  {
   "cell_type": "markdown",
   "metadata": {
    "id": "U9LstVPMbZdl"
   },
   "source": [
    "### Defining the classifiers\n",
    "We define the three classifiers used."
   ]
  },
  {
   "cell_type": "code",
   "execution_count": 60,
   "metadata": {
    "id": "adcLTCa3bZdm"
   },
   "outputs": [],
   "source": [
    "car_dt, car_lda, car_lg = get_classifiers()"
   ]
  },
  {
   "cell_type": "markdown",
   "metadata": {
    "id": "Ltc5E6j-bZdo"
   },
   "source": [
    "### Learning the classifiers\n",
    "We used the train data to learn the three classifiers"
   ]
  },
  {
   "cell_type": "code",
   "execution_count": 61,
   "metadata": {
    "id": "zGoJK2INbZdo"
   },
   "outputs": [],
   "source": [
    "fit_classifiers(car_dt, car_lda, car_lg, car_train_features, car_train_target)"
   ]
  },
  {
   "cell_type": "markdown",
   "metadata": {
    "id": "tLhTY7AhbZdq"
   },
   "source": [
    "### Using the classifier for predictions\n",
    "We predict the class of the samples in the test data with the three classifiers."
   ]
  },
  {
   "cell_type": "code",
   "execution_count": 62,
   "metadata": {
    "id": "H-mzfQjkbZdu"
   },
   "outputs": [],
   "source": [
    "car_dt_test_predictions, car_lda_test_predictions, car_lg_test_predictions = \\\n",
    "predict_classifiers(car_dt, car_lda, car_lg, car_test_features)"
   ]
  },
  {
   "cell_type": "markdown",
   "metadata": {
    "id": "Izf222VhbZdI"
   },
   "source": [
    "## Scaled data"
   ]
  },
  {
   "cell_type": "markdown",
   "metadata": {
    "id": "Ltc5E6j-bZdo"
   },
   "source": [
    "### Learning the classifiers\n",
    "We used the train data to learn the three classifiers"
   ]
  },
  {
   "cell_type": "code",
   "execution_count": 63,
   "metadata": {
    "id": "zGoJK2INbZdo"
   },
   "outputs": [],
   "source": [
    "fit_classifiers(car_dt, car_lda, car_lg, car_train_features_scaled, car_train_target)"
   ]
  },
  {
   "cell_type": "markdown",
   "metadata": {
    "id": "tLhTY7AhbZdq"
   },
   "source": [
    "### Using the classifier for predictions\n",
    "We predict the class of the samples in the test data with the three classifiers."
   ]
  },
  {
   "cell_type": "code",
   "execution_count": 64,
   "metadata": {
    "id": "H-mzfQjkbZdu"
   },
   "outputs": [],
   "source": [
    "car_dt_test_predictions_scaled, car_lda_test_predictions_scaled, car_lg_test_predictions_scaled = \\\n",
    "predict_classifiers(car_dt, car_lda, car_lg, car_test_features_scaled)"
   ]
  },
  {
   "cell_type": "markdown",
   "metadata": {
    "id": "G5LINjbKbZdw"
   },
   "source": [
    "# 7. Validation"
   ]
  },
  {
   "cell_type": "markdown",
   "metadata": {
    "id": "cBu8ruEFXHP6"
   },
   "source": [
    "### Computing the accuracy\n",
    "\n",
    "We compute the accuracy using the three classifiers and print it. "
   ]
  },
  {
   "cell_type": "code",
   "execution_count": 65,
   "metadata": {
    "id": "ZNDcVOMVbZdw"
   },
   "outputs": [],
   "source": [
    "def print_accuracies(test_target, dt_test_predictions, lda_test_predictions, lg_test_predictions):\n",
    "    dt_acc =  accuracy_score(test_target, dt_test_predictions)\n",
    "    lda_acc =  accuracy_score(test_target, lda_test_predictions)\n",
    "    lg_acc =  accuracy_score(test_target, lg_test_predictions)\n",
    "    print(\"Accuracy for the decision tree :\", dt_acc)\n",
    "    print(\"Accuracy for LDA :\", lda_acc)\n",
    "    print(\"Accuracy for logistic regression:\", lg_acc)"
   ]
  },
  {
   "cell_type": "markdown",
   "metadata": {
    "id": "WE1QfhVCXHP_"
   },
   "source": [
    "### Computing the confusion matrices\n",
    "We compute the confusion matrices for the three classifiers. We print the confusion matrices and also generate the latex code to insert it in our written report. \n"
   ]
  },
  {
   "cell_type": "code",
   "execution_count": 66,
   "metadata": {
    "id": "oa5X1bCFbZdz"
   },
   "outputs": [],
   "source": [
    "def print_confusion_matrices(test_target, dt_test_predictions, lda_test_predictions, lg_test_predictions):\n",
    "    print(\"Confusion matrix decision tree\")\n",
    "    cm_dt = pd.crosstab(test_target, dt_test_predictions)\n",
    "    print(cm_dt)\n",
    "    print()\n",
    "    #print(cm_dt.to_latex())\n",
    "    \n",
    "    print(\"Confusion matrix LDA\")\n",
    "    cm_lda = pd.crosstab(test_target, lda_test_predictions)\n",
    "    print(cm_lda)\n",
    "    print()\n",
    "    #print(cm_lda.to_latex())\n",
    "    \n",
    "    print(\"Confusion matrix Logistic regression\")\n",
    "    cm_lg = pd.crosstab(test_target, lg_test_predictions)\n",
    "    print(cm_lg)\n",
    "    print()\n",
    "    #print(cm_lg.to_latex())"
   ]
  },
  {
   "cell_type": "markdown",
   "metadata": {
    "id": "1YEMlmbUbZd4"
   },
   "source": [
    "## 7.1. Validation for the plane data"
   ]
  },
  {
   "cell_type": "markdown",
   "metadata": {
    "id": "Izf222VhbZdI"
   },
   "source": [
    "## Not scaled data"
   ]
  },
  {
   "cell_type": "markdown",
   "metadata": {
    "id": "IxaFOOqvbZd5"
   },
   "source": [
    "## Computing the accuracy\n",
    "\n",
    "We compute the accuracy using the three classifiers and print it. Mention that accuracy score is a good measure as classes in both datasets are balanced."
   ]
  },
  {
   "cell_type": "code",
   "execution_count": 67,
   "metadata": {
    "id": "DSQHxmRfbZd6",
    "outputId": "4a9ff04f-e0be-4937-c55d-cb2171e5fe05",
    "scrolled": true
   },
   "outputs": [
    {
     "name": "stdout",
     "output_type": "stream",
     "text": [
      "Accuracy for the decision tree : 0.8\n",
      "Accuracy for LDA : 0.9523809523809523\n",
      "Accuracy for logistic regression: 0.9428571428571428\n"
     ]
    }
   ],
   "source": [
    "print_accuracies(plane_test_target, plane_dt_test_predictions, plane_lda_test_predictions, plane_lg_test_predictions)"
   ]
  },
  {
   "cell_type": "markdown",
   "metadata": {
    "id": "ucNk7JAGbZd9"
   },
   "source": [
    "## Computing the confusion matrices\n",
    "We compute the confusion matrices for the three classifiers. We print the confusion matrices and also generate the latex code to insert it in our written report. \n"
   ]
  },
  {
   "cell_type": "code",
   "execution_count": 68,
   "metadata": {
    "id": "Iwp1lntcbZd-",
    "outputId": "26bee4a5-aa74-4688-9c1a-8720c8c4bbac"
   },
   "outputs": [
    {
     "name": "stdout",
     "output_type": "stream",
     "text": [
      "Confusion matrix decision tree\n",
      "col_0  1   2   3   4   5   6   7\n",
      "Class                           \n",
      "1      8   2   1   1   0   1   2\n",
      "2      0  10   0   0   1   0   4\n",
      "3      2   0  10   0   0   2   1\n",
      "4      0   1   0  14   0   0   0\n",
      "5      0   0   0   0  14   1   0\n",
      "6      0   0   0   0   0  15   0\n",
      "7      2   0   0   0   0   0  13\n",
      "\n",
      "Confusion matrix LDA\n",
      "col_0   1   2   3   4   5   6   7\n",
      "Class                            \n",
      "1      13   0   0   0   0   2   0\n",
      "2       0  12   0   0   0   0   3\n",
      "3       0   0  15   0   0   0   0\n",
      "4       0   0   0  15   0   0   0\n",
      "5       0   0   0   0  15   0   0\n",
      "6       0   0   0   0   0  15   0\n",
      "7       0   0   0   0   0   0  15\n",
      "\n",
      "Confusion matrix Logistic regression\n",
      "col_0   1   2   3   4   5   6   7\n",
      "Class                            \n",
      "1      13   0   1   0   0   1   0\n",
      "2       1  11   0   0   0   0   3\n",
      "3       0   0  15   0   0   0   0\n",
      "4       0   0   0  15   0   0   0\n",
      "5       0   0   0   0  15   0   0\n",
      "6       0   0   0   0   0  15   0\n",
      "7       0   0   0   0   0   0  15\n",
      "\n"
     ]
    }
   ],
   "source": [
    "print_confusion_matrices(plane_test_target, plane_dt_test_predictions, plane_lda_test_predictions, plane_lg_test_predictions)"
   ]
  },
  {
   "cell_type": "markdown",
   "metadata": {
    "id": "Izf222VhbZdI"
   },
   "source": [
    "## Scaled data"
   ]
  },
  {
   "cell_type": "markdown",
   "metadata": {
    "id": "IxaFOOqvbZd5"
   },
   "source": [
    "## Computing the accuracy\n",
    "\n",
    "We compute the accuracy using the three classifiers and print it. "
   ]
  },
  {
   "cell_type": "code",
   "execution_count": 69,
   "metadata": {
    "id": "DSQHxmRfbZd6",
    "outputId": "4a9ff04f-e0be-4937-c55d-cb2171e5fe05"
   },
   "outputs": [
    {
     "name": "stdout",
     "output_type": "stream",
     "text": [
      "Accuracy for the decision tree : 0.819047619047619\n",
      "Accuracy for LDA : 0.9523809523809523\n",
      "Accuracy for logistic regression: 0.9238095238095239\n"
     ]
    }
   ],
   "source": [
    "print_accuracies(plane_test_target, plane_dt_test_predictions_scaled, plane_lda_test_predictions_scaled, plane_lg_test_predictions_scaled)"
   ]
  },
  {
   "cell_type": "markdown",
   "metadata": {
    "id": "ucNk7JAGbZd9"
   },
   "source": [
    "## Computing the confusion matrices\n",
    "We compute the confusion matrices for the three classifiers. We print the confusion matrices and also generate the latex code to insert it in our written report. \n"
   ]
  },
  {
   "cell_type": "code",
   "execution_count": 70,
   "metadata": {
    "id": "Iwp1lntcbZd-",
    "outputId": "26bee4a5-aa74-4688-9c1a-8720c8c4bbac"
   },
   "outputs": [
    {
     "name": "stdout",
     "output_type": "stream",
     "text": [
      "Confusion matrix decision tree\n",
      "col_0  1   2   3   4   5   6   7\n",
      "Class                           \n",
      "1      9   1   2   0   0   1   2\n",
      "2      0  10   0   0   1   0   4\n",
      "3      1   0  11   0   0   2   1\n",
      "4      0   1   0  14   0   0   0\n",
      "5      0   0   0   0  14   1   0\n",
      "6      0   0   0   0   0  15   0\n",
      "7      2   0   0   0   0   0  13\n",
      "\n",
      "Confusion matrix LDA\n",
      "col_0   1   2   3   4   5   6   7\n",
      "Class                            \n",
      "1      13   0   0   0   0   2   0\n",
      "2       0  12   0   0   0   0   3\n",
      "3       0   0  15   0   0   0   0\n",
      "4       0   0   0  15   0   0   0\n",
      "5       0   0   0   0  15   0   0\n",
      "6       0   0   0   0   0  15   0\n",
      "7       0   0   0   0   0   0  15\n",
      "\n",
      "Confusion matrix Logistic regression\n",
      "col_0   1   2   3   4   5   6   7\n",
      "Class                            \n",
      "1      13   0   1   0   0   1   0\n",
      "2       1  11   0   0   0   0   3\n",
      "3       0   0  14   0   0   1   0\n",
      "4       0   0   0  15   0   0   0\n",
      "5       0   0   0   0  15   0   0\n",
      "6       0   0   0   0   0  15   0\n",
      "7       0   0   0   1   0   0  14\n",
      "\n"
     ]
    }
   ],
   "source": [
    "print_confusion_matrices(plane_test_target, plane_dt_test_predictions_scaled, plane_lda_test_predictions_scaled, plane_lg_test_predictions_scaled)"
   ]
  },
  {
   "cell_type": "markdown",
   "metadata": {
    "id": "5AUoyZmVbZeB"
   },
   "source": [
    "## 7.2. Validation for the car data"
   ]
  },
  {
   "cell_type": "markdown",
   "metadata": {
    "id": "Izf222VhbZdI"
   },
   "source": [
    "## Not scaled data"
   ]
  },
  {
   "cell_type": "markdown",
   "metadata": {
    "id": "orsRRaKMbZeC"
   },
   "source": [
    "## Computing the accuracy\n",
    "\n",
    "We compute the accuracy using the three classifiers and print it. "
   ]
  },
  {
   "cell_type": "code",
   "execution_count": 71,
   "metadata": {
    "id": "ZoPzbykubZeC",
    "outputId": "38ba3384-b0fa-4c8a-b625-2dc0e2da92b3"
   },
   "outputs": [
    {
     "name": "stdout",
     "output_type": "stream",
     "text": [
      "Accuracy for the decision tree : 0.75\n",
      "Accuracy for LDA : 0.9\n",
      "Accuracy for logistic regression: 0.8666666666666667\n"
     ]
    }
   ],
   "source": [
    "print_accuracies(car_test_target, car_dt_test_predictions, car_lda_test_predictions, car_lg_test_predictions)"
   ]
  },
  {
   "cell_type": "markdown",
   "metadata": {
    "id": "nRggwnRMbZeF"
   },
   "source": [
    "## Computing the confusion matrices\n",
    "We compute the confusion matrices for the three classifiers. We print the confusion matrices and also generate the latex code to insert it in our written report. \n"
   ]
  },
  {
   "cell_type": "code",
   "execution_count": 72,
   "metadata": {
    "id": "0T62FE3UbZeF",
    "outputId": "bdaefcf8-48e3-4c3b-a3f5-c804fa1cd131",
    "scrolled": true
   },
   "outputs": [
    {
     "name": "stdout",
     "output_type": "stream",
     "text": [
      "Confusion matrix decision tree\n",
      "col_0   1   2   3  4\n",
      "Class               \n",
      "1      13   0   0  2\n",
      "2       1  10   1  3\n",
      "3       0   0  15  0\n",
      "4       3   4   1  7\n",
      "\n",
      "Confusion matrix LDA\n",
      "col_0   1   2   3   4\n",
      "Class                \n",
      "1      13   0   0   2\n",
      "2       0  15   0   0\n",
      "3       0   1  13   1\n",
      "4       0   0   2  13\n",
      "\n",
      "Confusion matrix Logistic regression\n",
      "col_0   1   2   3   4\n",
      "Class                \n",
      "1      14   0   1   0\n",
      "2       0  14   1   0\n",
      "3       0   1  12   2\n",
      "4       0   0   3  12\n",
      "\n"
     ]
    }
   ],
   "source": [
    "print_confusion_matrices(car_test_target, car_dt_test_predictions, car_lda_test_predictions, car_lg_test_predictions)"
   ]
  },
  {
   "cell_type": "markdown",
   "metadata": {
    "id": "Izf222VhbZdI"
   },
   "source": [
    "## Scaled data"
   ]
  },
  {
   "cell_type": "markdown",
   "metadata": {
    "id": "orsRRaKMbZeC"
   },
   "source": [
    "## Computing the accuracy\n",
    "\n",
    "We compute the accuracy using the three classifiers and print it. "
   ]
  },
  {
   "cell_type": "code",
   "execution_count": 73,
   "metadata": {
    "id": "ZoPzbykubZeC",
    "outputId": "38ba3384-b0fa-4c8a-b625-2dc0e2da92b3"
   },
   "outputs": [
    {
     "name": "stdout",
     "output_type": "stream",
     "text": [
      "Accuracy for the decision tree : 0.7833333333333333\n",
      "Accuracy for LDA : 0.9\n",
      "Accuracy for logistic regression: 0.9166666666666666\n"
     ]
    }
   ],
   "source": [
    "print_accuracies(car_test_target, car_dt_test_predictions_scaled, car_lda_test_predictions_scaled, car_lg_test_predictions_scaled)"
   ]
  },
  {
   "cell_type": "markdown",
   "metadata": {
    "id": "nRggwnRMbZeF"
   },
   "source": [
    "## Computing the confusion matrices\n",
    "We compute the confusion matrices for the three classifiers. We print the confusion matrices and also generate the latex code to insert it in our written report. \n"
   ]
  },
  {
   "cell_type": "code",
   "execution_count": 74,
   "metadata": {
    "id": "0T62FE3UbZeF",
    "outputId": "bdaefcf8-48e3-4c3b-a3f5-c804fa1cd131",
    "scrolled": true
   },
   "outputs": [
    {
     "name": "stdout",
     "output_type": "stream",
     "text": [
      "Confusion matrix decision tree\n",
      "col_0   1   2   3  4\n",
      "Class               \n",
      "1      13   1   0  1\n",
      "2       0  11   1  3\n",
      "3       0   0  15  0\n",
      "4       2   3   2  8\n",
      "\n",
      "Confusion matrix LDA\n",
      "col_0   1   2   3   4\n",
      "Class                \n",
      "1      13   0   0   2\n",
      "2       0  15   0   0\n",
      "3       0   1  13   1\n",
      "4       0   0   2  13\n",
      "\n",
      "Confusion matrix Logistic regression\n",
      "col_0   1   2   3   4\n",
      "Class                \n",
      "1      14   0   0   1\n",
      "2       0  15   0   0\n",
      "3       0   1  14   0\n",
      "4       0   0   3  12\n",
      "\n"
     ]
    }
   ],
   "source": [
    "print_confusion_matrices(car_test_target, car_dt_test_predictions_scaled, car_lda_test_predictions_scaled, car_lg_test_predictions_scaled)"
   ]
  },
  {
   "cell_type": "markdown",
   "metadata": {
    "id": "cJgXpjUjbZeO"
   },
   "source": [
    "# 8. Feature Selection"
   ]
  },
  {
   "cell_type": "markdown",
   "metadata": {
    "id": "R-AFATZibZeP"
   },
   "source": [
    "# 8.1 Feature Selection with SelectKBest"
   ]
  },
  {
   "cell_type": "markdown",
   "metadata": {
    "id": "qcvjjrWdbZeP"
   },
   "source": [
    "At this point we have so many features: two features for each point in the contour perimeter. We normalized the length of each car image to 890 points, so 890 * 2 = 1780 features for representing each image. We normalized the length of each car image to 272 points, so 272 * 2 = 544 features for representing each image. Let's try reducing this amount of features..."
   ]
  },
  {
   "cell_type": "markdown",
   "metadata": {
    "id": "Erq9SQHObZeQ"
   },
   "source": [
    "We are going to use SelectKBest + f_classif function for our feature selection process."
   ]
  },
  {
   "cell_type": "markdown",
   "metadata": {
    "id": "7_ohrdDRbZeQ"
   },
   "source": [
    "### Feature selection"
   ]
  },
  {
   "cell_type": "code",
   "execution_count": 81,
   "metadata": {},
   "outputs": [],
   "source": [
    "def select_train_test(train_features, train_target, test_features, k):\n",
    "    select_best = SelectKBest(f_classif, k=k).fit(train_features, train_target)\n",
    "    plane_reduced_train = select_best.transform(train_features)\n",
    "    plane_reduced_test = select_best.transform(test_features)\n",
    "    return train_features, test_features"
   ]
  },
  {
   "cell_type": "markdown",
   "metadata": {
    "id": "vZf9h3oObZeT"
   },
   "source": [
    "## Plane Dataset"
   ]
  },
  {
   "cell_type": "markdown",
   "metadata": {
    "id": "sHfeUTkzbZeU"
   },
   "source": [
    "### Feature selection"
   ]
  },
  {
   "cell_type": "markdown",
   "metadata": {
    "id": "iB9x1FJybZec"
   },
   "source": [
    "As always, we need to separate the data in three: features data for training, features data for testing and class target:"
   ]
  },
  {
   "cell_type": "code",
   "execution_count": 82,
   "metadata": {
    "id": "o20reoS3bZec"
   },
   "outputs": [],
   "source": [
    "# Not Scaled data\n",
    "plane_reduced_train_100, plane_reduced_test_100 = select_train_test(plane_train_features, plane_train_target, plane_test_features, k=100)\n",
    "plane_reduced_train_200, plane_reduced_test_200 = select_train_test(plane_train_features, plane_train_target, plane_test_features, k=200)\n",
    "plane_reduced_train_300, plane_reduced_test_300 = select_train_test(plane_train_features, plane_train_target, plane_test_features, k=300)\n",
    "plane_reduced_train_400, plane_reduced_test_400 = select_train_test(plane_train_features, plane_train_target, plane_test_features, k=400)\n",
    "plane_reduced_train_500, plane_reduced_test_500 = select_train_test(plane_train_features, plane_train_target, plane_test_features, k=500)"
   ]
  },
  {
   "cell_type": "code",
   "execution_count": 86,
   "metadata": {
    "id": "tWba5PYZbZee"
   },
   "outputs": [],
   "source": [
    "# Scaled data\n",
    "plane_reduced_train_100_scaled, plane_reduced_test_100_scaled = \\\n",
    "    select_train_test(plane_train_features_scaled, plane_train_target, plane_test_features_scaled, k=100)\n",
    "plane_reduced_train_200_scaled, plane_reduced_test_200_scaled = \\\n",
    "    select_train_test(plane_train_features_scaled, plane_train_target, plane_test_features_scaled, k=200)\n",
    "plane_reduced_train_300_scaled, plane_reduced_test_300_scaled = \\\n",
    "    select_train_test(plane_train_features_scaled, plane_train_target, plane_test_features_scaled, k=300)\n",
    "plane_reduced_train_400_scaled, plane_reduced_test_400_scaled = \\\n",
    "    select_train_test(plane_train_features_scaled, plane_train_target, plane_test_features_scaled, k=400)\n",
    "plane_reduced_train_500_scaled, plane_reduced_test_500_scaled = \\\n",
    "    select_train_test(plane_train_features_scaled, plane_train_target, plane_test_features_scaled, k=500)"
   ]
  },
  {
   "cell_type": "markdown",
   "metadata": {
    "id": "IZt79yXcbZeg"
   },
   "source": [
    "### Define classifiers\n",
    "It is better to create one classifier of each type not to mix them:"
   ]
  },
  {
   "cell_type": "code",
   "execution_count": 84,
   "metadata": {
    "id": "MiBzIDH9bZeg"
   },
   "outputs": [],
   "source": [
    "plane_dt_100, plane_lda_100, plane_lg_100 = get_classifiers()\n",
    "plane_dt_200, plane_lda_200, plane_lg_200 = get_classifiers()\n",
    "plane_dt_300, plane_lda_300, plane_lg_300 = get_classifiers()\n",
    "plane_dt_400, plane_lda_400, plane_lg_400 = get_classifiers()\n",
    "plane_dt_500, plane_lda_500, plane_lg_500 = get_classifiers()"
   ]
  },
  {
   "cell_type": "markdown",
   "metadata": {
    "id": "Qsv_TRHFbZei"
   },
   "source": [
    "### Fit Classifiers"
   ]
  },
  {
   "cell_type": "code",
   "execution_count": 85,
   "metadata": {
    "id": "F6sgYoAjbZei",
    "outputId": "e35cdff1-bd7f-4a6b-f3d4-705159085f8f"
   },
   "outputs": [],
   "source": [
    "# Not Scaled data\n",
    "fit_classifiers(plane_dt_100, plane_lda_100, plane_lg_100, plane_reduced_train_100, plane_train_target)\n",
    "fit_classifiers(plane_dt_200, plane_lda_200, plane_lg_200, plane_reduced_train_200, plane_train_target)\n",
    "fit_classifiers(plane_dt_300, plane_lda_300, plane_lg_300, plane_reduced_train_300, plane_train_target)\n",
    "fit_classifiers(plane_dt_400, plane_lda_400, plane_lg_400, plane_reduced_train_400, plane_train_target)\n",
    "fit_classifiers(plane_dt_500, plane_lda_500, plane_lg_500, plane_reduced_train_500, plane_train_target)"
   ]
  },
  {
   "cell_type": "markdown",
   "metadata": {
    "id": "Jk1teg3AbZek"
   },
   "source": [
    "### Predict classifiers"
   ]
  },
  {
   "cell_type": "code",
   "execution_count": 87,
   "metadata": {
    "id": "-d7TDFS9bZel"
   },
   "outputs": [],
   "source": [
    "# Not Scaled data\n",
    "plane_dt_test_predictions_100, plane_lda_test_predictions_100, plane_lg_test_predictions_100 = \\\n",
    "predict_classifiers(plane_dt_100, plane_lda_100, plane_lg_100, plane_reduced_test_100)\n",
    "\n",
    "plane_dt_test_predictions_200, plane_lda_test_predictions_200, plane_lg_test_predictions_200 = \\\n",
    "predict_classifiers(plane_dt_200, plane_lda_200, plane_lg_200, plane_reduced_test_200)\n",
    "\n",
    "plane_dt_test_predictions_300, plane_lda_test_predictions_300, plane_lg_test_predictions_300 = \\\n",
    "predict_classifiers(plane_dt_300, plane_lda_300, plane_lg_300, plane_reduced_test_300)\n",
    "\n",
    "plane_dt_test_predictions_400, plane_lda_test_predictions_400, plane_lg_test_predictions_400 = \\\n",
    "predict_classifiers(plane_dt_400, plane_lda_400, plane_lg_400, plane_reduced_test_400)\n",
    "\n",
    "plane_dt_test_predictions_500, plane_lda_test_predictions_500, plane_lg_test_predictions_500 = \\\n",
    "predict_classifiers(plane_dt_500, plane_lda_500, plane_lg_500, plane_reduced_test_500)"
   ]
  },
  {
   "cell_type": "markdown",
   "metadata": {
    "id": "dmQid6c2bZem"
   },
   "source": [
    "### Fitting classifiers scaled"
   ]
  },
  {
   "cell_type": "code",
   "execution_count": 88,
   "metadata": {
    "id": "_iCB6NXBbZeo",
    "outputId": "89494abd-5127-4f0c-cac0-3553b80db955"
   },
   "outputs": [],
   "source": [
    "# Scaled data\n",
    "fit_classifiers(plane_dt_100, plane_lda_100, plane_lg_100, plane_reduced_train_100_scaled, plane_train_target)\n",
    "fit_classifiers(plane_dt_200, plane_lda_200, plane_lg_200, plane_reduced_train_200_scaled, plane_train_target)\n",
    "fit_classifiers(plane_dt_300, plane_lda_300, plane_lg_300, plane_reduced_train_300_scaled, plane_train_target)\n",
    "fit_classifiers(plane_dt_400, plane_lda_400, plane_lg_400, plane_reduced_train_400_scaled, plane_train_target)\n",
    "fit_classifiers(plane_dt_500, plane_lda_500, plane_lg_500, plane_reduced_train_500_scaled, plane_train_target)"
   ]
  },
  {
   "cell_type": "markdown",
   "metadata": {
    "id": "OA-3ceS-bZer"
   },
   "source": [
    "### Predicting classifiers scaled"
   ]
  },
  {
   "cell_type": "code",
   "execution_count": 89,
   "metadata": {
    "id": "vpEAkQISbZer"
   },
   "outputs": [],
   "source": [
    "# Scaled data\n",
    "plane_dt_test_predictions_100_scaled, plane_lda_test_predictions_100_scaled, plane_lg_test_predictions_100_scaled = \\\n",
    "predict_classifiers(plane_dt_100, plane_lda_100, plane_lg_100, plane_reduced_test_100_scaled)\n",
    "\n",
    "plane_dt_test_predictions_200_scaled, plane_lda_test_predictions_200_scaled, plane_lg_test_predictions_200_scaled = \\\n",
    "predict_classifiers(plane_dt_200, plane_lda_200, plane_lg_200, plane_reduced_test_200_scaled)\n",
    "\n",
    "plane_dt_test_predictions_300_scaled, plane_lda_test_predictions_300_scaled, plane_lg_test_predictions_300_scaled = \\\n",
    "predict_classifiers(plane_dt_300, plane_lda_300, plane_lg_300, plane_reduced_test_300_scaled)\n",
    "\n",
    "plane_dt_test_predictions_400_scaled, plane_lda_test_predictions_400_scaled, plane_lg_test_predictions_400_scaled = \\\n",
    "predict_classifiers(plane_dt_400, plane_lda_400, plane_lg_400, plane_reduced_test_400_scaled)\n",
    "\n",
    "plane_dt_test_predictions_500_scaled, plane_lda_test_predictions_500_scaled, plane_lg_test_predictions_500_scaled = \\\n",
    "predict_classifiers(plane_dt_500, plane_lda_500, plane_lg_500, plane_reduced_test_500_scaled)"
   ]
  },
  {
   "cell_type": "markdown",
   "metadata": {
    "id": "5IsxiM6_bZet"
   },
   "source": [
    "### Calculating accuracy\n",
    "Let's see if the evolution of the accuracy depending on the quantity of fetures selected:"
   ]
  },
  {
   "cell_type": "code",
   "execution_count": 90,
   "metadata": {
    "id": "oMeLPHymbZet",
    "outputId": "8523f466-de82-46fa-8bfe-bcf99ea57c25"
   },
   "outputs": [
    {
     "name": "stdout",
     "output_type": "stream",
     "text": [
      "100 features + Not scaled: \n",
      "\n",
      "Accuracy for the decision tree : 0.780952380952381\n",
      "Accuracy for LDA : 0.9523809523809523\n",
      "Accuracy for logistic regression: 0.9428571428571428\n",
      "\n",
      "\n",
      "100 features + Scaled: \n",
      "\n",
      "Accuracy for the decision tree : 0.819047619047619\n",
      "Accuracy for LDA : 0.9523809523809523\n",
      "Accuracy for logistic regression: 0.9238095238095239\n"
     ]
    }
   ],
   "source": [
    "print(\"100 features + Not scaled: \\n\")\n",
    "print_accuracies(plane_test_target, plane_dt_test_predictions_100, plane_lda_test_predictions_100, plane_lg_test_predictions_100)\n",
    "\n",
    "print(\"\\n\")\n",
    "\n",
    "print(\"100 features + Scaled: \\n\")\n",
    "print_accuracies(plane_test_target, plane_dt_test_predictions_100_scaled, plane_lda_test_predictions_100_scaled, plane_lg_test_predictions_100_scaled)"
   ]
  },
  {
   "cell_type": "code",
   "execution_count": 91,
   "metadata": {
    "id": "CGvycasCbZez",
    "outputId": "796b8e85-a2f5-4396-a20a-d05882e5f352"
   },
   "outputs": [
    {
     "name": "stdout",
     "output_type": "stream",
     "text": [
      "200 features + Not scaled: \n",
      "\n",
      "Accuracy for the decision tree : 0.8\n",
      "Accuracy for LDA : 0.9523809523809523\n",
      "Accuracy for logistic regression: 0.9428571428571428\n",
      "\n",
      "\n",
      "200 features + Scaled: \n",
      "\n",
      "Accuracy for the decision tree : 0.8285714285714286\n",
      "Accuracy for LDA : 0.9523809523809523\n",
      "Accuracy for logistic regression: 0.9238095238095239\n"
     ]
    }
   ],
   "source": [
    "print(\"200 features + Not scaled: \\n\")\n",
    "print_accuracies(plane_test_target, plane_dt_test_predictions_200, plane_lda_test_predictions_200, plane_lg_test_predictions_200)\n",
    "\n",
    "print(\"\\n\")\n",
    "\n",
    "print(\"200 features + Scaled: \\n\")\n",
    "print_accuracies(plane_test_target, plane_dt_test_predictions_200_scaled, plane_lda_test_predictions_200_scaled, plane_lg_test_predictions_200_scaled)"
   ]
  },
  {
   "cell_type": "code",
   "execution_count": 92,
   "metadata": {
    "id": "jmE0IeacbZe-",
    "outputId": "d4d707ac-1422-4509-989b-54df50f0be80"
   },
   "outputs": [
    {
     "name": "stdout",
     "output_type": "stream",
     "text": [
      "300 features + Not Scaled: \n",
      "\n",
      "Accuracy for the decision tree : 0.7428571428571429\n",
      "Accuracy for LDA : 0.9523809523809523\n",
      "Accuracy for logistic regression: 0.9428571428571428\n",
      "\n",
      "\n",
      "300 features + Scaled: \n",
      "\n",
      "Accuracy for the decision tree : 0.8095238095238095\n",
      "Accuracy for LDA : 0.9523809523809523\n",
      "Accuracy for logistic regression: 0.9238095238095239\n"
     ]
    }
   ],
   "source": [
    "print(\"300 features + Not Scaled: \\n\")\n",
    "print_accuracies(plane_test_target, plane_dt_test_predictions_300, plane_lda_test_predictions_300, plane_lg_test_predictions_300)\n",
    "\n",
    "print(\"\\n\")\n",
    "\n",
    "print(\"300 features + Scaled: \\n\")\n",
    "print_accuracies(plane_test_target, plane_dt_test_predictions_300_scaled, plane_lda_test_predictions_300_scaled, plane_lg_test_predictions_300_scaled)"
   ]
  },
  {
   "cell_type": "code",
   "execution_count": 93,
   "metadata": {
    "id": "YBphrVCrbZfD",
    "outputId": "75dbc893-1002-4f0e-eaa5-d80700dffa2c"
   },
   "outputs": [
    {
     "name": "stdout",
     "output_type": "stream",
     "text": [
      "400 features + Not scaled: \n",
      "\n",
      "Accuracy for the decision tree : 0.780952380952381\n",
      "Accuracy for LDA : 0.9523809523809523\n",
      "Accuracy for logistic regression: 0.9428571428571428\n",
      "\n",
      "\n",
      "400 features + Scaled: \n",
      "\n",
      "Accuracy for the decision tree : 0.7523809523809524\n",
      "Accuracy for LDA : 0.9523809523809523\n",
      "Accuracy for logistic regression: 0.9238095238095239\n"
     ]
    }
   ],
   "source": [
    "print(\"400 features + Not scaled: \\n\")\n",
    "print_accuracies(plane_test_target, plane_dt_test_predictions_400, plane_lda_test_predictions_400, plane_lg_test_predictions_400)\n",
    "\n",
    "print(\"\\n\")\n",
    "\n",
    "print(\"400 features + Scaled: \\n\")\n",
    "print_accuracies(plane_test_target, plane_dt_test_predictions_400_scaled, plane_lda_test_predictions_400_scaled, plane_lg_test_predictions_400_scaled)"
   ]
  },
  {
   "cell_type": "code",
   "execution_count": 94,
   "metadata": {
    "id": "4yOvkBIXbZfE",
    "outputId": "5f828853-8e6f-4f93-fb3e-98932121737a"
   },
   "outputs": [
    {
     "name": "stdout",
     "output_type": "stream",
     "text": [
      "500 features + Not scaled: \n",
      "\n",
      "Accuracy for the decision tree : 0.7904761904761904\n",
      "Accuracy for LDA : 0.9523809523809523\n",
      "Accuracy for logistic regression: 0.9428571428571428\n",
      "\n",
      "\n",
      "500 features+ Scaled: \n",
      "\n",
      "Accuracy for the decision tree : 0.780952380952381\n",
      "Accuracy for LDA : 0.9523809523809523\n",
      "Accuracy for logistic regression: 0.9238095238095239\n"
     ]
    }
   ],
   "source": [
    "print(\"500 features + Not scaled: \\n\")\n",
    "print_accuracies(plane_test_target, plane_dt_test_predictions_500, plane_lda_test_predictions_500, plane_lg_test_predictions_500)\n",
    "\n",
    "print(\"\\n\")\n",
    "\n",
    "print(\"500 features+ Scaled: \\n\")\n",
    "print_accuracies(plane_test_target, plane_dt_test_predictions_500_scaled, plane_lda_test_predictions_500_scaled, plane_lg_test_predictions_500_scaled)"
   ]
  },
  {
   "cell_type": "markdown",
   "metadata": {
    "id": "BLZsFBzfbZfH"
   },
   "source": [
    "## Car Dataset"
   ]
  },
  {
   "cell_type": "markdown",
   "metadata": {
    "id": "68JSXzBLbZfI"
   },
   "source": [
    "### Feature selection"
   ]
  },
  {
   "cell_type": "markdown",
   "metadata": {
    "id": "DMmId7-IbZfM"
   },
   "source": [
    "As always, we need to separate the data in three: features data for training, features data for testing and class target:"
   ]
  },
  {
   "cell_type": "code",
   "execution_count": 95,
   "metadata": {
    "id": "NXwDKDUfbZfN"
   },
   "outputs": [],
   "source": [
    "# Not Scaled data\n",
    "car_reduced_train_100, car_reduced_test_100 = select_train_test(car_train_features, car_train_target, car_test_features, k=100)\n",
    "car_reduced_train_200, car_reduced_test_200 = select_train_test(car_train_features, car_train_target, car_test_features, k=200)\n",
    "car_reduced_train_300, car_reduced_test_300 = select_train_test(car_train_features, car_train_target, car_test_features, k=300)\n",
    "car_reduced_train_400, car_reduced_test_400 = select_train_test(car_train_features, car_train_target, car_test_features, k=400)\n",
    "car_reduced_train_500, car_reduced_test_500 = select_train_test(car_train_features, car_train_target, car_test_features, k=500)"
   ]
  },
  {
   "cell_type": "code",
   "execution_count": 96,
   "metadata": {
    "id": "Hvw79RrBbZfO"
   },
   "outputs": [],
   "source": [
    "# Scaled data\n",
    "car_reduced_train_100_scaled, car_reduced_test_100_scaled = \\\n",
    "    select_train_test(car_train_features_scaled, car_train_target, car_test_features_scaled, k=100)\n",
    "car_reduced_train_200_scaled, car_reduced_test_200_scaled = \\\n",
    "    select_train_test(car_train_features_scaled, car_train_target, car_test_features_scaled, k=200)\n",
    "car_reduced_train_300_scaled, car_reduced_test_300_scaled = \\\n",
    "    select_train_test(car_train_features_scaled, car_train_target, car_test_features_scaled, k=300)\n",
    "car_reduced_train_400_scaled, car_reduced_test_400_scaled = \\\n",
    "    select_train_test(car_train_features_scaled, car_train_target, car_test_features_scaled, k=400)\n",
    "car_reduced_train_500_scaled, car_reduced_test_500_scaled = \\\n",
    "    select_train_test(car_train_features_scaled, car_train_target, car_test_features_scaled, k=500)"
   ]
  },
  {
   "cell_type": "markdown",
   "metadata": {
    "id": "Kn4iQ4WCbZfR"
   },
   "source": [
    "### Define classifiers\n",
    "It is better to create one classifier of each type not to mix them:"
   ]
  },
  {
   "cell_type": "code",
   "execution_count": 97,
   "metadata": {
    "id": "wUf_kGXsbZfR"
   },
   "outputs": [],
   "source": [
    "car_dt_100, car_lda_100, car_lg_100 = get_classifiers()\n",
    "car_dt_200, car_lda_200, car_lg_200 = get_classifiers()\n",
    "car_dt_300, car_lda_300, car_lg_300 = get_classifiers()\n",
    "car_dt_400, car_lda_400, car_lg_400 = get_classifiers()\n",
    "car_dt_500, car_lda_500, car_lg_500 = get_classifiers()"
   ]
  },
  {
   "cell_type": "markdown",
   "metadata": {
    "id": "J2ZOmu7FbZfT"
   },
   "source": [
    "### Fit Classifiers"
   ]
  },
  {
   "cell_type": "code",
   "execution_count": 98,
   "metadata": {
    "id": "21uiATtlbZfT",
    "outputId": "d22dd2e7-4ccd-4647-e26f-0a21ed7cc040"
   },
   "outputs": [],
   "source": [
    "# Not Scaled data\n",
    "fit_classifiers(car_dt_100, car_lda_100, car_lg_100, car_reduced_train_100, car_train_target)\n",
    "fit_classifiers(car_dt_200, car_lda_200, car_lg_200, car_reduced_train_200, car_train_target)\n",
    "fit_classifiers(car_dt_300, car_lda_300, car_lg_300, car_reduced_train_300, car_train_target)\n",
    "fit_classifiers(car_dt_400, car_lda_400, car_lg_400, car_reduced_train_400, car_train_target)\n",
    "fit_classifiers(car_dt_500, car_lda_500, car_lg_500, car_reduced_train_500, car_train_target)"
   ]
  },
  {
   "cell_type": "markdown",
   "metadata": {
    "id": "yMrdGk5dbZfV"
   },
   "source": [
    "### Predict classifiers"
   ]
  },
  {
   "cell_type": "code",
   "execution_count": 99,
   "metadata": {
    "id": "TaqHLhaQbZfV"
   },
   "outputs": [],
   "source": [
    "# Not Scaled data\n",
    "car_dt_test_predictions_100, car_lda_test_predictions_100, car_lg_test_predictions_100 = \\\n",
    "predict_classifiers(car_dt_100, car_lda_100, car_lg_100, car_reduced_test_100)\n",
    "\n",
    "car_dt_test_predictions_200, car_lda_test_predictions_200, car_lg_test_predictions_200 = \\\n",
    "predict_classifiers(car_dt_200, car_lda_200, car_lg_200, car_reduced_test_200)\n",
    "\n",
    "car_dt_test_predictions_300, car_lda_test_predictions_300, car_lg_test_predictions_300 = \\\n",
    "predict_classifiers(car_dt_300, car_lda_300, car_lg_300, car_reduced_test_300)\n",
    "\n",
    "car_dt_test_predictions_400, car_lda_test_predictions_400, car_lg_test_predictions_400 = \\\n",
    "predict_classifiers(car_dt_400, car_lda_400, car_lg_400, car_reduced_test_400)\n",
    "\n",
    "car_dt_test_predictions_500, car_lda_test_predictions_500, car_lg_test_predictions_500 = \\\n",
    "predict_classifiers(car_dt_500, car_lda_500, car_lg_500, car_reduced_test_500)"
   ]
  },
  {
   "cell_type": "markdown",
   "metadata": {
    "id": "iyJNJpWzbZfX"
   },
   "source": [
    "### Fitting classifiers scaled"
   ]
  },
  {
   "cell_type": "code",
   "execution_count": 100,
   "metadata": {
    "id": "343X-HCFbZfY",
    "outputId": "514eae1c-117a-4248-ef70-24f27bf587ec"
   },
   "outputs": [],
   "source": [
    "# Scaled data\n",
    "fit_classifiers(car_dt_100, car_lda_100, car_lg_100, car_reduced_train_100_scaled, car_train_target)\n",
    "fit_classifiers(car_dt_200, car_lda_200, car_lg_200, car_reduced_train_200_scaled, car_train_target)\n",
    "fit_classifiers(car_dt_300, car_lda_300, car_lg_300, car_reduced_train_300_scaled, car_train_target)\n",
    "fit_classifiers(car_dt_400, car_lda_400, car_lg_400, car_reduced_train_400_scaled, car_train_target)\n",
    "fit_classifiers(car_dt_500, car_lda_500, car_lg_500, car_reduced_train_500_scaled, car_train_target)"
   ]
  },
  {
   "cell_type": "markdown",
   "metadata": {
    "id": "cxbHT9qbbZfc"
   },
   "source": [
    "### Predicting classifiers scaled"
   ]
  },
  {
   "cell_type": "code",
   "execution_count": 101,
   "metadata": {
    "id": "FW2qcKrsbZfc"
   },
   "outputs": [],
   "source": [
    "# Scaled data\n",
    "car_dt_test_predictions_100_scaled, car_lda_test_predictions_100_scaled, car_lg_test_predictions_100_scaled = \\\n",
    "predict_classifiers(car_dt_100, car_lda_100, car_lg_100, car_reduced_test_100_scaled)\n",
    "\n",
    "car_dt_test_predictions_200_scaled, car_lda_test_predictions_200_scaled, car_lg_test_predictions_200_scaled = \\\n",
    "predict_classifiers(car_dt_200, car_lda_200, car_lg_200, car_reduced_test_200_scaled)\n",
    "\n",
    "car_dt_test_predictions_300_scaled, car_lda_test_predictions_300_scaled, car_lg_test_predictions_300_scaled = \\\n",
    "predict_classifiers(car_dt_300, car_lda_300, car_lg_300, car_reduced_test_300_scaled)\n",
    "\n",
    "car_dt_test_predictions_400_scaled, car_lda_test_predictions_400_scaled, car_lg_test_predictions_400_scaled = \\\n",
    "predict_classifiers(car_dt_400, car_lda_400, car_lg_400, car_reduced_test_400_scaled)\n",
    "\n",
    "car_dt_test_predictions_500_scaled, car_lda_test_predictions_500_scaled, car_lg_test_predictions_500_scaled = \\\n",
    "predict_classifiers(car_dt_500, car_lda_500, car_lg_500, car_reduced_test_500_scaled)"
   ]
  },
  {
   "cell_type": "markdown",
   "metadata": {
    "id": "542u_kIkbZfg"
   },
   "source": [
    "### Calculating accuracy\n",
    "Let's see if the evolution of the accuracy depending on the quantity of fetures selected:"
   ]
  },
  {
   "cell_type": "code",
   "execution_count": 102,
   "metadata": {
    "id": "vgVr-KhVbZfh",
    "outputId": "5a9d9d23-22de-416e-fd9a-9447de4f1ca4"
   },
   "outputs": [
    {
     "name": "stdout",
     "output_type": "stream",
     "text": [
      "100 features + Not scaled: \n",
      "\n",
      "Accuracy for the decision tree : 0.8666666666666667\n",
      "Accuracy for LDA : 0.9\n",
      "Accuracy for logistic regression: 0.8666666666666667\n",
      "\n",
      "\n",
      "100 features + Scaled: \n",
      "\n",
      "Accuracy for the decision tree : 0.7166666666666667\n",
      "Accuracy for LDA : 0.9\n",
      "Accuracy for logistic regression: 0.9166666666666666\n"
     ]
    }
   ],
   "source": [
    "print(\"100 features + Not scaled: \\n\")\n",
    "print_accuracies(car_test_target, car_dt_test_predictions_100, car_lda_test_predictions_100, car_lg_test_predictions_100)\n",
    "\n",
    "print(\"\\n\")\n",
    "\n",
    "print(\"100 features + Scaled: \\n\")\n",
    "print_accuracies(car_test_target, car_dt_test_predictions_100_scaled, car_lda_test_predictions_100_scaled, car_lg_test_predictions_100_scaled)"
   ]
  },
  {
   "cell_type": "code",
   "execution_count": 103,
   "metadata": {
    "id": "8lWPthULbZfl",
    "outputId": "323120ab-9c00-4bae-8551-b209621b430c"
   },
   "outputs": [
    {
     "name": "stdout",
     "output_type": "stream",
     "text": [
      "200 features + Not scaled: \n",
      "\n",
      "Accuracy for the decision tree : 0.7\n",
      "Accuracy for LDA : 0.9\n",
      "Accuracy for logistic regression: 0.8666666666666667\n",
      "\n",
      "\n",
      "200 features + Scaled: \n",
      "\n",
      "Accuracy for the decision tree : 0.8166666666666667\n",
      "Accuracy for LDA : 0.9\n",
      "Accuracy for logistic regression: 0.9166666666666666\n"
     ]
    }
   ],
   "source": [
    "print(\"200 features + Not scaled: \\n\")\n",
    "print_accuracies(car_test_target, car_dt_test_predictions_200, car_lda_test_predictions_200, car_lg_test_predictions_200)\n",
    "\n",
    "print(\"\\n\")\n",
    "\n",
    "print(\"200 features + Scaled: \\n\")\n",
    "print_accuracies(car_test_target, car_dt_test_predictions_200_scaled, car_lda_test_predictions_200_scaled, car_lg_test_predictions_200_scaled)"
   ]
  },
  {
   "cell_type": "code",
   "execution_count": 104,
   "metadata": {
    "id": "LrLQhsYpbZfn",
    "outputId": "9c85319f-4fe2-4bcf-a7c5-9abfe1327082"
   },
   "outputs": [
    {
     "name": "stdout",
     "output_type": "stream",
     "text": [
      "300 features + Not Scaled: \n",
      "\n",
      "Accuracy for the decision tree : 0.8333333333333334\n",
      "Accuracy for LDA : 0.9\n",
      "Accuracy for logistic regression: 0.8666666666666667\n",
      "\n",
      "\n",
      "300 features + Scaled: \n",
      "\n",
      "Accuracy for the decision tree : 0.8\n",
      "Accuracy for LDA : 0.9\n",
      "Accuracy for logistic regression: 0.9166666666666666\n"
     ]
    }
   ],
   "source": [
    "print(\"300 features + Not Scaled: \\n\")\n",
    "print_accuracies(car_test_target, car_dt_test_predictions_300, car_lda_test_predictions_300, car_lg_test_predictions_300)\n",
    "\n",
    "print(\"\\n\")\n",
    "\n",
    "print(\"300 features + Scaled: \\n\")\n",
    "print_accuracies(car_test_target, car_dt_test_predictions_300_scaled, car_lda_test_predictions_300_scaled, car_lg_test_predictions_300_scaled)"
   ]
  },
  {
   "cell_type": "code",
   "execution_count": 105,
   "metadata": {
    "id": "X3Qd345rbZfp",
    "outputId": "f5631dfe-dffd-4d1d-f8fd-e69c2fdf9a21"
   },
   "outputs": [
    {
     "name": "stdout",
     "output_type": "stream",
     "text": [
      "400 features + Not scaled: \n",
      "\n",
      "Accuracy for the decision tree : 0.8\n",
      "Accuracy for LDA : 0.9\n",
      "Accuracy for logistic regression: 0.8666666666666667\n",
      "\n",
      "\n",
      "400 features + Scaled: \n",
      "\n",
      "Accuracy for the decision tree : 0.8833333333333333\n",
      "Accuracy for LDA : 0.9\n",
      "Accuracy for logistic regression: 0.9166666666666666\n"
     ]
    }
   ],
   "source": [
    "print(\"400 features + Not scaled: \\n\")\n",
    "print_accuracies(car_test_target, car_dt_test_predictions_400, car_lda_test_predictions_400, car_lg_test_predictions_400)\n",
    "\n",
    "print(\"\\n\")\n",
    "\n",
    "print(\"400 features + Scaled: \\n\")\n",
    "print_accuracies(car_test_target, car_dt_test_predictions_400_scaled, car_lda_test_predictions_400_scaled, car_lg_test_predictions_400_scaled)"
   ]
  },
  {
   "cell_type": "code",
   "execution_count": 106,
   "metadata": {
    "id": "aRV46y0BbZfr",
    "outputId": "cbf17a73-0948-408c-cac9-e8be520f9c8f"
   },
   "outputs": [
    {
     "name": "stdout",
     "output_type": "stream",
     "text": [
      "500 features + Not scaled: \n",
      "\n",
      "Accuracy for the decision tree : 0.7666666666666667\n",
      "Accuracy for LDA : 0.9\n",
      "Accuracy for logistic regression: 0.8666666666666667\n",
      "\n",
      "\n",
      "500 features+ Scaled: \n",
      "\n",
      "Accuracy for the decision tree : 0.8333333333333334\n",
      "Accuracy for LDA : 0.9\n",
      "Accuracy for logistic regression: 0.9166666666666666\n"
     ]
    }
   ],
   "source": [
    "print(\"500 features + Not scaled: \\n\")\n",
    "print_accuracies(car_test_target, car_dt_test_predictions_500, car_lda_test_predictions_500, car_lg_test_predictions_500)\n",
    "\n",
    "print(\"\\n\")\n",
    "\n",
    "print(\"500 features+ Scaled: \\n\")\n",
    "print_accuracies(car_test_target, car_dt_test_predictions_500_scaled, car_lda_test_predictions_500_scaled, car_lg_test_predictions_500_scaled)"
   ]
  },
  {
   "cell_type": "markdown",
   "metadata": {
    "id": "gwKA8me7bZft"
   },
   "source": [
    "# 8.2. Feature Selection with RandomForest"
   ]
  },
  {
   "cell_type": "markdown",
   "metadata": {},
   "source": [
    "Apart from SelectKBest algorithm, exists the ensemble of decision trees called RandomForest that can be used as a feature selector. Let's see how does this algoritm performs comparing to the algorithm above."
   ]
  },
  {
   "cell_type": "markdown",
   "metadata": {
    "id": "sWxjnATgbZfu"
   },
   "source": [
    "### Plane dataset"
   ]
  },
  {
   "cell_type": "code",
   "execution_count": 107,
   "metadata": {},
   "outputs": [
    {
     "name": "stdout",
     "output_type": "stream",
     "text": [
      "TRIAL: 1\n",
      "\n",
      "CLASSIFIER: LDA, TREE_QUANTITY: 19, MAX_ACCURACY:0.9714285714285714\n",
      "FEATURE_QUANTITY: 202\n",
      "\n",
      "SELECTED_FEATURES: Index(['x3', 'y6', 'x14', 'x16', 'y24', 'x25', 'x29', 'x37', 'x38', 'x41',\n",
      "       ...\n",
      "       'y837', 'x846', 'x851', 'y852', 'x854', 'y855', 'x863', 'x873', 'x875',\n",
      "       'x880'],\n",
      "      dtype='object', length=306)\n",
      "\n",
      "\n",
      "\n",
      "TRIAL: 2\n",
      "\n",
      "CLASSIFIER: LDA, TREE_QUANTITY: 3, MAX_ACCURACY:0.9333333333333333\n",
      "FEATURE_QUANTITY: 33\n",
      "\n",
      "SELECTED_FEATURES: Index(['x9', 'x57', 'y134', 'y160', 'y216', 'x224', 'x225', 'y225', 'x231',\n",
      "       'y234', 'y245', 'y298', 'y317', 'y325', 'y332', 'y334', 'x339', 'x370',\n",
      "       'x375', 'x386', 'x396', 'x442', 'x443', 'x452', 'y516', 'y597', 'y598',\n",
      "       'x609', 'x621', 'y622', 'x629', 'x644', 'x647', 'y650', 'x659', 'y662',\n",
      "       'y672', 'y710', 'x730', 'y735', 'x750', 'x761', 'x763', 'x799', 'x802',\n",
      "       'x813'],\n",
      "      dtype='object')\n",
      "\n",
      "\n",
      "\n",
      "TRIAL: 3\n",
      "\n",
      "CLASSIFIER: LDA, TREE_QUANTITY: 21, MAX_ACCURACY:0.9714285714285714\n",
      "FEATURE_QUANTITY: 221\n",
      "\n",
      "SELECTED_FEATURES: Index(['x5', 'y5', 'y9', 'x13', 'x19', 'x26', 'x27', 'x28', 'x32', 'x38',\n",
      "       ...\n",
      "       'x826', 'x827', 'y831', 'y837', 'y839', 'x843', 'y844', 'x846', 'x848',\n",
      "       'x889'],\n",
      "      dtype='object', length=270)\n",
      "\n",
      "\n",
      "\n",
      "TRIAL: 4\n",
      "\n",
      "CLASSIFIER: LDA, TREE_QUANTITY: 6, MAX_ACCURACY:0.9714285714285714\n",
      "FEATURE_QUANTITY: 65\n",
      "\n",
      "SELECTED_FEATURES: Index(['x4', 'y8', 'y15', 'x17', 'x26', 'x28', 'x36', 'x49', 'x51', 'x62',\n",
      "       ...\n",
      "       'x772', 'y772', 'x791', 'x820', 'x823', 'x829', 'x837', 'y837', 'x844',\n",
      "       'x871'],\n",
      "      dtype='object', length=126)\n",
      "\n",
      "\n",
      "\n",
      "TRIAL: 5\n",
      "\n",
      "CLASSIFIER: LDA, TREE_QUANTITY: 18, MAX_ACCURACY:0.9619047619047619\n",
      "FEATURE_QUANTITY: 196\n",
      "\n",
      "SELECTED_FEATURES: Index(['Perimeter_length', 'x1', 'x22', 'x30', 'x44', 'x48', 'x53', 'y57',\n",
      "       'x68', 'x82',\n",
      "       ...\n",
      "       'x818', 'x820', 'y821', 'y823', 'y826', 'x836', 'x857', 'y861', 'y870',\n",
      "       'y885'],\n",
      "      dtype='object', length=192)\n",
      "\n",
      "\n",
      "\n",
      "TRIAL: 6\n",
      "\n",
      "CLASSIFIER: LDA, TREE_QUANTITY: 4, MAX_ACCURACY:0.9619047619047619\n",
      "FEATURE_QUANTITY: 40\n",
      "\n",
      "SELECTED_FEATURES: Index(['x0', 'x21', 'y22', 'y34', 'x53', 'x81', 'y87', 'y116', 'x130', 'y157',\n",
      "       'x160', 'y162', 'x176', 'y190', 'x194', 'y195', 'x199', 'y215', 'x217',\n",
      "       'x256', 'y283', 'y315', 'y318', 'y325', 'x337', 'y338', 'y344', 'y361',\n",
      "       'x366', 'y368', 'x373', 'x374', 'x376', 'x392', 'x403', 'x421', 'x424',\n",
      "       'y427', 'x438', 'x494', 'x504', 'x515', 'y515', 'x535', 'y535', 'x554',\n",
      "       'x566', 'x587', 'x610', 'y620', 'x650', 'y653', 'y674', 'y684', 'x692',\n",
      "       'x700', 'x711', 'y714', 'x717', 'y735', 'x743', 'y745', 'y751', 'x756',\n",
      "       'x762', 'y806', 'x824', 'x855'],\n",
      "      dtype='object')\n",
      "\n",
      "\n",
      "\n",
      "TRIAL: 7\n",
      "\n",
      "CLASSIFIER: LDA, TREE_QUANTITY: 5, MAX_ACCURACY:0.9714285714285714\n",
      "FEATURE_QUANTITY: 61\n",
      "\n",
      "SELECTED_FEATURES: Index(['Perimeter_length', 'x1', 'y16', 'x23', 'x26', 'x33', 'x39', 'y39',\n",
      "       'x41', 'x48',\n",
      "       ...\n",
      "       'x804', 'y808', 'x815', 'x824', 'y834', 'y854', 'x859', 'x873', 'x880',\n",
      "       'y889'],\n",
      "      dtype='object', length=238)\n",
      "\n",
      "\n",
      "\n",
      "TRIAL: 8\n",
      "\n",
      "CLASSIFIER: LDA, TREE_QUANTITY: 4, MAX_ACCURACY:0.9714285714285714\n",
      "FEATURE_QUANTITY: 43\n",
      "\n",
      "SELECTED_FEATURES: Index(['x6', 'x27', 'y27', 'x155', 'y172', 'y173', 'y205', 'y215', 'y218',\n",
      "       'y286', 'x297', 'y314', 'x322', 'x327', 'x328', 'y337', 'y354', 'x362',\n",
      "       'y374', 'x390', 'x408', 'x428', 'x443', 'y448', 'y464', 'x469', 'x474',\n",
      "       'y481', 'x505', 'x506', 'x512', 'y525', 'x526', 'y527', 'x560', 'x565',\n",
      "       'y581', 'y658', 'x661', 'x670', 'x676', 'y677', 'x680', 'x696', 'x710',\n",
      "       'y710', 'x728', 'x734', 'y768', 'y782', 'y797', 'y809', 'x820', 'x827',\n",
      "       'x828', 'y829', 'y835', 'y863'],\n",
      "      dtype='object')\n",
      "\n",
      "\n",
      "\n",
      "TRIAL: 9\n",
      "\n",
      "CLASSIFIER: LDA, TREE_QUANTITY: 6, MAX_ACCURACY:0.9619047619047619\n",
      "FEATURE_QUANTITY: 70\n",
      "\n",
      "SELECTED_FEATURES: Index(['x15', 'x21', 'x23', 'x24', 'y41', 'x43', 'y46', 'x48', 'x53', 'x55',\n",
      "       ...\n",
      "       'x789', 'x813', 'y824', 'y825', 'x827', 'y828', 'x834', 'y864', 'x877',\n",
      "       'x882'],\n",
      "      dtype='object', length=149)\n",
      "\n",
      "\n",
      "\n",
      "TRIAL: 10\n",
      "\n",
      "CLASSIFIER: LDA, TREE_QUANTITY: 4, MAX_ACCURACY:0.9619047619047619\n",
      "FEATURE_QUANTITY: 44\n",
      "\n",
      "SELECTED_FEATURES: Index(['x3', 'y6', 'y7', 'x32', 'x38', 'y40', 'x41', 'x54', 'x63', 'x81',\n",
      "       ...\n",
      "       'x813', 'x814', 'y816', 'x817', 'x824', 'x829', 'y830', 'x851', 'x852',\n",
      "       'x869'],\n",
      "      dtype='object', length=157)\n",
      "\n",
      "\n",
      "\n"
     ]
    }
   ],
   "source": [
    "## We are going to make 10 trials, and then. take the mean of 1)trees quantity and 2) accuracy percentage\n",
    "for j in (range(1, 11)):\n",
    "    max = 0\n",
    "    n_estim = 0\n",
    "    result1 = 0\n",
    "    result2 = 0\n",
    "    result3 = 0\n",
    "    classifier = \" \"\n",
    "    selected_features_final = []\n",
    "    \n",
    "    ## We are going to measure best accuracies obtained from 1 tree to 60 trees. But, we have one constrain: \n",
    "    ## we can continue computing with a superior tree quantity if with the actual tree quantity we obtain a better \n",
    "    ## accuracy regarding to the previous tree quantity.\n",
    "    for i in (range(1, 60)):\n",
    "        sel = SelectFromModel(RandomForestClassifier(n_estimators = i))\n",
    "        sel.fit(plane_train_features, plane_train_target)\n",
    "        # Obtain the selected features by the RandomForestClassifier\n",
    "        selectedFeaturesBoolean= sel.get_support()\n",
    "    \n",
    "        # Take the selected features from each train and test sets\n",
    "        selectedFeaturesTrainNames = plane_train_features.columns[(selectedFeaturesBoolean)]\n",
    "        selectedFeaturesTestNames = plane_test_features.columns[(selectedFeaturesBoolean)]\n",
    "    \n",
    "        selectedTrainData = plane_train_features[selectedFeaturesTrainNames]\n",
    "        selectedTestData = plane_test_features[selectedFeaturesTestNames]\n",
    "        np.array(selectedTestData).shape\n",
    "        \n",
    "        # Create the classifiers we are going to use\n",
    "        dt  = DecisionTreeClassifier()\n",
    "        lda = LinearDiscriminantAnalysis()\n",
    "        lg  = LogisticRegression(max_iter=2000)\n",
    "    \n",
    "        # Fit the classifiers with the selected features in the train set\n",
    "        dt.fit(selectedTrainData, plane_train_target)\n",
    "        lda.fit(selectedTrainData, plane_train_target)\n",
    "        lg.fit(selectedTrainData, plane_train_target)\n",
    "    \n",
    "        # Predict labels with the selected features in the test set\n",
    "        dt_selected_prediction = dt.predict(selectedTestData)\n",
    "        lda_selected_prediction = lda.predict(selectedTestData)\n",
    "        lg_selected_prediction = lg.predict(selectedTestData)\n",
    "    \n",
    "        # If we don't obtain now a better accuracy_score comparing to \n",
    "        # the previous accuracy_score's -> stop the process\n",
    "        if (accuracy_score(plane_test_target, dt_selected_prediction)  < result1 and\n",
    "            accuracy_score(plane_test_target, lda_selected_prediction) < result2 and\n",
    "            accuracy_score(plane_test_target, lg_selected_prediction)  < result3):\n",
    "            break; \n",
    "        else:  \n",
    "            result1 = accuracy_score(plane_test_target, dt_selected_prediction)\n",
    "            result2 = accuracy_score(plane_test_target, lda_selected_prediction)\n",
    "            result3 = accuracy_score(plane_test_target, lg_selected_prediction)\n",
    "    \n",
    "            if (result1>max or result2>max or result3>max):\n",
    "                n_estim = i\n",
    "                selected_features_final = plane_train_features.columns[(selectedFeaturesBoolean)]\n",
    "                if result1>max:\n",
    "                    max = result1\n",
    "                    classifier = \"DT\"\n",
    "                elif result2>max:\n",
    "                    max = result2\n",
    "                    classifier = \"LDA\"\n",
    "                elif result3>max:\n",
    "                    max = result3\n",
    "                    classifier = \"LG\"         \n",
    "    print(\"TRIAL: \" + str(j) + \"\\n\")\n",
    "    print(\"CLASSIFIER: \" + classifier + \", \" + \"TREE_QUANTITY: \" + str(n_estim) + \", \"\n",
    "          + \"MAX_ACCURACY:\" + str(max) + \"\\n\" + \"FEATURE_QUANTITY: \" + str(len(selected_features_final)) + \"\\n\")\n",
    "    print(\"SELECTED_FEATURES: \" + str(plane_train_features.columns[(selectedFeaturesBoolean)]) + \"\\n\")\n",
    "    print(\"\\n\")\n",
    "          \n",
    "          \n",
    "    #(classifier, n_estim, max, selected_features_final)\n",
    "    "
   ]
  },
  {
   "cell_type": "markdown",
   "metadata": {
    "id": "-wBPlVV4bZf8"
   },
   "source": [
    "### Car dataset"
   ]
  },
  {
   "cell_type": "code",
   "execution_count": 108,
   "metadata": {},
   "outputs": [
    {
     "name": "stdout",
     "output_type": "stream",
     "text": [
      "TRIAL: 1\n",
      "\n",
      "CLASSIFIER: LG, TREE_QUANTITY: 5, MAX_ACCURACY:0.9\n",
      "FEATURE_QUANTITY: 39\n",
      "\n",
      "SELECTED_FEATURES: Index(['Perimeter_length', 'y1', 'x13', 'y13', 'y16', 'y20', 'x35', 'y41',\n",
      "       'y43', 'x45', 'y45', 'x51', 'y51', 'x53', 'x57', 'y70', 'y80', 'y81',\n",
      "       'y82', 'y83', 'y86', 'y90', 'y105', 'y108', 'y109', 'y111', 'y113',\n",
      "       'y114', 'x124', 'y144', 'y146', 'y154', 'y157', 'y160', 'y163', 'x165',\n",
      "       'y171', 'x176', 'y177', 'y179', 'y184', 'x185', 'y185', 'y186', 'y187',\n",
      "       'y188', 'x189', 'y189', 'x191', 'y191', 'y194', 'y195', 'y197', 'y202',\n",
      "       'y223', 'x251', 'y254', 'x256', 'x269', 'y270'],\n",
      "      dtype='object')\n",
      "\n",
      "\n",
      "\n",
      "TRIAL: 2\n",
      "\n",
      "CLASSIFIER: DT, TREE_QUANTITY: 6, MAX_ACCURACY:0.8666666666666667\n",
      "FEATURE_QUANTITY: 51\n",
      "\n",
      "SELECTED_FEATURES: Index(['x1', 'y16', 'y17', 'x23', 'y28', 'y31', 'x33', 'y35', 'y39', 'y40',\n",
      "       'x42', 'y42', 'y44', 'y59', 'y63', 'x66', 'y72', 'y75', 'y84', 'y87',\n",
      "       'y98', 'y102', 'y121', 'x122', 'x129', 'y137', 'y142', 'y146', 'x147',\n",
      "       'y166', 'y171', 'x172', 'y173', 'y176', 'y180', 'y184', 'y185', 'y191',\n",
      "       'y192', 'y195', 'y200', 'y210', 'y214', 'x221', 'y223', 'y227', 'y244',\n",
      "       'y247', 'y252', 'x255', 'y271'],\n",
      "      dtype='object')\n",
      "\n",
      "\n",
      "\n",
      "TRIAL: 3\n",
      "\n",
      "CLASSIFIER: LG, TREE_QUANTITY: 3, MAX_ACCURACY:0.9\n",
      "FEATURE_QUANTITY: 25\n",
      "\n",
      "SELECTED_FEATURES: Index(['x1', 'y3', 'x4', 'x5', 'x8', 'y9', 'x14', 'y16', 'y18', 'y19',\n",
      "       ...\n",
      "       'y241', 'y248', 'y249', 'x251', 'x264', 'y266', 'x267', 'y267', 'y269',\n",
      "       'y271'],\n",
      "      dtype='object', length=106)\n",
      "\n",
      "\n",
      "\n",
      "TRIAL: 4\n",
      "\n",
      "CLASSIFIER: LG, TREE_QUANTITY: 16, MAX_ACCURACY:0.9333333333333333\n",
      "FEATURE_QUANTITY: 106\n",
      "\n",
      "SELECTED_FEATURES: Index(['y1', 'y7', 'y8', 'y9', 'y10', 'x11', 'y12', 'y14', 'y17', 'y18',\n",
      "       ...\n",
      "       'y258', 'x260', 'x261', 'x262', 'x263', 'y266', 'y267', 'y269', 'y270',\n",
      "       'y271'],\n",
      "      dtype='object', length=148)\n",
      "\n",
      "\n",
      "\n",
      "TRIAL: 5\n",
      "\n",
      "CLASSIFIER: LG, TREE_QUANTITY: 4, MAX_ACCURACY:0.8666666666666667\n",
      "FEATURE_QUANTITY: 33\n",
      "\n",
      "SELECTED_FEATURES: Index(['x3', 'y10', 'y18', 'y23', 'y27', 'y50', 'y53', 'y56', 'y105', 'y107',\n",
      "       'y111', 'y125', 'x152', 'y154', 'y155', 'y156', 'y164', 'y171', 'y172',\n",
      "       'y173', 'y174', 'y175', 'y176', 'x179', 'y181', 'y182', 'x185', 'y187',\n",
      "       'x194', 'y209', 'x226', 'y237', 'x251', 'y254', 'y259', 'x269'],\n",
      "      dtype='object')\n",
      "\n",
      "\n",
      "\n",
      "TRIAL: 6\n",
      "\n",
      "CLASSIFIER: DT, TREE_QUANTITY: 1, MAX_ACCURACY:0.8333333333333334\n",
      "FEATURE_QUANTITY: 10\n",
      "\n",
      "SELECTED_FEATURES: Index(['y0', 'y43', 'y64', 'y112', 'y150', 'y155', 'y161', 'y162', 'y173',\n",
      "       'y177', 'y178', 'y222', 'x263', 'y267'],\n",
      "      dtype='object')\n",
      "\n",
      "\n",
      "\n",
      "TRIAL: 7\n",
      "\n",
      "CLASSIFIER: LG, TREE_QUANTITY: 13, MAX_ACCURACY:0.9333333333333333\n",
      "FEATURE_QUANTITY: 76\n",
      "\n",
      "SELECTED_FEATURES: Index(['Perimeter_length', 'y0', 'y2', 'x8', 'y11', 'x13', 'y13', 'y17', 'x18',\n",
      "       'y18',\n",
      "       ...\n",
      "       'x231', 'y247', 'x249', 'x254', 'x260', 'x261', 'y262', 'x263', 'x266',\n",
      "       'x269'],\n",
      "      dtype='object', length=135)\n",
      "\n",
      "\n",
      "\n",
      "TRIAL: 8\n",
      "\n",
      "CLASSIFIER: LG, TREE_QUANTITY: 12, MAX_ACCURACY:0.9333333333333333\n",
      "FEATURE_QUANTITY: 80\n",
      "\n",
      "SELECTED_FEATURES: Index(['y0', 'x7', 'x11', 'x14', 'y15', 'y23', 'x27', 'y30', 'y35', 'y38',\n",
      "       'y42', 'y43', 'y56', 'y58', 'y64', 'x66', 'y67', 'y70', 'x75', 'y78',\n",
      "       'y80', 'y82', 'y87', 'y90', 'y91', 'y97', 'y98', 'x99', 'y106', 'x112',\n",
      "       'y118', 'y120', 'y121', 'y124', 'x127', 'x131', 'y135', 'x136', 'y137',\n",
      "       'y138', 'x139', 'y141', 'y143', 'y146', 'x148', 'x149', 'y149', 'y150',\n",
      "       'y152', 'y153', 'y155', 'y156', 'x158', 'y164', 'x168', 'y168', 'y170',\n",
      "       'y171', 'y173', 'x174', 'y174', 'x175', 'y175', 'y179', 'y182', 'y184',\n",
      "       'y186', 'y187', 'y188', 'y192', 'y194', 'x198', 'y200', 'y206', 'y207',\n",
      "       'y209', 'y210', 'y216', 'y221', 'x231', 'y239', 'y243', 'x244', 'y250',\n",
      "       'y252', 'y253', 'y254', 'x258', 'x266', 'x271'],\n",
      "      dtype='object')\n",
      "\n",
      "\n",
      "\n",
      "TRIAL: 9\n",
      "\n",
      "CLASSIFIER: DT, TREE_QUANTITY: 3, MAX_ACCURACY:0.8333333333333334\n",
      "FEATURE_QUANTITY: 23\n",
      "\n",
      "SELECTED_FEATURES: Index(['y12', 'y16', 'y28', 'y35', 'x77', 'y87', 'y99', 'x127', 'y128', 'y141',\n",
      "       'y142', 'x143', 'y143', 'y146', 'y162', 'y168', 'y174', 'y180', 'y197',\n",
      "       'y202', 'y208', 'x218', 'y222', 'y226', 'x240', 'x261'],\n",
      "      dtype='object')\n",
      "\n",
      "\n",
      "\n",
      "TRIAL: 10\n",
      "\n",
      "CLASSIFIER: LG, TREE_QUANTITY: 15, MAX_ACCURACY:0.9333333333333333\n",
      "FEATURE_QUANTITY: 103\n",
      "\n",
      "SELECTED_FEATURES: Index(['Perimeter_length', 'y0', 'y3', 'y6', 'x13', 'y13', 'x14', 'y14', 'y15',\n",
      "       'y18',\n",
      "       ...\n",
      "       'y246', 'y247', 'x250', 'x254', 'y256', 'x258', 'y259', 'x262', 'y262',\n",
      "       'y270'],\n",
      "      dtype='object', length=112)\n",
      "\n",
      "\n",
      "\n"
     ]
    }
   ],
   "source": [
    "## We are going to make 10 trials, and then. take the mean of 1)trees quantity and 2) accuracy percentage\n",
    "for j in (range(1, 11)):\n",
    "    max = 0\n",
    "    n_estim = 0\n",
    "    result1 = 0\n",
    "    result2 = 0\n",
    "    result3 = 0\n",
    "    classifier = \" \"\n",
    "    selected_features_final = []\n",
    "    \n",
    "    ## We are going to measure best accuracies obtained from 1 tree to 60 trees. But, we have one constrain: \n",
    "    ## we can continue computing with a superior tree quantity if with the actual tree quantity we obtain a better \n",
    "    ## accuracy regarding to the previous tree quantity.\n",
    "    for i in (range(1, 60)):\n",
    "        sel = SelectFromModel(RandomForestClassifier(n_estimators = i))\n",
    "        sel.fit(car_train_features, car_train_target)\n",
    "        # Obtain the selected features by the RandomForestClassifier\n",
    "        selectedFeaturesBoolean= sel.get_support()\n",
    "    \n",
    "        # Take the selected features from each train and test sets\n",
    "        selectedFeaturesTrainNames = car_train_features.columns[(selectedFeaturesBoolean)]\n",
    "        selectedFeaturesTestNames = car_test_features.columns[(selectedFeaturesBoolean)]\n",
    "    \n",
    "        selectedTrainData = car_train_features[selectedFeaturesTrainNames]\n",
    "        selectedTestData = car_test_features[selectedFeaturesTestNames]\n",
    "        np.array(selectedTestData).shape\n",
    "    \n",
    "        # Create the classifiers we are going to use\n",
    "        dt  = DecisionTreeClassifier()\n",
    "        lda = LinearDiscriminantAnalysis()\n",
    "        lg  = LogisticRegression(max_iter=2000)\n",
    "    \n",
    "        # Fit the classifiers with the selected features in the train set\n",
    "        dt.fit(selectedTrainData, car_train_target)\n",
    "        lda.fit(selectedTrainData, car_train_target)\n",
    "        lg.fit(selectedTrainData, car_train_target)\n",
    "    \n",
    "        # Predict labels with the selected features in the test set\n",
    "        dt_selected_prediction = dt.predict(selectedTestData)\n",
    "        lda_selected_prediction = lda.predict(selectedTestData)\n",
    "        lg_selected_prediction = lg.predict(selectedTestData)\n",
    "        \n",
    "        # If we don't obtain now a better accuracy_score comparing to \n",
    "        # the previous accuracy_score's -> stop the process\n",
    "        if (accuracy_score(car_test_target, dt_selected_prediction)  < result1 and\n",
    "            accuracy_score(car_test_target, lda_selected_prediction) < result2 and\n",
    "            accuracy_score(car_test_target, lg_selected_prediction)  < result3):\n",
    "            break; \n",
    "        else:  \n",
    "            result1 = accuracy_score(car_test_target, dt_selected_prediction)\n",
    "            result2 = accuracy_score(car_test_target, lda_selected_prediction)\n",
    "            result3 = accuracy_score(car_test_target, lg_selected_prediction)\n",
    "    \n",
    "            if (result1>max or result2>max or result3>max):\n",
    "                n_estim = i\n",
    "                selected_features_final = car_train_features.columns[(selectedFeaturesBoolean)]\n",
    "                if result1>max:\n",
    "                    max = result1\n",
    "                    classifier = \"DT\"\n",
    "                elif result2>max:\n",
    "                    max = result2\n",
    "                    classifier = \"LDA\"\n",
    "                elif result3>max:\n",
    "                    max = result3\n",
    "                    classifier = \"LG\"  \n",
    "    \n",
    "    print(\"TRIAL: \" + str(j) + \"\\n\")\n",
    "    print(\"CLASSIFIER: \" + classifier + \", \" + \"TREE_QUANTITY: \" + str(n_estim) + \", \"\n",
    "          + \"MAX_ACCURACY:\" + str(max) + \"\\n\" + \"FEATURE_QUANTITY: \" + str(len(selected_features_final)) + \"\\n\")\n",
    "    print(\"SELECTED_FEATURES: \" + str(car_train_features.columns[(selectedFeaturesBoolean)]) + \"\\n\")\n",
    "    print(\"\\n\")\n",
    "          \n",
    "          \n",
    "    #(classifier, n_estim, max, selected_features_final)\n",
    "    "
   ]
  },
  {
   "cell_type": "markdown",
   "metadata": {
    "id": "GFl8cvAKbZgQ"
   },
   "source": [
    "# 9. Feature engineering"
   ]
  },
  {
   "cell_type": "markdown",
   "metadata": {
    "id": "7BRLawoqbZgQ"
   },
   "source": [
    "# 9.1. Using PCA"
   ]
  },
  {
   "cell_type": "markdown",
   "metadata": {
    "id": "dHOyjDhubZgQ"
   },
   "source": [
    "## PCA for the plane data"
   ]
  },
  {
   "cell_type": "markdown",
   "metadata": {},
   "source": [
    "### Define and Fit"
   ]
  },
  {
   "cell_type": "code",
   "execution_count": 109,
   "metadata": {
    "id": "FVqRcvlabZgR",
    "outputId": "5cd43876-9ecf-40f9-ed26-9a6067b23eb7"
   },
   "outputs": [
    {
     "data": {
      "text/plain": [
       "PCA(n_components=3)"
      ]
     },
     "execution_count": 109,
     "metadata": {},
     "output_type": "execute_result"
    }
   ],
   "source": [
    "plane_pca = PCA(n_components=3)\n",
    "plane_pca.fit(plane_train_features)"
   ]
  },
  {
   "cell_type": "markdown",
   "metadata": {},
   "source": [
    "### Transform"
   ]
  },
  {
   "cell_type": "code",
   "execution_count": 110,
   "metadata": {
    "id": "IMThNgdMbZgV"
   },
   "outputs": [],
   "source": [
    "plane_train_features_trans = plane_pca.transform(plane_train_features)\n",
    "plane_test_features_trans = plane_pca.transform(plane_test_features)"
   ]
  },
  {
   "cell_type": "code",
   "execution_count": 111,
   "metadata": {
    "id": "taole6w5bZgX",
    "outputId": "3a9b68da-30b9-455c-f13e-dd819683d757",
    "scrolled": true
   },
   "outputs": [
    {
     "name": "stdout",
     "output_type": "stream",
     "text": [
      "(105, 1781) (105, 3)\n"
     ]
    }
   ],
   "source": [
    "print(plane_test_features.shape, plane_test_features_trans.shape)"
   ]
  },
  {
   "cell_type": "markdown",
   "metadata": {},
   "source": [
    "### Plotting"
   ]
  },
  {
   "cell_type": "code",
   "execution_count": 115,
   "metadata": {
    "id": "lmfXiaVobZgY",
    "outputId": "57199cfc-33a2-43d8-9693-79a0c090e9a3",
    "scrolled": true
   },
   "outputs": [
    {
     "data": {
      "image/png": "[encoded data removed]",
      "text/plain": [
       "<Figure size 432x288 with 1 Axes>"
      ]
     },
     "metadata": {
      "needs_background": "light"
     },
     "output_type": "display_data"
    }
   ],
   "source": [
    "fig = plt.figure()\n",
    "ax = Axes3D(fig, elev=48, azim=134)\n",
    "\n",
    "for i in range(1, 8):\n",
    "    ax.scatter(plane_test_features_trans[plane_test_target==i, 0], plane_test_features_trans[plane_test_target==i, 1], \\\n",
    "               plane_test_features_trans[plane_test_target==i, 2], label=str(i))\n",
    "\n",
    "lgnd = plt.legend()\n",
    "ax.set_xlabel('PCA dim. 1')\n",
    "ax.set_ylabel('PCA dim. 2')\n",
    "ax.set_zlabel('PCA dim. 3')\n",
    "\n",
    "for i in range(7):\n",
    "    lgnd.legendHandles[i]._sizes = [30]"
   ]
  },
  {
   "cell_type": "code",
   "execution_count": 116,
   "metadata": {
    "id": "h0sD2C3ObZga"
   },
   "outputs": [],
   "source": [
    "plt.close(fig)"
   ]
  },
  {
   "cell_type": "markdown",
   "metadata": {},
   "source": [
    "### Accuracy"
   ]
  },
  {
   "cell_type": "code",
   "execution_count": 117,
   "metadata": {
    "id": "M4R67L7ObZgd",
    "outputId": "2944c197-d7ba-4930-d632-649b83444465"
   },
   "outputs": [
    {
     "name": "stdout",
     "output_type": "stream",
     "text": [
      "Accuracy for LDA : 0.6190476190476191\n"
     ]
    }
   ],
   "source": [
    "plane_lda = LinearDiscriminantAnalysis()\n",
    "plane_lda.fit(plane_train_features_trans, plane_train_target)\n",
    "plane_lda_test_predictions = plane_lda.predict(plane_test_features_trans)\n",
    "lda_acc =  accuracy_score(plane_test_target, plane_lda_test_predictions)\n",
    "print(\"Accuracy for LDA :\", lda_acc)"
   ]
  },
  {
   "cell_type": "markdown",
   "metadata": {
    "id": "lLc8L63VbZgg"
   },
   "source": [
    "## PCA for the car data"
   ]
  },
  {
   "cell_type": "markdown",
   "metadata": {},
   "source": [
    "### Define and Fit"
   ]
  },
  {
   "cell_type": "code",
   "execution_count": 118,
   "metadata": {
    "id": "0FqTwYTkbZgg",
    "outputId": "0717c208-17f5-409f-e4dc-753a1d117010"
   },
   "outputs": [
    {
     "data": {
      "text/plain": [
       "PCA(n_components=3)"
      ]
     },
     "execution_count": 118,
     "metadata": {},
     "output_type": "execute_result"
    }
   ],
   "source": [
    "car_pca = PCA(n_components=3)\n",
    "car_pca.fit(car_train_features)"
   ]
  },
  {
   "cell_type": "markdown",
   "metadata": {},
   "source": [
    "### Transform"
   ]
  },
  {
   "cell_type": "code",
   "execution_count": 119,
   "metadata": {
    "id": "JYSFqPGgbZgi"
   },
   "outputs": [],
   "source": [
    "car_train_features_trans = car_pca.transform(car_train_features)\n",
    "car_test_features_trans = car_pca.transform(car_test_features)"
   ]
  },
  {
   "cell_type": "code",
   "execution_count": 120,
   "metadata": {
    "id": "8QecWDnObZgj",
    "outputId": "5d5ae4f5-8869-4087-947d-f6889e99d185",
    "scrolled": true
   },
   "outputs": [
    {
     "name": "stdout",
     "output_type": "stream",
     "text": [
      "(60, 545) (60, 3)\n"
     ]
    }
   ],
   "source": [
    "print(car_test_features.shape, car_test_features_trans.shape)"
   ]
  },
  {
   "cell_type": "markdown",
   "metadata": {},
   "source": [
    "### Plotting"
   ]
  },
  {
   "cell_type": "code",
   "execution_count": 121,
   "metadata": {
    "id": "zUYjnfJ4bZgl",
    "outputId": "b48e29b6-d813-462f-9933-de335efac02d",
    "scrolled": true
   },
   "outputs": [
    {
     "data": {
      "image/png": "[encoded data removed]",
      "text/plain": [
       "<Figure size 432x288 with 1 Axes>"
      ]
     },
     "metadata": {
      "needs_background": "light"
     },
     "output_type": "display_data"
    }
   ],
   "source": [
    "fig = plt.figure()\n",
    "ax = Axes3D(fig, elev=48, azim=134)\n",
    "\n",
    "for i in range(1, 5):\n",
    "    ax.scatter(car_test_features_trans[car_test_target==i, 0], car_test_features_trans[car_test_target==i, 1], \\\n",
    "               car_test_features_trans[car_test_target==i, 2], label=str(i))\n",
    "\n",
    "lgnd = plt.legend()\n",
    "ax.set_xlabel('PCA dim. 1')\n",
    "ax.set_ylabel('PCA dim. 2')\n",
    "ax.set_zlabel('PCA dim. 3')\n",
    "\n",
    "for i in range(4):\n",
    "    lgnd.legendHandles[i]._sizes = [30]"
   ]
  },
  {
   "cell_type": "code",
   "execution_count": 122,
   "metadata": {
    "id": "JLEUNx7QbZgo"
   },
   "outputs": [],
   "source": [
    "plt.close(fig)"
   ]
  },
  {
   "cell_type": "markdown",
   "metadata": {},
   "source": [
    "### Accuracy"
   ]
  },
  {
   "cell_type": "code",
   "execution_count": 123,
   "metadata": {
    "id": "cNX-ZVjPbZgr",
    "outputId": "53258bd4-33fd-4c0d-8ce7-8ca48f86c1da"
   },
   "outputs": [
    {
     "name": "stdout",
     "output_type": "stream",
     "text": [
      "Accuracy for LDA : 0.5166666666666667\n"
     ]
    }
   ],
   "source": [
    "car_lda = LinearDiscriminantAnalysis()\n",
    "car_lda.fit(car_train_features_trans, car_train_target)\n",
    "car_lda_test_predictions = car_lda.predict(car_test_features_trans)\n",
    "lda_acc =  accuracy_score(car_test_target, car_lda_test_predictions)\n",
    "print(\"Accuracy for LDA :\", lda_acc)"
   ]
  },
  {
   "cell_type": "markdown",
   "metadata": {
    "id": "1iU6h2ZKbZg_"
   },
   "source": [
    "# 9.2. Using LDA"
   ]
  },
  {
   "cell_type": "markdown",
   "metadata": {
    "id": "ujMuUkPXbZg_"
   },
   "source": [
    "## LDA for the plane data"
   ]
  },
  {
   "cell_type": "markdown",
   "metadata": {
    "id": "gzwszO3NbZg_"
   },
   "source": [
    "### Not scaling the data"
   ]
  },
  {
   "cell_type": "markdown",
   "metadata": {},
   "source": [
    "### Define and Fit"
   ]
  },
  {
   "cell_type": "code",
   "execution_count": 124,
   "metadata": {
    "id": "1r8bYMdkbZhA",
    "outputId": "cbda9687-940a-44d9-bda3-f0a5140e4d59"
   },
   "outputs": [
    {
     "data": {
      "text/plain": [
       "LinearDiscriminantAnalysis(n_components=3)"
      ]
     },
     "execution_count": 124,
     "metadata": {},
     "output_type": "execute_result"
    }
   ],
   "source": [
    "plane_lda = LinearDiscriminantAnalysis(n_components=3)\n",
    "plane_lda.fit(plane_train_features, plane_train_target)"
   ]
  },
  {
   "cell_type": "markdown",
   "metadata": {},
   "source": [
    "### Transform"
   ]
  },
  {
   "cell_type": "code",
   "execution_count": 125,
   "metadata": {
    "id": "3rHNEc4qbZhB"
   },
   "outputs": [],
   "source": [
    "plane_train_features_trans = plane_lda.transform(plane_train_features)\n",
    "plane_test_features_trans = plane_lda.transform(plane_test_features)"
   ]
  },
  {
   "cell_type": "markdown",
   "metadata": {},
   "source": [
    "### Plotting"
   ]
  },
  {
   "cell_type": "code",
   "execution_count": 126,
   "metadata": {
    "id": "fYnB82GwbZhC",
    "outputId": "e0ff716f-f466-47d5-ce54-6b368a02d29b",
    "scrolled": true
   },
   "outputs": [
    {
     "data": {
      "image/png": "[encoded data removed]",
      "text/plain": [
       "<Figure size 432x288 with 1 Axes>"
      ]
     },
     "metadata": {
      "needs_background": "light"
     },
     "output_type": "display_data"
    }
   ],
   "source": [
    "fig = plt.figure()\n",
    "ax = Axes3D(fig, elev=48, azim=134)\n",
    "\n",
    "for i in range(1, 8):\n",
    "    ax.scatter(plane_test_features_trans[plane_test_target==i, 0], plane_test_features_trans[plane_test_target==i, 1], \\\n",
    "               plane_test_features_trans[plane_test_target==i, 2], label=str(i))\n",
    "\n",
    "ax.set_xlabel('LDA dim. 1')\n",
    "ax.set_ylabel('LDA dim. 2')\n",
    "ax.set_zlabel('LDA dim. 3')\n",
    "\n",
    "lgnd = plt.legend()\n",
    "for i in range(7):\n",
    "    lgnd.legendHandles[i]._sizes = [30]"
   ]
  },
  {
   "cell_type": "code",
   "execution_count": 127,
   "metadata": {
    "id": "f0l38wvubZhE"
   },
   "outputs": [],
   "source": [
    "plt.close(fig)"
   ]
  },
  {
   "cell_type": "markdown",
   "metadata": {},
   "source": [
    "### Accuracy"
   ]
  },
  {
   "cell_type": "code",
   "execution_count": 128,
   "metadata": {
    "id": "Sn04QDT3bZhG",
    "outputId": "7c6dcf9d-46d2-402d-ab7e-eb5d81b2208e"
   },
   "outputs": [
    {
     "name": "stdout",
     "output_type": "stream",
     "text": [
      "Accuracy for LDA : 0.9333333333333333\n"
     ]
    }
   ],
   "source": [
    "plane_lda = LinearDiscriminantAnalysis()\n",
    "plane_lda.fit(plane_train_features_trans, plane_train_target)\n",
    "plane_lda_test_predictions = plane_lda.predict(plane_test_features_trans)\n",
    "lda_acc =  accuracy_score(plane_test_target, plane_lda_test_predictions)\n",
    "print(\"Accuracy for LDA :\", lda_acc)"
   ]
  },
  {
   "cell_type": "markdown",
   "metadata": {
    "id": "J4wavtaWbZhH"
   },
   "source": [
    "### Scaling the data"
   ]
  },
  {
   "cell_type": "code",
   "execution_count": 129,
   "metadata": {
    "id": "tDFxGMgUbZhH",
    "outputId": "70dc01e8-bf6e-4ce0-bb52-fe3f745b9587"
   },
   "outputs": [
    {
     "data": {
      "text/plain": [
       "LinearDiscriminantAnalysis(n_components=3)"
      ]
     },
     "execution_count": 129,
     "metadata": {},
     "output_type": "execute_result"
    }
   ],
   "source": [
    "plane_lda = LinearDiscriminantAnalysis(n_components=3)\n",
    "plane_lda.fit(plane_train_features_scaled, plane_train_target)"
   ]
  },
  {
   "cell_type": "markdown",
   "metadata": {},
   "source": [
    "### Transform"
   ]
  },
  {
   "cell_type": "code",
   "execution_count": 130,
   "metadata": {
    "id": "cOplyayjbZhJ"
   },
   "outputs": [],
   "source": [
    "plane_train_features_trans_scaled = plane_lda.transform(plane_train_features_scaled)\n",
    "plane_test_features_trans_scaled = plane_lda.transform(plane_test_features_scaled)"
   ]
  },
  {
   "cell_type": "markdown",
   "metadata": {},
   "source": [
    "### Plotting"
   ]
  },
  {
   "cell_type": "code",
   "execution_count": 131,
   "metadata": {
    "id": "zb796LJBbZhL",
    "outputId": "e87a90ed-dc9d-405d-98ab-69711a68a473"
   },
   "outputs": [
    {
     "data": {
      "image/png": "[encoded data removed]",
      "text/plain": [
       "<Figure size 432x288 with 1 Axes>"
      ]
     },
     "metadata": {
      "needs_background": "light"
     },
     "output_type": "display_data"
    }
   ],
   "source": [
    "fig = plt.figure()\n",
    "ax = Axes3D(fig, elev=48, azim=134)\n",
    "\n",
    "for i in range(1, 8):\n",
    "    ax.scatter(plane_test_features_trans_scaled[plane_test_target==i, 0], plane_test_features_trans_scaled[plane_test_target==i, 1], \\\n",
    "               plane_test_features_trans_scaled[plane_test_target==i, 2], label=str(i))\n",
    "\n",
    "ax.set_xlabel('LDA dim. 1')\n",
    "ax.set_ylabel('LDA dim. 2')\n",
    "ax.set_zlabel('LDA dim. 3')\n",
    "\n",
    "lgnd = plt.legend()\n",
    "for i in range(7):\n",
    "    lgnd.legendHandles[i]._sizes = [30]"
   ]
  },
  {
   "cell_type": "code",
   "execution_count": 132,
   "metadata": {
    "id": "QDrJDTwvbZhN"
   },
   "outputs": [],
   "source": [
    "plt.close(fig)"
   ]
  },
  {
   "cell_type": "markdown",
   "metadata": {},
   "source": [
    "### Accuracy"
   ]
  },
  {
   "cell_type": "code",
   "execution_count": 133,
   "metadata": {
    "id": "iXl2iClVbZhO",
    "outputId": "fba8c74f-0a9d-4230-f968-a81543e0c456"
   },
   "outputs": [
    {
     "name": "stdout",
     "output_type": "stream",
     "text": [
      "Accuracy for LDA : 0.9523809523809523\n"
     ]
    }
   ],
   "source": [
    "plane_lda = LinearDiscriminantAnalysis()\n",
    "plane_lda.fit(plane_train_features_trans_scaled, plane_train_target)\n",
    "plane_lda_test_predictions = plane_lda.predict(plane_test_features_trans_scaled)\n",
    "lda_acc =  accuracy_score(plane_test_target, plane_lda_test_predictions_scaled)\n",
    "print(\"Accuracy for LDA :\", lda_acc)"
   ]
  },
  {
   "cell_type": "markdown",
   "metadata": {
    "id": "I3O0V_T2bZhP"
   },
   "source": [
    "## LDA for the car data"
   ]
  },
  {
   "cell_type": "markdown",
   "metadata": {
    "id": "7DE78y3KbZhQ"
   },
   "source": [
    "### Not scaling the data"
   ]
  },
  {
   "cell_type": "code",
   "execution_count": 134,
   "metadata": {
    "id": "VcA8hrlObZhQ"
   },
   "outputs": [],
   "source": [
    "car_lda = LinearDiscriminantAnalysis(n_components=3)\n",
    "car_lda_trans = car_lda.fit(car_train_features, car_train_target)"
   ]
  },
  {
   "cell_type": "markdown",
   "metadata": {},
   "source": [
    "### Transform"
   ]
  },
  {
   "cell_type": "code",
   "execution_count": 135,
   "metadata": {
    "id": "P9-6DeRSbZhS"
   },
   "outputs": [],
   "source": [
    "car_train_features_trans = car_lda.transform(car_train_features)\n",
    "car_test_features_trans = car_lda.transform(car_test_features)"
   ]
  },
  {
   "cell_type": "markdown",
   "metadata": {},
   "source": [
    "### Plotting"
   ]
  },
  {
   "cell_type": "code",
   "execution_count": 136,
   "metadata": {
    "id": "Bz2UrYt3bZhU",
    "outputId": "1f4497e6-3aa9-467f-db2f-cb3927b28dfa",
    "scrolled": true
   },
   "outputs": [
    {
     "data": {
      "image/png": "[encoded data removed]",
      "text/plain": [
       "<Figure size 432x288 with 1 Axes>"
      ]
     },
     "metadata": {
      "needs_background": "light"
     },
     "output_type": "display_data"
    }
   ],
   "source": [
    "fig = plt.figure()\n",
    "ax = Axes3D(fig, elev=48, azim=134)\n",
    "\n",
    "for i in range(1, 5):\n",
    "    ax.scatter(car_test_features_trans[car_train_target==i, 0], car_test_features_trans[car_train_target==i, 1], \\\n",
    "               car_test_features_trans[car_train_target==i, 2], label=str(i))\n",
    "\n",
    "ax.set_xlabel('LDA dim. 1')\n",
    "ax.set_ylabel('LDA dim. 2')\n",
    "ax.set_zlabel('LDA dim. 3')\n",
    "\n",
    "lgnd = plt.legend()\n",
    "for i in range(4):\n",
    "    lgnd.legendHandles[i]._sizes = [30]"
   ]
  },
  {
   "cell_type": "code",
   "execution_count": 137,
   "metadata": {
    "id": "y6d2C05qbZhV"
   },
   "outputs": [],
   "source": [
    "plt.close(fig)"
   ]
  },
  {
   "cell_type": "markdown",
   "metadata": {},
   "source": [
    "### Accuracy"
   ]
  },
  {
   "cell_type": "code",
   "execution_count": 138,
   "metadata": {
    "id": "-7cTjluUbZhX",
    "outputId": "c9c20258-452e-4bb5-8f3e-1595cf3c225c"
   },
   "outputs": [
    {
     "name": "stdout",
     "output_type": "stream",
     "text": [
      "Accuracy for LDA : 0.9\n"
     ]
    }
   ],
   "source": [
    "car_lda = LinearDiscriminantAnalysis()\n",
    "car_lda.fit(car_train_features_trans, car_train_target)\n",
    "car_lda_test_predictions = car_lda.predict(car_test_features_trans)\n",
    "lda_acc =  accuracy_score(car_test_target, car_lda_test_predictions)\n",
    "print(\"Accuracy for LDA :\", lda_acc)"
   ]
  },
  {
   "cell_type": "markdown",
   "metadata": {
    "id": "VM4krm01bZhY"
   },
   "source": [
    "### Scaling the data"
   ]
  },
  {
   "cell_type": "code",
   "execution_count": 139,
   "metadata": {
    "id": "6Uuo3I9QbZhZ",
    "outputId": "9bf8823d-a4c7-4540-ebad-cadc5f660594"
   },
   "outputs": [
    {
     "data": {
      "text/plain": [
       "LinearDiscriminantAnalysis(n_components=3)"
      ]
     },
     "execution_count": 139,
     "metadata": {},
     "output_type": "execute_result"
    }
   ],
   "source": [
    "car_lda = LinearDiscriminantAnalysis(n_components=3)\n",
    "car_lda.fit(car_train_features_scaled, car_train_target)"
   ]
  },
  {
   "cell_type": "markdown",
   "metadata": {},
   "source": [
    "### Transform"
   ]
  },
  {
   "cell_type": "code",
   "execution_count": 140,
   "metadata": {
    "id": "hSM7ecMBbZhb"
   },
   "outputs": [],
   "source": [
    "car_train_features_trans_scaled = car_lda.transform(car_train_features_scaled)\n",
    "car_test_features_trans_scaled = car_lda.transform(car_test_features_scaled)"
   ]
  },
  {
   "cell_type": "markdown",
   "metadata": {},
   "source": [
    "### Plotting"
   ]
  },
  {
   "cell_type": "code",
   "execution_count": 141,
   "metadata": {
    "id": "iNtXz8A2bZhc",
    "outputId": "f0c2c950-7bd5-4d49-ffe4-57ddbf56e015"
   },
   "outputs": [
    {
     "data": {
      "image/png": "[encoded data removed]",
      "text/plain": [
       "<Figure size 432x288 with 1 Axes>"
      ]
     },
     "metadata": {
      "needs_background": "light"
     },
     "output_type": "display_data"
    }
   ],
   "source": [
    "fig = plt.figure()\n",
    "ax = Axes3D(fig, elev=48, azim=134)\n",
    "\n",
    "for i in range(1, 8):\n",
    "    ax.scatter(car_test_features_trans_scaled[car_test_target==i, 0], car_test_features_trans_scaled[car_test_target==i, 1], \\\n",
    "               car_test_features_trans_scaled[car_test_target==i, 2], label=str(i))\n",
    "\n",
    "ax.set_xlabel('LDA dim. 1')\n",
    "ax.set_ylabel('LDA dim. 2')\n",
    "ax.set_zlabel('LDA dim. 3')\n",
    "\n",
    "lgnd = plt.legend()\n",
    "for i in range(7):\n",
    "    lgnd.legendHandles[i]._sizes = [30]"
   ]
  },
  {
   "cell_type": "code",
   "execution_count": 142,
   "metadata": {
    "id": "mml3wW0PbZhe"
   },
   "outputs": [],
   "source": [
    "plt.close(fig)"
   ]
  },
  {
   "cell_type": "markdown",
   "metadata": {},
   "source": [
    "### Accuracy"
   ]
  },
  {
   "cell_type": "code",
   "execution_count": 143,
   "metadata": {
    "id": "vyDH8e9ubZhf",
    "outputId": "8ae3a627-1540-4fd0-a6f6-903a7c61a6b5"
   },
   "outputs": [
    {
     "name": "stdout",
     "output_type": "stream",
     "text": [
      "Accuracy for LDA : 0.9\n"
     ]
    }
   ],
   "source": [
    "car_lda = LinearDiscriminantAnalysis()\n",
    "car_lda.fit(car_train_features_trans_scaled, car_train_target)\n",
    "car_lda_test_predictions_scaled = car_lda.predict(car_test_features_trans_scaled)\n",
    "lda_acc =  accuracy_score(car_test_target, car_lda_test_predictions_scaled)\n",
    "print(\"Accuracy for LDA :\", lda_acc)"
   ]
  },
  {
   "cell_type": "markdown",
   "metadata": {
    "id": "6bHQOneGbZhh"
   },
   "source": [
    "# 10. Pipeline Optimization\n",
    "We use TPOT to generate an optimal pipeline to compare its accuracy with ours. This way we can know how good our classifiers are."
   ]
  },
  {
   "cell_type": "markdown",
   "metadata": {
    "id": "DXW2YB5TbZhh"
   },
   "source": [
    "## 10.1. TPOT for the plane data"
   ]
  },
  {
   "cell_type": "markdown",
   "metadata": {},
   "source": [
    "### Fit"
   ]
  },
  {
   "cell_type": "code",
   "execution_count": 143,
   "metadata": {
    "id": "PB9wOb63bZhh",
    "outputId": "4c5532c6-3a9c-4ccb-a746-5d4f72ee785a"
   },
   "outputs": [
    {
     "name": "stdout",
     "output_type": "stream",
     "text": [
      "Warning: xgboost.XGBClassifier is not available and will not be used by TPOT.\n"
     ]
    },
    {
     "data": {
      "application/vnd.jupyter.widget-view+json": {
       "model_id": "",
       "version_major": 2,
       "version_minor": 0
      },
      "text/plain": [
       "HBox(children=(HTML(value='Optimization Progress'), FloatProgress(value=0.0, max=60.0), HTML(value='')))"
      ]
     },
     "metadata": {},
     "output_type": "display_data"
    },
    {
     "name": "stdout",
     "output_type": "stream",
     "text": [
      "\n",
      "Generation 1 - Current best internal CV score: 0.7714285714285715\n",
      "Generation 2 - Current best internal CV score: 0.9047619047619048\n",
      "Generation 3 - Current best internal CV score: 0.9047619047619048\n",
      "Generation 4 - Current best internal CV score: 0.9523809523809523\n",
      "Generation 5 - Current best internal CV score: 0.9523809523809523\n",
      "Best pipeline: ExtraTreesClassifier(LinearSVC(input_matrix, C=5.0, dual=True, loss=squared_hinge, penalty=l2, tol=0.001), bootstrap=False, criterion=entropy, max_features=0.8500000000000001, min_samples_leaf=11, min_samples_split=10, n_estimators=100)\n"
     ]
    },
    {
     "data": {
      "text/plain": [
       "[('stackingestimator',\n",
       "  StackingEstimator(estimator=LinearSVC(C=5.0, random_state=16, tol=0.001))),\n",
       " ('extratreesclassifier',\n",
       "  ExtraTreesClassifier(criterion='entropy', max_features=0.8500000000000001,\n",
       "                       min_samples_leaf=11, min_samples_split=10,\n",
       "                       random_state=16))]"
      ]
     },
     "execution_count": 143,
     "metadata": {},
     "output_type": "execute_result"
    }
   ],
   "source": [
    "plane_tpot = TPOTClassifier(generations=5, population_size=10, verbosity=2, random_state=16)\n",
    "plane_tpot.fit(plane_train_features, plane_train_target)\n",
    "plane_tpot.fitted_pipeline_.steps"
   ]
  },
  {
   "cell_type": "markdown",
   "metadata": {},
   "source": [
    "### Accuracy"
   ]
  },
  {
   "cell_type": "code",
   "execution_count": 144,
   "metadata": {
    "id": "sfkEkbJBbZhm"
   },
   "outputs": [
    {
     "name": "stdout",
     "output_type": "stream",
     "text": [
      "The test accuracy obtained by tpot classification problem is: 0.9238095238095239\n"
     ]
    }
   ],
   "source": [
    "plane_tpot_test_accuracy = plane_tpot.score(plane_test_features, plane_test_target)\n",
    "print('The test accuracy obtained by tpot classification problem is:', plane_tpot_test_accuracy)"
   ]
  },
  {
   "cell_type": "markdown",
   "metadata": {
    "id": "8_92p-LpbZho"
   },
   "source": [
    "## 10.2. TPOT for the car data"
   ]
  },
  {
   "cell_type": "markdown",
   "metadata": {},
   "source": [
    "### Fit"
   ]
  },
  {
   "cell_type": "code",
   "execution_count": 145,
   "metadata": {
    "id": "ITMtBK5qbZho"
   },
   "outputs": [
    {
     "name": "stdout",
     "output_type": "stream",
     "text": [
      "Warning: xgboost.XGBClassifier is not available and will not be used by TPOT.\n"
     ]
    },
    {
     "data": {
      "application/vnd.jupyter.widget-view+json": {
       "model_id": "",
       "version_major": 2,
       "version_minor": 0
      },
      "text/plain": [
       "HBox(children=(HTML(value='Optimization Progress'), FloatProgress(value=0.0, max=60.0), HTML(value='')))"
      ]
     },
     "metadata": {},
     "output_type": "display_data"
    },
    {
     "name": "stdout",
     "output_type": "stream",
     "text": [
      "\n",
      "Generation 1 - Current best internal CV score: 0.8\n",
      "Generation 2 - Current best internal CV score: 0.8\n",
      "Generation 3 - Current best internal CV score: 0.8\n",
      "Generation 4 - Current best internal CV score: 0.8\n",
      "Generation 5 - Current best internal CV score: 0.8\n",
      "Best pipeline: GradientBoostingClassifier(input_matrix, learning_rate=0.5, max_depth=4, max_features=0.4, min_samples_leaf=8, min_samples_split=8, n_estimators=100, subsample=0.5)\n"
     ]
    },
    {
     "data": {
      "text/plain": [
       "[('gradientboostingclassifier',\n",
       "  GradientBoostingClassifier(learning_rate=0.5, max_depth=4, max_features=0.4,\n",
       "                             min_samples_leaf=8, min_samples_split=8,\n",
       "                             random_state=16, subsample=0.5))]"
      ]
     },
     "execution_count": 145,
     "metadata": {},
     "output_type": "execute_result"
    }
   ],
   "source": [
    "car_tpot = TPOTClassifier(generations=5, population_size=10, verbosity=2, random_state=16)\n",
    "car_tpot.fit(car_train_features, car_train_target)\n",
    "car_tpot.fitted_pipeline_.steps"
   ]
  },
  {
   "cell_type": "markdown",
   "metadata": {},
   "source": [
    "### Accuracy"
   ]
  },
  {
   "cell_type": "code",
   "execution_count": 146,
   "metadata": {
    "id": "IBag9rJIbZhr",
    "outputId": "f37deca1-6d74-4355-eff1-4ea2e4a44091",
    "scrolled": true
   },
   "outputs": [
    {
     "name": "stdout",
     "output_type": "stream",
     "text": [
      "The test accuracy obtained by tpot classification problem is: 0.8166666666666667\n"
     ]
    }
   ],
   "source": [
    "car_tpot_test_accuracy = car_tpot.score(car_test_features, car_test_target)\n",
    "print('The test accuracy obtained by tpot classification problem is:', car_tpot_test_accuracy)"
   ]
  }
 ],
 "metadata": {
  "colab": {
   "name": "P59_Shape_Classification_ML_D2.ipynb",
   "provenance": [],
   "toc_visible": true
  },
  "kernelspec": {
   "display_name": "Python 3",
   "language": "python",
   "name": "python3"
  },
  "language_info": {
   "codemirror_mode": {
    "name": "ipython",
    "version": 3
   },
   "file_extension": ".py",
   "mimetype": "text/x-python",
   "name": "python",
   "nbconvert_exporter": "python",
   "pygments_lexer": "ipython3",
   "version": "3.6.9"
  }
 },
 "nbformat": 4,
 "nbformat_minor": 4
}
